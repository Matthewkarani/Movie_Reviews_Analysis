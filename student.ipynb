{
 "cells": [
  {
   "cell_type": "markdown",
   "metadata": {},
   "source": [
    "## Final Project Submission\n",
    "\n",
    "Please fill out:\n",
    "* Student name: Innocent Mbuvi \n",
    "* Student pace: full time\n",
    "* Scheduled project review date/time: \n",
    "* Instructor name: \n",
    "* Blog post URL:\n"
   ]
  },
  {
   "cell_type": "markdown",
   "metadata": {},
   "source": [
    "# Data-Driven Decision Making: Empowering Microsoft's Movie Studio Venture"
   ]
  },
  {
   "cell_type": "markdown",
   "metadata": {},
   "source": [
    "# 1. Business Understanding\n",
    "\n",
    "## Introduction\n",
    "In a bid to diversify its portfolio and tap into the entertainment industry, Microsoft has embarked on a new venture to create a new movie studio. However, due to the lack of expertise in the realm of film production, Microsoft seeks to leverage data-driven insights from successful films at the box office. As a data analyst, I have been tasked with analyzing the movie industry data to provide actionable insights that will help Microsoft make informed decisions on the types of movies to produce.\n",
    "\n",
    "## Business Problem\n",
    "Microsoft sees the potential of the creating original video content and has decided to create a new movie studio. However, they lack the expertise in the film industry and are looking for data-driven insights to help them make informed decisions on the types of movies to produce. The goal of this analysis is to provide actionable insights that will help Microsoft maximize their return on investment and increase their chances of success in the movie industry.\n",
    "\n",
    "## Objectives\n",
    "The objectives of this analysis are to:\n",
    "- Identify the most successful genres at the box office.\n",
    "- Determine the most successful months for movie releases.\n",
    "- Identify the most successful directors and actors.\n",
    "- Identify the most successful production companies.\n",
    "- Determine the relationship between movie budgets and box office revenue.\n",
    "- Determine the relationship between production companies and box office revenue.\n",
    "- Determine the relationship between directors and box office revenue.\n",
    "- Determine the relationship between actors and box office revenue.\n",
    "- Determine the relationship between genres and box office revenue.\n",
    "- Determine the relationship between release months and box office revenue.\n",
    "\n",
    "## Business Value\n",
    "The insights from this analysis will help Microsoft make informed decisions on the types of movies to produce, the best time to release movies, the best directors and actors to work with, and the best production companies to partner with. This will help Microsoft maximize their return on investment and increase their chances of success in the movie industry.\n",
    "\n",
    "## Source of Data\n",
    "1. https://www.boxofficemojo.com/\n",
    "2. https://www.imdb.com/\n",
    "3. https://www.rottentomatoes.com/\n",
    "4. https://www.themoviedb.org/\n",
    "5. https://www.the-numbers.com/\n",
    "\n",
    "\n",
    "\n"
   ]
  },
  {
   "cell_type": "markdown",
   "metadata": {},
   "source": [
    "# 2. Data Understanding\n",
    "In this section, the following will be carried out:\n",
    "- Load the data and explore it to understand its structure and contents.\n",
    "- Check for missing values and duplicates.\n",
    "- Identify the relevant data for our analysis. "
   ]
  },
  {
   "cell_type": "markdown",
   "metadata": {},
   "source": [
    "### Importing the necesary libraries and loading the data\n"
   ]
  },
  {
   "cell_type": "code",
   "execution_count": 428,
   "metadata": {},
   "outputs": [],
   "source": [
    "#Importing necessary libraries\n",
    "import csv\n",
    "import pandas as pd\n",
    "import _sqlite3"
   ]
  },
  {
   "cell_type": "code",
   "execution_count": 429,
   "metadata": {},
   "outputs": [],
   "source": [
    "#LOADING THE DATA\n",
    "\n",
    "#Loading the data from the csv file\n",
    "box_office = pd.read_csv('data/bom.movie_gross.csv')\n",
    "the_movie = pd.read_csv('data/tmdb.movies.csv')\n",
    "the_number = pd.read_csv('data/tn.movie_budgets.csv')\n",
    "\n",
    "#Loading the data from the tsv file\n",
    "rotten_tomatoes_movie = pd.read_csv('data/rt.movie_info.tsv', delimiter='\\t')\n",
    "rotten_tomatoes_review = pd.read_csv('data/rt.reviews.tsv', delimiter='\\t', encoding='latin1')\n",
    "\n",
    "#Loading data from a database\n",
    "#Connecting to the database\n",
    "conn = _sqlite3.connect('data/im.db')"
   ]
  },
  {
   "cell_type": "markdown",
   "metadata": {},
   "source": [
    "## Explore Data Characteristics"
   ]
  },
  {
   "cell_type": "markdown",
   "metadata": {},
   "source": [
    "## a. Box Office Mojo"
   ]
  },
  {
   "cell_type": "code",
   "execution_count": 430,
   "metadata": {},
   "outputs": [
    {
     "data": {
      "text/plain": [
       "Index(['title', 'studio', 'domestic_gross', 'foreign_gross', 'year'], dtype='object')"
      ]
     },
     "execution_count": 430,
     "metadata": {},
     "output_type": "execute_result"
    }
   ],
   "source": [
    "# columns in the data\n",
    "box_office.columns"
   ]
  },
  {
   "cell_type": "code",
   "execution_count": 431,
   "metadata": {},
   "outputs": [
    {
     "data": {
      "text/plain": [
       "\"'\\nThe data contains 5 columns. The columns are:\\n- title\\n- studio\\n- domestic_gross\\n- foreign_gross\\n- year\\n\""
      ]
     },
     "execution_count": 431,
     "metadata": {},
     "output_type": "execute_result"
    }
   ],
   "source": [
    "''''\n",
    "The data contains 5 columns. The columns are:\n",
    "- title\n",
    "- studio\n",
    "- domestic_gross\n",
    "- foreign_gross\n",
    "- year\n",
    "'''"
   ]
  },
  {
   "cell_type": "code",
   "execution_count": 432,
   "metadata": {},
   "outputs": [
    {
     "name": "stdout",
     "output_type": "stream",
     "text": [
      "<class 'pandas.core.frame.DataFrame'>\n",
      "RangeIndex: 3387 entries, 0 to 3386\n",
      "Data columns (total 5 columns):\n",
      " #   Column          Non-Null Count  Dtype  \n",
      "---  ------          --------------  -----  \n",
      " 0   title           3387 non-null   object \n",
      " 1   studio          3382 non-null   object \n",
      " 2   domestic_gross  3359 non-null   float64\n",
      " 3   foreign_gross   2037 non-null   object \n",
      " 4   year            3387 non-null   int64  \n",
      "dtypes: float64(1), int64(1), object(3)\n",
      "memory usage: 132.4+ KB\n"
     ]
    }
   ],
   "source": [
    "# Data types of the columns and total number of entries\n",
    "box_office.info()"
   ]
  },
  {
   "cell_type": "code",
   "execution_count": 433,
   "metadata": {},
   "outputs": [
    {
     "data": {
      "text/plain": [
       "'\\nThe various data types are: \\n- object - title, studio, foreign_gross\\n- int64 - year\\n- float64 - domestic_gross\\n\\nThe total number of entries is 3387\\n'"
      ]
     },
     "execution_count": 433,
     "metadata": {},
     "output_type": "execute_result"
    }
   ],
   "source": [
    "'''\n",
    "The various data types are: \n",
    "- object - title, studio, foreign_gross\n",
    "- int64 - year\n",
    "- float64 - domestic_gross\n",
    "\n",
    "The total number of entries is 3387\n",
    "'''"
   ]
  },
  {
   "cell_type": "code",
   "execution_count": 434,
   "metadata": {},
   "outputs": [
    {
     "name": "stdout",
     "output_type": "stream",
     "text": [
      "title                0\n",
      "studio               5\n",
      "domestic_gross      28\n",
      "foreign_gross     1350\n",
      "year                 0\n",
      "dtype: int64\n"
     ]
    }
   ],
   "source": [
    "# Checking for missing values\n",
    "null_values = box_office.isnull()\n",
    "print(null_values.sum())"
   ]
  },
  {
   "cell_type": "code",
   "execution_count": 435,
   "metadata": {},
   "outputs": [
    {
     "data": {
      "text/plain": [
       "'\\nThere are a total of 1383 missing values.\\nstudio has 5 missing values\\nforeign_gross has 1350 missing values\\ndomestic_gross has 28 missing values\\n\\n'"
      ]
     },
     "execution_count": 435,
     "metadata": {},
     "output_type": "execute_result"
    }
   ],
   "source": [
    "'''\n",
    "There are a total of 1383 missing values.\n",
    "studio has 5 missing values\n",
    "foreign_gross has 1350 missing values\n",
    "domestic_gross has 28 missing values\n",
    "\n",
    "'''"
   ]
  },
  {
   "cell_type": "code",
   "execution_count": 436,
   "metadata": {},
   "outputs": [
    {
     "name": "stdout",
     "output_type": "stream",
     "text": [
      "0\n"
     ]
    }
   ],
   "source": [
    "#Checking for duplicates\n",
    "duplicates = box_office.duplicated()\n",
    "print(duplicates.sum())"
   ]
  },
  {
   "cell_type": "code",
   "execution_count": 437,
   "metadata": {},
   "outputs": [
    {
     "data": {
      "text/plain": [
       "'\\nThere are no duplicates in the data.\\n'"
      ]
     },
     "execution_count": 437,
     "metadata": {},
     "output_type": "execute_result"
    }
   ],
   "source": [
    "'''\n",
    "There are no duplicates in the data.\n",
    "'''"
   ]
  },
  {
   "cell_type": "markdown",
   "metadata": {},
   "source": [
    "## b. IMDB "
   ]
  },
  {
   "cell_type": "code",
   "execution_count": 438,
   "metadata": {},
   "outputs": [
    {
     "data": {
      "text/html": [
       "<div>\n",
       "<style scoped>\n",
       "    .dataframe tbody tr th:only-of-type {\n",
       "        vertical-align: middle;\n",
       "    }\n",
       "\n",
       "    .dataframe tbody tr th {\n",
       "        vertical-align: top;\n",
       "    }\n",
       "\n",
       "    .dataframe thead th {\n",
       "        text-align: right;\n",
       "    }\n",
       "</style>\n",
       "<table border=\"1\" class=\"dataframe\">\n",
       "  <thead>\n",
       "    <tr style=\"text-align: right;\">\n",
       "      <th></th>\n",
       "      <th>name</th>\n",
       "    </tr>\n",
       "  </thead>\n",
       "  <tbody>\n",
       "    <tr>\n",
       "      <th>0</th>\n",
       "      <td>movie_basics</td>\n",
       "    </tr>\n",
       "    <tr>\n",
       "      <th>1</th>\n",
       "      <td>directors</td>\n",
       "    </tr>\n",
       "    <tr>\n",
       "      <th>2</th>\n",
       "      <td>known_for</td>\n",
       "    </tr>\n",
       "    <tr>\n",
       "      <th>3</th>\n",
       "      <td>movie_akas</td>\n",
       "    </tr>\n",
       "    <tr>\n",
       "      <th>4</th>\n",
       "      <td>movie_ratings</td>\n",
       "    </tr>\n",
       "    <tr>\n",
       "      <th>5</th>\n",
       "      <td>persons</td>\n",
       "    </tr>\n",
       "    <tr>\n",
       "      <th>6</th>\n",
       "      <td>principals</td>\n",
       "    </tr>\n",
       "    <tr>\n",
       "      <th>7</th>\n",
       "      <td>writers</td>\n",
       "    </tr>\n",
       "  </tbody>\n",
       "</table>\n",
       "</div>"
      ],
      "text/plain": [
       "            name\n",
       "0   movie_basics\n",
       "1      directors\n",
       "2      known_for\n",
       "3     movie_akas\n",
       "4  movie_ratings\n",
       "5        persons\n",
       "6     principals\n",
       "7        writers"
      ]
     },
     "execution_count": 438,
     "metadata": {},
     "output_type": "execute_result"
    }
   ],
   "source": [
    "# Fetch table names from the database\n",
    "table_names = pd.read_sql('SELECT name FROM sqlite_master WHERE type=\"table\";', conn)\n",
    "table_names"
   ]
  },
  {
   "cell_type": "code",
   "execution_count": 439,
   "metadata": {},
   "outputs": [
    {
     "data": {
      "text/plain": [
       "' \\nThe database contains the following tables which are:\\n- movie_basics\\n- directors\\n- known_for\\n- movie_akas\\n- movie_ratings\\n- persons\\n- principals\\n- writers\\n'"
      ]
     },
     "execution_count": 439,
     "metadata": {},
     "output_type": "execute_result"
    }
   ],
   "source": [
    "''' \n",
    "The database contains the following tables which are:\n",
    "- movie_basics\n",
    "- directors\n",
    "- known_for\n",
    "- movie_akas\n",
    "- movie_ratings\n",
    "- persons\n",
    "- principals\n",
    "- writers\n",
    "'''"
   ]
  },
  {
   "cell_type": "code",
   "execution_count": 440,
   "metadata": {},
   "outputs": [],
   "source": [
    "#Store data in the database into a dataframe for easy identification of null values\n",
    "query_movie_basics = '''\n",
    "SELECT * FROM movie_basics\n",
    "'''\n",
    "movie_basics = pd.read_sql(query_movie_basics, conn)\n",
    "movie_basics\n",
    "\n",
    "query_directors = '''\n",
    "SELECT * FROM directors\n",
    "'''\n",
    "directors = pd.read_sql(query_directors, conn)\n",
    "\n",
    "query_known_for = '''\n",
    "SELECT * FROM known_for\n",
    "'''\n",
    "known_for = pd.read_sql(query_known_for, conn)\n",
    "\n",
    "query_movie_akas = '''\n",
    "SELECT * FROM movie_akas\n",
    "'''\n",
    "movie_akas = pd.read_sql(query_movie_akas, conn)\n",
    "\n",
    "query_movie_ratings = '''\n",
    "SELECT * FROM movie_ratings\n",
    "'''\n",
    "movie_ratings = pd.read_sql(query_movie_ratings, conn)\n",
    "\n",
    "query_persons = '''\n",
    "SELECT * FROM persons\n",
    "'''\n",
    "persons = pd.read_sql(query_persons, conn)\n",
    "\n",
    "query_principals = '''\n",
    "SELECT * FROM principals\n",
    "'''\n",
    "principals = pd.read_sql(query_principals, conn)\n",
    "\n",
    "query_writers = '''\n",
    "SELECT * FROM writers\n",
    "'''\n",
    "writers = pd.read_sql(query_writers, conn)"
   ]
  },
  {
   "cell_type": "code",
   "execution_count": 441,
   "metadata": {},
   "outputs": [
    {
     "name": "stdout",
     "output_type": "stream",
     "text": [
      "movie_id               0\n",
      "primary_title          0\n",
      "original_title        21\n",
      "start_year             0\n",
      "runtime_minutes    31739\n",
      "genres              5408\n",
      "dtype: int64\n"
     ]
    }
   ],
   "source": [
    "#Check for missing values in movie_basics table\n",
    "null_values_movie_basics = movie_basics.isnull()\n",
    "print(null_values_movie_basics.sum())"
   ]
  },
  {
   "cell_type": "code",
   "execution_count": 442,
   "metadata": {},
   "outputs": [
    {
     "name": "stdout",
     "output_type": "stream",
     "text": [
      "movie_id     0\n",
      "person_id    0\n",
      "dtype: int64\n"
     ]
    }
   ],
   "source": [
    "#Check for missing values in directors table\n",
    "null_values_directors = directors.isnull()\n",
    "print(null_values_directors.sum())"
   ]
  },
  {
   "cell_type": "code",
   "execution_count": 443,
   "metadata": {},
   "outputs": [
    {
     "data": {
      "text/plain": [
       "'There are no missing values in the directors table'"
      ]
     },
     "execution_count": 443,
     "metadata": {},
     "output_type": "execute_result"
    }
   ],
   "source": [
    "'There are no missing values in the directors table'"
   ]
  },
  {
   "cell_type": "code",
   "execution_count": 444,
   "metadata": {},
   "outputs": [
    {
     "name": "stdout",
     "output_type": "stream",
     "text": [
      "person_id    0\n",
      "movie_id     0\n",
      "dtype: int64\n"
     ]
    }
   ],
   "source": [
    "#Check for missing values in known_for table\n",
    "null_values_known_for = known_for.isnull()\n",
    "print(null_values_known_for.sum())"
   ]
  },
  {
   "cell_type": "code",
   "execution_count": 445,
   "metadata": {},
   "outputs": [
    {
     "data": {
      "text/plain": [
       "'There are no missing values in the known_for table'"
      ]
     },
     "execution_count": 445,
     "metadata": {},
     "output_type": "execute_result"
    }
   ],
   "source": [
    "'There are no missing values in the known_for table'\n",
    "\n"
   ]
  },
  {
   "cell_type": "code",
   "execution_count": 446,
   "metadata": {},
   "outputs": [
    {
     "name": "stdout",
     "output_type": "stream",
     "text": [
      "movie_id                  0\n",
      "ordering                  0\n",
      "title                     0\n",
      "region                53293\n",
      "language             289988\n",
      "types                163256\n",
      "attributes           316778\n",
      "is_original_title        25\n",
      "dtype: int64\n"
     ]
    }
   ],
   "source": [
    "#Check for missing values in movie_akas table\n",
    "null_values_movie_akas = movie_akas.isnull()\n",
    "print(null_values_movie_akas.sum())"
   ]
  },
  {
   "cell_type": "code",
   "execution_count": 447,
   "metadata": {},
   "outputs": [
    {
     "data": {
      "text/plain": [
       "'\\nThe movie_akas table has the following missing values:\\n- region - 53293\\n- language - 289988\\n- types - 163256\\n- attributes - 316778\\n- is_original_title - 25\\n'"
      ]
     },
     "execution_count": 447,
     "metadata": {},
     "output_type": "execute_result"
    }
   ],
   "source": [
    "'''\n",
    "The movie_akas table has the following missing values:\n",
    "- region - 53293\n",
    "- language - 289988\n",
    "- types - 163256\n",
    "- attributes - 316778\n",
    "- is_original_title - 25\n",
    "'''"
   ]
  },
  {
   "cell_type": "code",
   "execution_count": 448,
   "metadata": {},
   "outputs": [
    {
     "name": "stdout",
     "output_type": "stream",
     "text": [
      "movie_id         0\n",
      "averagerating    0\n",
      "numvotes         0\n",
      "dtype: int64\n"
     ]
    }
   ],
   "source": [
    "#Check for missing values in movie_ratings table\n",
    "null_values_movie_ratings = movie_ratings.isnull()\n",
    "print(null_values_movie_ratings.sum())"
   ]
  },
  {
   "cell_type": "code",
   "execution_count": 449,
   "metadata": {},
   "outputs": [
    {
     "data": {
      "text/plain": [
       "'There are no missing values in the movie_ratings table'"
      ]
     },
     "execution_count": 449,
     "metadata": {},
     "output_type": "execute_result"
    }
   ],
   "source": [
    "'There are no missing values in the movie_ratings table'"
   ]
  },
  {
   "cell_type": "code",
   "execution_count": 450,
   "metadata": {},
   "outputs": [
    {
     "name": "stdout",
     "output_type": "stream",
     "text": [
      "person_id                  0\n",
      "primary_name               0\n",
      "birth_year            523912\n",
      "death_year            599865\n",
      "primary_profession     51340\n",
      "dtype: int64\n"
     ]
    }
   ],
   "source": [
    "#Check for missing values in persons table\n",
    "null_values_persons = persons.isnull()\n",
    "print(null_values_persons.sum())\n"
   ]
  },
  {
   "cell_type": "code",
   "execution_count": 451,
   "metadata": {},
   "outputs": [
    {
     "data": {
      "text/plain": [
       "'\\nThe persons table has the following missing values:\\n- birth_year - 523912\\n- death_year - 599865\\n- primary_profession - 51340\\n'"
      ]
     },
     "execution_count": 451,
     "metadata": {},
     "output_type": "execute_result"
    }
   ],
   "source": [
    "'''\n",
    "The persons table has the following missing values:\n",
    "- birth_year - 523912\n",
    "- death_year - 599865\n",
    "- primary_profession - 51340\n",
    "'''"
   ]
  },
  {
   "cell_type": "code",
   "execution_count": 452,
   "metadata": {},
   "outputs": [
    {
     "name": "stdout",
     "output_type": "stream",
     "text": [
      "movie_id           0\n",
      "ordering           0\n",
      "person_id          0\n",
      "category           0\n",
      "job           850502\n",
      "characters    634826\n",
      "dtype: int64\n"
     ]
    }
   ],
   "source": [
    "#Check for missing values in principals table\n",
    "null_values_principals = principals.isnull()\n",
    "print(null_values_principals.sum())"
   ]
  },
  {
   "cell_type": "code",
   "execution_count": 453,
   "metadata": {},
   "outputs": [
    {
     "data": {
      "text/plain": [
       "'\\nThe principals table has the following missing values:\\n- job - 850502\\n- characters - 634826\\n'"
      ]
     },
     "execution_count": 453,
     "metadata": {},
     "output_type": "execute_result"
    }
   ],
   "source": [
    "'''\n",
    "The principals table has the following missing values:\n",
    "- job - 850502\n",
    "- characters - 634826\n",
    "'''"
   ]
  },
  {
   "cell_type": "code",
   "execution_count": 454,
   "metadata": {},
   "outputs": [
    {
     "name": "stdout",
     "output_type": "stream",
     "text": [
      "movie_id     0\n",
      "person_id    0\n",
      "dtype: int64\n"
     ]
    }
   ],
   "source": [
    "#Check for missing values in writers table\n",
    "null_values_writers = writers.isnull()\n",
    "print(null_values_writers.sum())"
   ]
  },
  {
   "cell_type": "code",
   "execution_count": 455,
   "metadata": {},
   "outputs": [
    {
     "data": {
      "text/plain": [
       "'\\nThe writers table has no missing values:\\n\\n'"
      ]
     },
     "execution_count": 455,
     "metadata": {},
     "output_type": "execute_result"
    }
   ],
   "source": [
    "'''\n",
    "The writers table has no missing values:\n",
    "\n",
    "'''"
   ]
  },
  {
   "cell_type": "markdown",
   "metadata": {},
   "source": [
    "## c. Rotten Tomatoes"
   ]
  },
  {
   "cell_type": "code",
   "execution_count": 456,
   "metadata": {},
   "outputs": [
    {
     "data": {
      "text/plain": [
       "Index(['id', 'synopsis', 'rating', 'genre', 'director', 'writer',\n",
       "       'theater_date', 'dvd_date', 'currency', 'box_office', 'runtime',\n",
       "       'studio'],\n",
       "      dtype='object')"
      ]
     },
     "execution_count": 456,
     "metadata": {},
     "output_type": "execute_result"
    }
   ],
   "source": [
    "# Columns in the dataset\n",
    "rotten_tomatoes_movie.columns"
   ]
  },
  {
   "cell_type": "code",
   "execution_count": 457,
   "metadata": {},
   "outputs": [
    {
     "data": {
      "text/plain": [
       "'\\nColumns in the rotten_tomatoes_movie dataset are:\\n- id\\n- synopsis\\n- rating\\n- genre\\n- director\\n- writer\\n- theater_date\\n- dvd_date\\n- currency\\n- box_office\\n- runtime\\n\\n'"
      ]
     },
     "execution_count": 457,
     "metadata": {},
     "output_type": "execute_result"
    }
   ],
   "source": [
    "'''\n",
    "Columns in the rotten_tomatoes_movie dataset are:\n",
    "- id\n",
    "- synopsis\n",
    "- rating\n",
    "- genre\n",
    "- director\n",
    "- writer\n",
    "- theater_date\n",
    "- dvd_date\n",
    "- currency\n",
    "- box_office\n",
    "- runtime\n",
    "\n",
    "'''"
   ]
  },
  {
   "cell_type": "code",
   "execution_count": 458,
   "metadata": {},
   "outputs": [
    {
     "name": "stdout",
     "output_type": "stream",
     "text": [
      "<class 'pandas.core.frame.DataFrame'>\n",
      "RangeIndex: 1560 entries, 0 to 1559\n",
      "Data columns (total 12 columns):\n",
      " #   Column        Non-Null Count  Dtype \n",
      "---  ------        --------------  ----- \n",
      " 0   id            1560 non-null   int64 \n",
      " 1   synopsis      1498 non-null   object\n",
      " 2   rating        1557 non-null   object\n",
      " 3   genre         1552 non-null   object\n",
      " 4   director      1361 non-null   object\n",
      " 5   writer        1111 non-null   object\n",
      " 6   theater_date  1201 non-null   object\n",
      " 7   dvd_date      1201 non-null   object\n",
      " 8   currency      340 non-null    object\n",
      " 9   box_office    340 non-null    object\n",
      " 10  runtime       1530 non-null   object\n",
      " 11  studio        494 non-null    object\n",
      "dtypes: int64(1), object(11)\n",
      "memory usage: 146.4+ KB\n"
     ]
    }
   ],
   "source": [
    "# Data types of the columns and total number of entries\n",
    "rotten_tomatoes_movie.info()"
   ]
  },
  {
   "cell_type": "code",
   "execution_count": 459,
   "metadata": {},
   "outputs": [
    {
     "data": {
      "text/plain": [
       "'\\nThis dataset has the following data types:\\n- int64 - id\\n- object - synopsis, rating, genre, director, writer, theater_date, dvd_date, currency, box_office\\n\\nThe total number of entries is 1560\\n'"
      ]
     },
     "execution_count": 459,
     "metadata": {},
     "output_type": "execute_result"
    }
   ],
   "source": [
    "'''\n",
    "This dataset has the following data types:\n",
    "- int64 - id\n",
    "- object - synopsis, rating, genre, director, writer, theater_date, dvd_date, currency, box_office\n",
    "\n",
    "The total number of entries is 1560\n",
    "'''"
   ]
  },
  {
   "cell_type": "code",
   "execution_count": 460,
   "metadata": {},
   "outputs": [
    {
     "name": "stdout",
     "output_type": "stream",
     "text": [
      "id                 0\n",
      "synopsis          62\n",
      "rating             3\n",
      "genre              8\n",
      "director         199\n",
      "writer           449\n",
      "theater_date     359\n",
      "dvd_date         359\n",
      "currency        1220\n",
      "box_office      1220\n",
      "runtime           30\n",
      "studio          1066\n",
      "dtype: int64\n"
     ]
    }
   ],
   "source": [
    "# Checking for missing values\n",
    "null_values = rotten_tomatoes_movie.isnull()\n",
    "print(null_values.sum())"
   ]
  },
  {
   "cell_type": "code",
   "execution_count": 461,
   "metadata": {},
   "outputs": [
    {
     "data": {
      "text/plain": [
       "'\\nsynopsis has 62 missing values\\nrating has 3 missing values\\ngenre has 8 missing values\\ndirector has 199 missing values\\nwriter has 449 missing values\\ntheater_date has 359 missing values\\ndvd_data has 359 missing values\\ncurrency has 1220 missing values\\nbox_office has 1220 missing values\\nruntime has 30 missing values\\nstudio has 1066 missing values\\n'"
      ]
     },
     "execution_count": 461,
     "metadata": {},
     "output_type": "execute_result"
    }
   ],
   "source": [
    "'''\n",
    "synopsis has 62 missing values\n",
    "rating has 3 missing values\n",
    "genre has 8 missing values\n",
    "director has 199 missing values\n",
    "writer has 449 missing values\n",
    "theater_date has 359 missing values\n",
    "dvd_data has 359 missing values\n",
    "currency has 1220 missing values\n",
    "box_office has 1220 missing values\n",
    "runtime has 30 missing values\n",
    "studio has 1066 missing values\n",
    "'''"
   ]
  },
  {
   "cell_type": "code",
   "execution_count": 462,
   "metadata": {},
   "outputs": [
    {
     "name": "stdout",
     "output_type": "stream",
     "text": [
      "0\n"
     ]
    }
   ],
   "source": [
    "#Checking for duplicates\n",
    "duplicates = rotten_tomatoes_movie.duplicated()\n",
    "print(duplicates.sum())\n"
   ]
  },
  {
   "cell_type": "code",
   "execution_count": 463,
   "metadata": {},
   "outputs": [
    {
     "data": {
      "text/plain": [
       "'There are no duplicates in the dataset'"
      ]
     },
     "execution_count": 463,
     "metadata": {},
     "output_type": "execute_result"
    }
   ],
   "source": [
    "'There are no duplicates in the dataset'"
   ]
  },
  {
   "cell_type": "markdown",
   "metadata": {},
   "source": [
    "c.(i) Rotten Tomatoes Reviews"
   ]
  },
  {
   "cell_type": "code",
   "execution_count": 464,
   "metadata": {},
   "outputs": [
    {
     "data": {
      "text/plain": [
       "Index(['id', 'review', 'rating', 'fresh', 'critic', 'top_critic', 'publisher',\n",
       "       'date'],\n",
       "      dtype='object')"
      ]
     },
     "execution_count": 464,
     "metadata": {},
     "output_type": "execute_result"
    }
   ],
   "source": [
    "# Columns in the dataset\n",
    "rotten_tomatoes_review.columns"
   ]
  },
  {
   "cell_type": "code",
   "execution_count": 465,
   "metadata": {},
   "outputs": [
    {
     "data": {
      "text/plain": [
       "'\\nThis dataset has the following columns:\\n- id\\n- review\\n- rating\\n- fresh\\n- critic\\n- top_critic\\n- publisher\\n- date\\n'"
      ]
     },
     "execution_count": 465,
     "metadata": {},
     "output_type": "execute_result"
    }
   ],
   "source": [
    "'''\n",
    "This dataset has the following columns:\n",
    "- id\n",
    "- review\n",
    "- rating\n",
    "- fresh\n",
    "- critic\n",
    "- top_critic\n",
    "- publisher\n",
    "- date\n",
    "'''"
   ]
  },
  {
   "cell_type": "code",
   "execution_count": 466,
   "metadata": {},
   "outputs": [
    {
     "name": "stdout",
     "output_type": "stream",
     "text": [
      "<class 'pandas.core.frame.DataFrame'>\n",
      "RangeIndex: 54432 entries, 0 to 54431\n",
      "Data columns (total 8 columns):\n",
      " #   Column      Non-Null Count  Dtype \n",
      "---  ------      --------------  ----- \n",
      " 0   id          54432 non-null  int64 \n",
      " 1   review      48869 non-null  object\n",
      " 2   rating      40915 non-null  object\n",
      " 3   fresh       54432 non-null  object\n",
      " 4   critic      51710 non-null  object\n",
      " 5   top_critic  54432 non-null  int64 \n",
      " 6   publisher   54123 non-null  object\n",
      " 7   date        54432 non-null  object\n",
      "dtypes: int64(2), object(6)\n",
      "memory usage: 3.3+ MB\n"
     ]
    }
   ],
   "source": [
    "# Data types of the columns and total number of entries\n",
    "rotten_tomatoes_review.info()"
   ]
  },
  {
   "cell_type": "code",
   "execution_count": 467,
   "metadata": {},
   "outputs": [
    {
     "data": {
      "text/plain": [
       "'\\nThe dataset has the following datatypes:\\n- int64 - id, top_critic\\n- object - review, rating, fresh, critic, publisher, date\\n\\nThe total number of entries is 54432\\n'"
      ]
     },
     "execution_count": 467,
     "metadata": {},
     "output_type": "execute_result"
    }
   ],
   "source": [
    "'''\n",
    "The dataset has the following datatypes:\n",
    "- int64 - id, top_critic\n",
    "- object - review, rating, fresh, critic, publisher, date\n",
    "\n",
    "The total number of entries is 54432\n",
    "'''"
   ]
  },
  {
   "cell_type": "code",
   "execution_count": 468,
   "metadata": {},
   "outputs": [
    {
     "name": "stdout",
     "output_type": "stream",
     "text": [
      "id                0\n",
      "review         5563\n",
      "rating        13517\n",
      "fresh             0\n",
      "critic         2722\n",
      "top_critic        0\n",
      "publisher       309\n",
      "date              0\n",
      "dtype: int64\n"
     ]
    }
   ],
   "source": [
    "#Checking for missing values\n",
    "null_values = rotten_tomatoes_review.isnull()\n",
    "print(null_values.sum())"
   ]
  },
  {
   "cell_type": "code",
   "execution_count": 469,
   "metadata": {},
   "outputs": [
    {
     "data": {
      "text/plain": [
       "'\\nreview has 5563 missing values\\nrating has 13517 missing values\\ncritic has 2722 missing values\\npublisher has 309 missing values\\n\\nThere are total of 22111 missing values in the dataset\\n'"
      ]
     },
     "execution_count": 469,
     "metadata": {},
     "output_type": "execute_result"
    }
   ],
   "source": [
    "'''\n",
    "review has 5563 missing values\n",
    "rating has 13517 missing values\n",
    "critic has 2722 missing values\n",
    "publisher has 309 missing values\n",
    "\n",
    "There are total of 22111 missing values in the dataset\n",
    "'''"
   ]
  },
  {
   "cell_type": "code",
   "execution_count": 470,
   "metadata": {},
   "outputs": [
    {
     "name": "stdout",
     "output_type": "stream",
     "text": [
      "9\n"
     ]
    }
   ],
   "source": [
    "#Check for duplicates\n",
    "duplicates = rotten_tomatoes_review.duplicated()\n",
    "print(duplicates.sum())"
   ]
  },
  {
   "cell_type": "code",
   "execution_count": 471,
   "metadata": {},
   "outputs": [
    {
     "data": {
      "text/plain": [
       "'There are 9 duplicates in the dataset'"
      ]
     },
     "execution_count": 471,
     "metadata": {},
     "output_type": "execute_result"
    }
   ],
   "source": [
    "'There are 9 duplicates in the dataset'"
   ]
  },
  {
   "cell_type": "markdown",
   "metadata": {},
   "source": [
    "## d. The Movie Database (TMDb)"
   ]
  },
  {
   "cell_type": "code",
   "execution_count": 472,
   "metadata": {},
   "outputs": [
    {
     "data": {
      "text/plain": [
       "Index(['Unnamed: 0', 'genre_ids', 'id', 'original_language', 'original_title',\n",
       "       'popularity', 'release_date', 'title', 'vote_average', 'vote_count'],\n",
       "      dtype='object')"
      ]
     },
     "execution_count": 472,
     "metadata": {},
     "output_type": "execute_result"
    }
   ],
   "source": [
    "# Columns in the dataset\n",
    "the_movie.columns"
   ]
  },
  {
   "cell_type": "code",
   "execution_count": 473,
   "metadata": {},
   "outputs": [
    {
     "data": {
      "text/plain": [
       "'\\nThe columns in the dataset are:\\n- genre_ids\\n- id\\n- original_language\\n- original_title\\n- popularity\\n- release_date\\n- title\\n- vote_average\\n- vote_count\\n\\nThere is one unnamed column in the dataset\\n'"
      ]
     },
     "execution_count": 473,
     "metadata": {},
     "output_type": "execute_result"
    }
   ],
   "source": [
    "'''\n",
    "The columns in the dataset are:\n",
    "- genre_ids\n",
    "- id\n",
    "- original_language\n",
    "- original_title\n",
    "- popularity\n",
    "- release_date\n",
    "- title\n",
    "- vote_average\n",
    "- vote_count\n",
    "\n",
    "There is one unnamed column in the dataset\n",
    "'''"
   ]
  },
  {
   "cell_type": "code",
   "execution_count": 474,
   "metadata": {},
   "outputs": [
    {
     "name": "stdout",
     "output_type": "stream",
     "text": [
      "<class 'pandas.core.frame.DataFrame'>\n",
      "RangeIndex: 26517 entries, 0 to 26516\n",
      "Data columns (total 10 columns):\n",
      " #   Column             Non-Null Count  Dtype  \n",
      "---  ------             --------------  -----  \n",
      " 0   Unnamed: 0         26517 non-null  int64  \n",
      " 1   genre_ids          26517 non-null  object \n",
      " 2   id                 26517 non-null  int64  \n",
      " 3   original_language  26517 non-null  object \n",
      " 4   original_title     26517 non-null  object \n",
      " 5   popularity         26517 non-null  float64\n",
      " 6   release_date       26517 non-null  object \n",
      " 7   title              26517 non-null  object \n",
      " 8   vote_average       26517 non-null  float64\n",
      " 9   vote_count         26517 non-null  int64  \n",
      "dtypes: float64(2), int64(3), object(5)\n",
      "memory usage: 2.0+ MB\n"
     ]
    }
   ],
   "source": [
    "# Data types of the columns and total number of entries\n",
    "the_movie.info()"
   ]
  },
  {
   "cell_type": "code",
   "execution_count": 475,
   "metadata": {},
   "outputs": [
    {
     "data": {
      "text/plain": [
       "'\\nThe dataset has the following data types:\\n- int64 - id, vote_count, unnamed: 0\\n- object - genre_ids, original_language, original_title, release_date, title\\n- float64 - popularity, vote_average\\n\\n'"
      ]
     },
     "execution_count": 475,
     "metadata": {},
     "output_type": "execute_result"
    }
   ],
   "source": [
    "'''\n",
    "The dataset has the following data types:\n",
    "- int64 - id, vote_count, unnamed: 0\n",
    "- object - genre_ids, original_language, original_title, release_date, title\n",
    "- float64 - popularity, vote_average\n",
    "\n",
    "'''"
   ]
  },
  {
   "cell_type": "code",
   "execution_count": 476,
   "metadata": {},
   "outputs": [
    {
     "name": "stdout",
     "output_type": "stream",
     "text": [
      "Unnamed: 0           0\n",
      "genre_ids            0\n",
      "id                   0\n",
      "original_language    0\n",
      "original_title       0\n",
      "popularity           0\n",
      "release_date         0\n",
      "title                0\n",
      "vote_average         0\n",
      "vote_count           0\n",
      "dtype: int64\n"
     ]
    }
   ],
   "source": [
    "# Checking for missing values\n",
    "null_values = the_movie.isnull()\n",
    "print(null_values.sum())"
   ]
  },
  {
   "cell_type": "code",
   "execution_count": 477,
   "metadata": {},
   "outputs": [
    {
     "data": {
      "text/plain": [
       "'There are no null values in the dataset'"
      ]
     },
     "execution_count": 477,
     "metadata": {},
     "output_type": "execute_result"
    }
   ],
   "source": [
    "'There are no null values in the dataset'"
   ]
  },
  {
   "cell_type": "code",
   "execution_count": 478,
   "metadata": {},
   "outputs": [
    {
     "name": "stdout",
     "output_type": "stream",
     "text": [
      "0\n"
     ]
    }
   ],
   "source": [
    "#Checking for duplicates\n",
    "duplicates = the_movie.duplicated()\n",
    "print(duplicates.sum())"
   ]
  },
  {
   "cell_type": "code",
   "execution_count": 479,
   "metadata": {},
   "outputs": [
    {
     "data": {
      "text/plain": [
       "'There are no duplicates in the dataset'"
      ]
     },
     "execution_count": 479,
     "metadata": {},
     "output_type": "execute_result"
    }
   ],
   "source": [
    "'There are no duplicates in the dataset'"
   ]
  },
  {
   "cell_type": "markdown",
   "metadata": {},
   "source": [
    "## e. The Numbers"
   ]
  },
  {
   "cell_type": "code",
   "execution_count": 480,
   "metadata": {},
   "outputs": [
    {
     "data": {
      "text/plain": [
       "Index(['id', 'release_date', 'movie', 'production_budget', 'domestic_gross',\n",
       "       'worldwide_gross'],\n",
       "      dtype='object')"
      ]
     },
     "execution_count": 480,
     "metadata": {},
     "output_type": "execute_result"
    }
   ],
   "source": [
    "# Columns in the dataset\n",
    "the_number.columns"
   ]
  },
  {
   "cell_type": "code",
   "execution_count": 481,
   "metadata": {},
   "outputs": [
    {
     "data": {
      "text/plain": [
       "'\\nThe columns in this dataset are:\\n- id\\n- release_date\\n- movie\\n- production_budget\\n- domestic_gross\\n- worldwide_gross\\n'"
      ]
     },
     "execution_count": 481,
     "metadata": {},
     "output_type": "execute_result"
    }
   ],
   "source": [
    "'''\n",
    "The columns in this dataset are:\n",
    "- id\n",
    "- release_date\n",
    "- movie\n",
    "- production_budget\n",
    "- domestic_gross\n",
    "- worldwide_gross\n",
    "'''"
   ]
  },
  {
   "cell_type": "code",
   "execution_count": 482,
   "metadata": {},
   "outputs": [
    {
     "name": "stdout",
     "output_type": "stream",
     "text": [
      "<class 'pandas.core.frame.DataFrame'>\n",
      "RangeIndex: 5782 entries, 0 to 5781\n",
      "Data columns (total 6 columns):\n",
      " #   Column             Non-Null Count  Dtype \n",
      "---  ------             --------------  ----- \n",
      " 0   id                 5782 non-null   int64 \n",
      " 1   release_date       5782 non-null   object\n",
      " 2   movie              5782 non-null   object\n",
      " 3   production_budget  5782 non-null   object\n",
      " 4   domestic_gross     5782 non-null   object\n",
      " 5   worldwide_gross    5782 non-null   object\n",
      "dtypes: int64(1), object(5)\n",
      "memory usage: 271.2+ KB\n"
     ]
    }
   ],
   "source": [
    "# Data Types and total number of entries\n",
    "the_number.info()"
   ]
  },
  {
   "cell_type": "code",
   "execution_count": 483,
   "metadata": {},
   "outputs": [
    {
     "data": {
      "text/plain": [
       "'\\nThe dataset has the following data types:\\n- int64 - id\\n- object - release_date, movie, production_budget, domestic_gross, worldwide_gross\\n\\nThere are a total of 5782 entries in the dataset\\n'"
      ]
     },
     "execution_count": 483,
     "metadata": {},
     "output_type": "execute_result"
    }
   ],
   "source": [
    "'''\n",
    "The dataset has the following data types:\n",
    "- int64 - id\n",
    "- object - release_date, movie, production_budget, domestic_gross, worldwide_gross\n",
    "\n",
    "There are a total of 5782 entries in the dataset\n",
    "'''"
   ]
  },
  {
   "cell_type": "code",
   "execution_count": 484,
   "metadata": {},
   "outputs": [
    {
     "name": "stdout",
     "output_type": "stream",
     "text": [
      "id                   0\n",
      "release_date         0\n",
      "movie                0\n",
      "production_budget    0\n",
      "domestic_gross       0\n",
      "worldwide_gross      0\n",
      "dtype: int64\n"
     ]
    }
   ],
   "source": [
    "# Checking missing values\n",
    "null_values = the_number.isnull()\n",
    "print(null_values.sum())"
   ]
  },
  {
   "cell_type": "code",
   "execution_count": 485,
   "metadata": {},
   "outputs": [
    {
     "data": {
      "text/plain": [
       "'There are no missing values in the dataset'"
      ]
     },
     "execution_count": 485,
     "metadata": {},
     "output_type": "execute_result"
    }
   ],
   "source": [
    "'There are no missing values in the dataset'"
   ]
  },
  {
   "cell_type": "code",
   "execution_count": 486,
   "metadata": {},
   "outputs": [
    {
     "name": "stdout",
     "output_type": "stream",
     "text": [
      "0\n"
     ]
    }
   ],
   "source": [
    "#Checking for duplicates\n",
    "duplicates = the_number.duplicated()\n",
    "print(duplicates.sum())"
   ]
  },
  {
   "cell_type": "code",
   "execution_count": 487,
   "metadata": {},
   "outputs": [
    {
     "data": {
      "text/plain": [
       "'There are no duplicates in the dataset'"
      ]
     },
     "execution_count": 487,
     "metadata": {},
     "output_type": "execute_result"
    }
   ],
   "source": [
    "'There are no duplicates in the dataset'"
   ]
  },
  {
   "cell_type": "markdown",
   "metadata": {},
   "source": [
    "## Conclusion\n",
    "Based on the data understanding and data quality checks done for the various datasets provided, the following datasets are suitable for carrying out analysis:\n",
    "- Box Office Mojo (bom.movie_gross.csv)\n",
    "- The Numbers (tn.movie_budgets.csv)\n",
    "- IMDB (im.db)\n",
    "\n",
    "- The above datasets are suitable for analysis because the data answers the questions that we are trying to answer.\n",
    "- The datasets have minimal missing values and no duplicates which is suitable for analysis.\n"
   ]
  },
  {
   "cell_type": "markdown",
   "metadata": {},
   "source": [
    "# 3. Data Preparation\n",
    "In this section the following will be carried out:\n",
    "- Clean the data by addressing missing values, correcting errors, and removing duplicates.\n",
    "- Standardize data formats and units to facilitate uniform analysis.\n",
    "- Perform feature engineering to create new variables or derive additional insights from existing data attributes.\n",
    "- Transform categorical variables into numerical representations."
   ]
  },
  {
   "cell_type": "markdown",
   "metadata": {},
   "source": [
    "## a. Box Office Mojo"
   ]
  },
  {
   "cell_type": "code",
   "execution_count": 488,
   "metadata": {},
   "outputs": [],
   "source": [
    "#Addressing missing values in the box_office dataset\n",
    "#Drop missing values in the studio column\n",
    "box_office.dropna(subset=['studio'], inplace=True)\n",
    "\n",
    "#Drop missing values in the domestic_gross column\n",
    "box_office.dropna(subset = ['domestic_gross'], inplace=True)\n",
    "\n",
    "#Drop missing values in the foreign_gross column\n",
    "box_office.dropna(subset = ['foreign_gross'], inplace=True)\n",
    "\n"
   ]
  },
  {
   "cell_type": "code",
   "execution_count": 489,
   "metadata": {},
   "outputs": [
    {
     "name": "stdout",
     "output_type": "stream",
     "text": [
      "title             0\n",
      "studio            0\n",
      "domestic_gross    0\n",
      "foreign_gross     0\n",
      "year              0\n",
      "dtype: int64\n"
     ]
    }
   ],
   "source": [
    "#Check if there are any missing values remaining\n",
    "null_values = box_office.isnull()\n",
    "print(null_values.sum())"
   ]
  },
  {
   "cell_type": "code",
   "execution_count": 490,
   "metadata": {},
   "outputs": [
    {
     "name": "stdout",
     "output_type": "stream",
     "text": [
      "<class 'pandas.core.frame.DataFrame'>\n",
      "Index: 2007 entries, 0 to 3353\n",
      "Data columns (total 5 columns):\n",
      " #   Column          Non-Null Count  Dtype  \n",
      "---  ------          --------------  -----  \n",
      " 0   title           2007 non-null   object \n",
      " 1   studio          2007 non-null   object \n",
      " 2   domestic_gross  2007 non-null   float64\n",
      " 3   foreign_gross   2007 non-null   object \n",
      " 4   year            2007 non-null   int64  \n",
      "dtypes: float64(1), int64(1), object(3)\n",
      "memory usage: 94.1+ KB\n"
     ]
    }
   ],
   "source": [
    "box_office.info()"
   ]
  },
  {
   "cell_type": "code",
   "execution_count": 491,
   "metadata": {},
   "outputs": [
    {
     "data": {
      "text/plain": [
       "'\\nThe strategy used to handle missing values in the box_office dataset \\nwas to drop the missing values in the studio, domestic_gross and foreign_gross columns.\\nThis is because the missing values in these columns are not too many and dropping them will not affect the dataset since the\\ndataset has a total of 3387 entries.\\n'"
      ]
     },
     "execution_count": 491,
     "metadata": {},
     "output_type": "execute_result"
    }
   ],
   "source": [
    "'''\n",
    "The strategy used to handle missing values in the box_office dataset \n",
    "was to drop the missing values in the studio, domestic_gross and foreign_gross columns.\n",
    "This is because the missing values in these columns are not too many and dropping them will not affect the dataset since the\n",
    "dataset has a total of 3387 entries.\n",
    "'''"
   ]
  },
  {
   "cell_type": "code",
   "execution_count": 492,
   "metadata": {},
   "outputs": [],
   "source": [
    "#Change the data type of the foreign_gross column to float\n",
    "box_office['foreign_gross'] = box_office['foreign_gross'].str.replace(',', '').astype(float)"
   ]
  },
  {
   "cell_type": "code",
   "execution_count": 493,
   "metadata": {},
   "outputs": [
    {
     "name": "stdout",
     "output_type": "stream",
     "text": [
      "<class 'pandas.core.frame.DataFrame'>\n",
      "Index: 2007 entries, 0 to 3353\n",
      "Data columns (total 5 columns):\n",
      " #   Column          Non-Null Count  Dtype  \n",
      "---  ------          --------------  -----  \n",
      " 0   title           2007 non-null   object \n",
      " 1   studio          2007 non-null   object \n",
      " 2   domestic_gross  2007 non-null   float64\n",
      " 3   foreign_gross   2007 non-null   float64\n",
      " 4   year            2007 non-null   int64  \n",
      "dtypes: float64(2), int64(1), object(2)\n",
      "memory usage: 94.1+ KB\n"
     ]
    }
   ],
   "source": [
    "box_office.info()"
   ]
  },
  {
   "cell_type": "code",
   "execution_count": 494,
   "metadata": {},
   "outputs": [
    {
     "data": {
      "text/plain": [
       "'\\nChange the data type of foreign gross to float since it contains numerical values. \\n'"
      ]
     },
     "execution_count": 494,
     "metadata": {},
     "output_type": "execute_result"
    }
   ],
   "source": [
    "'''\n",
    "Change the data type of foreign gross to float since it contains numerical values. \n",
    "'''"
   ]
  },
  {
   "cell_type": "code",
   "execution_count": 495,
   "metadata": {},
   "outputs": [
    {
     "data": {
      "text/html": [
       "<div>\n",
       "<style scoped>\n",
       "    .dataframe tbody tr th:only-of-type {\n",
       "        vertical-align: middle;\n",
       "    }\n",
       "\n",
       "    .dataframe tbody tr th {\n",
       "        vertical-align: top;\n",
       "    }\n",
       "\n",
       "    .dataframe thead th {\n",
       "        text-align: right;\n",
       "    }\n",
       "</style>\n",
       "<table border=\"1\" class=\"dataframe\">\n",
       "  <thead>\n",
       "    <tr style=\"text-align: right;\">\n",
       "      <th></th>\n",
       "      <th>title</th>\n",
       "      <th>studio</th>\n",
       "      <th>domestic_gross</th>\n",
       "      <th>foreign_gross</th>\n",
       "      <th>year</th>\n",
       "      <th>total_gross</th>\n",
       "    </tr>\n",
       "  </thead>\n",
       "  <tbody>\n",
       "    <tr>\n",
       "      <th>0</th>\n",
       "      <td>Toy Story 3</td>\n",
       "      <td>BV</td>\n",
       "      <td>415000000.0</td>\n",
       "      <td>652000000.0</td>\n",
       "      <td>2010</td>\n",
       "      <td>1.067000e+09</td>\n",
       "    </tr>\n",
       "    <tr>\n",
       "      <th>1</th>\n",
       "      <td>Alice in Wonderland (2010)</td>\n",
       "      <td>BV</td>\n",
       "      <td>334200000.0</td>\n",
       "      <td>691300000.0</td>\n",
       "      <td>2010</td>\n",
       "      <td>1.025500e+09</td>\n",
       "    </tr>\n",
       "    <tr>\n",
       "      <th>2</th>\n",
       "      <td>Harry Potter and the Deathly Hallows Part 1</td>\n",
       "      <td>WB</td>\n",
       "      <td>296000000.0</td>\n",
       "      <td>664300000.0</td>\n",
       "      <td>2010</td>\n",
       "      <td>9.603000e+08</td>\n",
       "    </tr>\n",
       "    <tr>\n",
       "      <th>3</th>\n",
       "      <td>Inception</td>\n",
       "      <td>WB</td>\n",
       "      <td>292600000.0</td>\n",
       "      <td>535700000.0</td>\n",
       "      <td>2010</td>\n",
       "      <td>8.283000e+08</td>\n",
       "    </tr>\n",
       "    <tr>\n",
       "      <th>4</th>\n",
       "      <td>Shrek Forever After</td>\n",
       "      <td>P/DW</td>\n",
       "      <td>238700000.0</td>\n",
       "      <td>513900000.0</td>\n",
       "      <td>2010</td>\n",
       "      <td>7.526000e+08</td>\n",
       "    </tr>\n",
       "  </tbody>\n",
       "</table>\n",
       "</div>"
      ],
      "text/plain": [
       "                                         title studio  domestic_gross  \\\n",
       "0                                  Toy Story 3     BV     415000000.0   \n",
       "1                   Alice in Wonderland (2010)     BV     334200000.0   \n",
       "2  Harry Potter and the Deathly Hallows Part 1     WB     296000000.0   \n",
       "3                                    Inception     WB     292600000.0   \n",
       "4                          Shrek Forever After   P/DW     238700000.0   \n",
       "\n",
       "   foreign_gross  year   total_gross  \n",
       "0    652000000.0  2010  1.067000e+09  \n",
       "1    691300000.0  2010  1.025500e+09  \n",
       "2    664300000.0  2010  9.603000e+08  \n",
       "3    535700000.0  2010  8.283000e+08  \n",
       "4    513900000.0  2010  7.526000e+08  "
      ]
     },
     "execution_count": 495,
     "metadata": {},
     "output_type": "execute_result"
    }
   ],
   "source": [
    "# Perform feature engineering to create a new column called total_gross\n",
    "# This column will contain the sum of the domestic_gross and foreign_gross columns\n",
    "# representing the total gross of the movie\n",
    "box_office['total_gross'] = box_office['domestic_gross'] + box_office['foreign_gross']\n",
    "box_office.head()"
   ]
  },
  {
   "cell_type": "code",
   "execution_count": 496,
   "metadata": {},
   "outputs": [
    {
     "data": {
      "text/html": [
       "<div>\n",
       "<style scoped>\n",
       "    .dataframe tbody tr th:only-of-type {\n",
       "        vertical-align: middle;\n",
       "    }\n",
       "\n",
       "    .dataframe tbody tr th {\n",
       "        vertical-align: top;\n",
       "    }\n",
       "\n",
       "    .dataframe thead th {\n",
       "        text-align: right;\n",
       "    }\n",
       "</style>\n",
       "<table border=\"1\" class=\"dataframe\">\n",
       "  <thead>\n",
       "    <tr style=\"text-align: right;\">\n",
       "      <th></th>\n",
       "      <th>title</th>\n",
       "      <th>studio</th>\n",
       "      <th>domestic_gross</th>\n",
       "      <th>foreign_gross</th>\n",
       "      <th>year</th>\n",
       "      <th>total_gross</th>\n",
       "      <th>age_of_movie</th>\n",
       "    </tr>\n",
       "  </thead>\n",
       "  <tbody>\n",
       "    <tr>\n",
       "      <th>3261</th>\n",
       "      <td>Gauguin: Voyage to Tahiti</td>\n",
       "      <td>Cohen</td>\n",
       "      <td>200000.0</td>\n",
       "      <td>3100000.0</td>\n",
       "      <td>2018</td>\n",
       "      <td>3300000.0</td>\n",
       "      <td>6</td>\n",
       "    </tr>\n",
       "    <tr>\n",
       "      <th>3263</th>\n",
       "      <td>The Front Runner</td>\n",
       "      <td>Sony</td>\n",
       "      <td>2000000.0</td>\n",
       "      <td>1200000.0</td>\n",
       "      <td>2018</td>\n",
       "      <td>3200000.0</td>\n",
       "      <td>6</td>\n",
       "    </tr>\n",
       "    <tr>\n",
       "      <th>3265</th>\n",
       "      <td>Wildlife</td>\n",
       "      <td>IFC</td>\n",
       "      <td>1100000.0</td>\n",
       "      <td>2000000.0</td>\n",
       "      <td>2018</td>\n",
       "      <td>3100000.0</td>\n",
       "      <td>6</td>\n",
       "    </tr>\n",
       "    <tr>\n",
       "      <th>3268</th>\n",
       "      <td>Billionaire Boy's Club</td>\n",
       "      <td>VE</td>\n",
       "      <td>1300.0</td>\n",
       "      <td>2500000.0</td>\n",
       "      <td>2018</td>\n",
       "      <td>2501300.0</td>\n",
       "      <td>6</td>\n",
       "    </tr>\n",
       "    <tr>\n",
       "      <th>3271</th>\n",
       "      <td>Bilal: A New Breed of Hero</td>\n",
       "      <td>VE</td>\n",
       "      <td>491000.0</td>\n",
       "      <td>1700000.0</td>\n",
       "      <td>2018</td>\n",
       "      <td>2191000.0</td>\n",
       "      <td>6</td>\n",
       "    </tr>\n",
       "    <tr>\n",
       "      <th>3275</th>\n",
       "      <td>I Still See You</td>\n",
       "      <td>LGF</td>\n",
       "      <td>1400.0</td>\n",
       "      <td>1500000.0</td>\n",
       "      <td>2018</td>\n",
       "      <td>1501400.0</td>\n",
       "      <td>6</td>\n",
       "    </tr>\n",
       "    <tr>\n",
       "      <th>3286</th>\n",
       "      <td>The Catcher Was a Spy</td>\n",
       "      <td>IFC</td>\n",
       "      <td>725000.0</td>\n",
       "      <td>229000.0</td>\n",
       "      <td>2018</td>\n",
       "      <td>954000.0</td>\n",
       "      <td>6</td>\n",
       "    </tr>\n",
       "    <tr>\n",
       "      <th>3309</th>\n",
       "      <td>Time Freak</td>\n",
       "      <td>Grindstone</td>\n",
       "      <td>10000.0</td>\n",
       "      <td>256000.0</td>\n",
       "      <td>2018</td>\n",
       "      <td>266000.0</td>\n",
       "      <td>6</td>\n",
       "    </tr>\n",
       "    <tr>\n",
       "      <th>3342</th>\n",
       "      <td>Reign of Judges: Title of Liberty - Concept Short</td>\n",
       "      <td>Darin Southa</td>\n",
       "      <td>93200.0</td>\n",
       "      <td>5200.0</td>\n",
       "      <td>2018</td>\n",
       "      <td>98400.0</td>\n",
       "      <td>6</td>\n",
       "    </tr>\n",
       "    <tr>\n",
       "      <th>3353</th>\n",
       "      <td>Antonio Lopez 1970: Sex Fashion &amp; Disco</td>\n",
       "      <td>FM</td>\n",
       "      <td>43200.0</td>\n",
       "      <td>30000.0</td>\n",
       "      <td>2018</td>\n",
       "      <td>73200.0</td>\n",
       "      <td>6</td>\n",
       "    </tr>\n",
       "  </tbody>\n",
       "</table>\n",
       "</div>"
      ],
      "text/plain": [
       "                                                  title        studio  \\\n",
       "3261                          Gauguin: Voyage to Tahiti         Cohen   \n",
       "3263                                   The Front Runner          Sony   \n",
       "3265                                           Wildlife           IFC   \n",
       "3268                             Billionaire Boy's Club            VE   \n",
       "3271                         Bilal: A New Breed of Hero            VE   \n",
       "3275                                    I Still See You           LGF   \n",
       "3286                              The Catcher Was a Spy           IFC   \n",
       "3309                                         Time Freak    Grindstone   \n",
       "3342  Reign of Judges: Title of Liberty - Concept Short  Darin Southa   \n",
       "3353            Antonio Lopez 1970: Sex Fashion & Disco            FM   \n",
       "\n",
       "      domestic_gross  foreign_gross  year  total_gross  age_of_movie  \n",
       "3261        200000.0      3100000.0  2018    3300000.0             6  \n",
       "3263       2000000.0      1200000.0  2018    3200000.0             6  \n",
       "3265       1100000.0      2000000.0  2018    3100000.0             6  \n",
       "3268          1300.0      2500000.0  2018    2501300.0             6  \n",
       "3271        491000.0      1700000.0  2018    2191000.0             6  \n",
       "3275          1400.0      1500000.0  2018    1501400.0             6  \n",
       "3286        725000.0       229000.0  2018     954000.0             6  \n",
       "3309         10000.0       256000.0  2018     266000.0             6  \n",
       "3342         93200.0         5200.0  2018      98400.0             6  \n",
       "3353         43200.0        30000.0  2018      73200.0             6  "
      ]
     },
     "execution_count": 496,
     "metadata": {},
     "output_type": "execute_result"
    }
   ],
   "source": [
    "#Perform feature engineering to create a new column called age of movie\n",
    "#This column will contain the difference between the current year and the year the movie was released\n",
    "# representing the age of the movie\n",
    "\n",
    "#Import the datetime library\n",
    "import datetime\n",
    "current_year = datetime.datetime.now().year\n",
    "box_office['age_of_movie'] = current_year - box_office['year']\n",
    "box_office.tail(10)"
   ]
  },
  {
   "cell_type": "markdown",
   "metadata": {},
   "source": [
    "## b. IMDB "
   ]
  },
  {
   "cell_type": "markdown",
   "metadata": {},
   "source": [
    "### Addressing Missing Values"
   ]
  },
  {
   "cell_type": "markdown",
   "metadata": {},
   "source": [
    "a. movie_basics table"
   ]
  },
  {
   "cell_type": "code",
   "execution_count": 497,
   "metadata": {},
   "outputs": [],
   "source": [
    "# Addressing missing values from movie_basics table\n",
    "#Replace the null values in the original_title column with 'Unknown' since the column contains categorical values\n",
    "movie_basics['original_title'] = movie_basics['original_title'].fillna('Unknown')\n",
    "\n",
    "#Replace the null values in the runtime_minutes column with the median value since the column contains numerical values\n",
    "#and the median is not affected by outliers\n",
    "movie_basics['runtime_minutes'] = movie_basics['runtime_minutes'].fillna(movie_basics['runtime_minutes'].median())\n",
    "\n",
    "#Replace the null values in the genres column with 'Unknown' since the column contains categorical values\n",
    "movie_basics['genres'] = movie_basics['genres'].fillna('Unknown')\n"
   ]
  },
  {
   "cell_type": "code",
   "execution_count": 498,
   "metadata": {},
   "outputs": [
    {
     "name": "stdout",
     "output_type": "stream",
     "text": [
      "<class 'pandas.core.frame.DataFrame'>\n",
      "RangeIndex: 146144 entries, 0 to 146143\n",
      "Data columns (total 6 columns):\n",
      " #   Column           Non-Null Count   Dtype  \n",
      "---  ------           --------------   -----  \n",
      " 0   movie_id         146144 non-null  object \n",
      " 1   primary_title    146144 non-null  object \n",
      " 2   original_title   146144 non-null  object \n",
      " 3   start_year       146144 non-null  int64  \n",
      " 4   runtime_minutes  146144 non-null  float64\n",
      " 5   genres           146144 non-null  object \n",
      "dtypes: float64(1), int64(1), object(4)\n",
      "memory usage: 6.7+ MB\n"
     ]
    }
   ],
   "source": [
    "movie_basics.info()"
   ]
  },
  {
   "cell_type": "markdown",
   "metadata": {},
   "source": [
    "b. movie_akas table"
   ]
  },
  {
   "cell_type": "code",
   "execution_count": 499,
   "metadata": {},
   "outputs": [],
   "source": [
    "#Addressing missing values from the movie_akas table\n",
    "#Replace the null values in the region column with 'Unknown' since the column contains categorical values\n",
    "movie_akas['region'] = movie_akas['region'].fillna('Unknown')\n",
    "\n",
    "#Replace the null values in the language column with 'Unknown' since the column contains categorical values\n",
    "movie_akas['language'] = movie_akas['language'].fillna('Unknown')\n",
    "\n",
    "#Replace the null values in the types column with 'Unknown' since the column contains categorical values\n",
    "movie_akas['types'] = movie_akas['types'].fillna('Unknown')\n",
    "\n",
    "#Replace the null values in the attributes column with 'Unknown' since the column contains categorical values\n",
    "movie_akas['attributes'] = movie_akas['attributes'].fillna('Unknown')\n",
    "\n",
    "#drop the null values in the is_original_title column since the number of missing values is not too many\n",
    "movie_akas.dropna(subset=['is_original_title'], inplace=True)\n"
   ]
  },
  {
   "cell_type": "code",
   "execution_count": 500,
   "metadata": {},
   "outputs": [
    {
     "name": "stdout",
     "output_type": "stream",
     "text": [
      "<class 'pandas.core.frame.DataFrame'>\n",
      "Index: 331678 entries, 0 to 331702\n",
      "Data columns (total 8 columns):\n",
      " #   Column             Non-Null Count   Dtype  \n",
      "---  ------             --------------   -----  \n",
      " 0   movie_id           331678 non-null  object \n",
      " 1   ordering           331678 non-null  int64  \n",
      " 2   title              331678 non-null  object \n",
      " 3   region             331678 non-null  object \n",
      " 4   language           331678 non-null  object \n",
      " 5   types              331678 non-null  object \n",
      " 6   attributes         331678 non-null  object \n",
      " 7   is_original_title  331678 non-null  float64\n",
      "dtypes: float64(1), int64(1), object(6)\n",
      "memory usage: 22.8+ MB\n"
     ]
    }
   ],
   "source": [
    "movie_akas.info()"
   ]
  },
  {
   "cell_type": "markdown",
   "metadata": {},
   "source": [
    "c. persons table"
   ]
  },
  {
   "cell_type": "code",
   "execution_count": 501,
   "metadata": {},
   "outputs": [],
   "source": [
    "# Addressing missing values from the persons table\n",
    "#drop the columns since the data of the columns are not relevant to the analysis\n",
    "persons.drop(['birth_year'], axis=1, inplace=True)\n",
    "\n",
    "#drop the columns since the data of the columns are not relevant to the analysis\n",
    "persons.drop(['death_year'], axis=1, inplace=True)\n",
    "\n",
    "#Replace the null values in the primary_profession column with 'Unknown' since the column contains categorical values\n",
    "persons['primary_profession'] = persons['primary_profession'].fillna('Unknown')"
   ]
  },
  {
   "cell_type": "code",
   "execution_count": 502,
   "metadata": {},
   "outputs": [
    {
     "name": "stdout",
     "output_type": "stream",
     "text": [
      "<class 'pandas.core.frame.DataFrame'>\n",
      "RangeIndex: 606648 entries, 0 to 606647\n",
      "Data columns (total 3 columns):\n",
      " #   Column              Non-Null Count   Dtype \n",
      "---  ------              --------------   ----- \n",
      " 0   person_id           606648 non-null  object\n",
      " 1   primary_name        606648 non-null  object\n",
      " 2   primary_profession  606648 non-null  object\n",
      "dtypes: object(3)\n",
      "memory usage: 13.9+ MB\n"
     ]
    }
   ],
   "source": [
    "persons.info()"
   ]
  },
  {
   "cell_type": "markdown",
   "metadata": {},
   "source": [
    "d. principals table"
   ]
  },
  {
   "cell_type": "code",
   "execution_count": 503,
   "metadata": {},
   "outputs": [],
   "source": [
    "#Addressing missing values from the principals table\n",
    "#Replace the null values in the job column with 'Unknown' since the column contains categorical values\n",
    "principals['job'] = principals['job'].fillna('Unknown')\n",
    "\n",
    "#Replace the null values in the characters column with 'Unknown' since the column contains categorical values\n",
    "principals['characters'] = principals['characters'].fillna('Unknown')\n",
    "\n"
   ]
  },
  {
   "cell_type": "code",
   "execution_count": 504,
   "metadata": {},
   "outputs": [
    {
     "name": "stdout",
     "output_type": "stream",
     "text": [
      "<class 'pandas.core.frame.DataFrame'>\n",
      "RangeIndex: 1028186 entries, 0 to 1028185\n",
      "Data columns (total 6 columns):\n",
      " #   Column      Non-Null Count    Dtype \n",
      "---  ------      --------------    ----- \n",
      " 0   movie_id    1028186 non-null  object\n",
      " 1   ordering    1028186 non-null  int64 \n",
      " 2   person_id   1028186 non-null  object\n",
      " 3   category    1028186 non-null  object\n",
      " 4   job         1028186 non-null  object\n",
      " 5   characters  1028186 non-null  object\n",
      "dtypes: int64(1), object(5)\n",
      "memory usage: 47.1+ MB\n"
     ]
    }
   ],
   "source": [
    "principals.info()"
   ]
  },
  {
   "cell_type": "markdown",
   "metadata": {},
   "source": [
    "### Joining Tables"
   ]
  },
  {
   "cell_type": "code",
   "execution_count": 505,
   "metadata": {},
   "outputs": [
    {
     "data": {
      "text/html": [
       "<div>\n",
       "<style scoped>\n",
       "    .dataframe tbody tr th:only-of-type {\n",
       "        vertical-align: middle;\n",
       "    }\n",
       "\n",
       "    .dataframe tbody tr th {\n",
       "        vertical-align: top;\n",
       "    }\n",
       "\n",
       "    .dataframe thead th {\n",
       "        text-align: right;\n",
       "    }\n",
       "</style>\n",
       "<table border=\"1\" class=\"dataframe\">\n",
       "  <thead>\n",
       "    <tr style=\"text-align: right;\">\n",
       "      <th></th>\n",
       "      <th>movie_id</th>\n",
       "      <th>primary_title</th>\n",
       "      <th>original_title</th>\n",
       "      <th>start_year</th>\n",
       "      <th>runtime_minutes</th>\n",
       "      <th>genres</th>\n",
       "      <th>averagerating</th>\n",
       "      <th>numvotes</th>\n",
       "    </tr>\n",
       "  </thead>\n",
       "  <tbody>\n",
       "    <tr>\n",
       "      <th>0</th>\n",
       "      <td>tt0063540</td>\n",
       "      <td>Sunghursh</td>\n",
       "      <td>Sunghursh</td>\n",
       "      <td>2013</td>\n",
       "      <td>175.0</td>\n",
       "      <td>Action,Crime,Drama</td>\n",
       "      <td>7.0</td>\n",
       "      <td>77.0</td>\n",
       "    </tr>\n",
       "    <tr>\n",
       "      <th>1</th>\n",
       "      <td>tt0066787</td>\n",
       "      <td>One Day Before the Rainy Season</td>\n",
       "      <td>Ashad Ka Ek Din</td>\n",
       "      <td>2019</td>\n",
       "      <td>114.0</td>\n",
       "      <td>Biography,Drama</td>\n",
       "      <td>7.2</td>\n",
       "      <td>43.0</td>\n",
       "    </tr>\n",
       "    <tr>\n",
       "      <th>2</th>\n",
       "      <td>tt0069049</td>\n",
       "      <td>The Other Side of the Wind</td>\n",
       "      <td>The Other Side of the Wind</td>\n",
       "      <td>2018</td>\n",
       "      <td>122.0</td>\n",
       "      <td>Drama</td>\n",
       "      <td>6.9</td>\n",
       "      <td>4517.0</td>\n",
       "    </tr>\n",
       "    <tr>\n",
       "      <th>3</th>\n",
       "      <td>tt0069204</td>\n",
       "      <td>Sabse Bada Sukh</td>\n",
       "      <td>Sabse Bada Sukh</td>\n",
       "      <td>2018</td>\n",
       "      <td>87.0</td>\n",
       "      <td>Comedy,Drama</td>\n",
       "      <td>6.1</td>\n",
       "      <td>13.0</td>\n",
       "    </tr>\n",
       "    <tr>\n",
       "      <th>4</th>\n",
       "      <td>tt0100275</td>\n",
       "      <td>The Wandering Soap Opera</td>\n",
       "      <td>La Telenovela Errante</td>\n",
       "      <td>2017</td>\n",
       "      <td>80.0</td>\n",
       "      <td>Comedy,Drama,Fantasy</td>\n",
       "      <td>6.5</td>\n",
       "      <td>119.0</td>\n",
       "    </tr>\n",
       "  </tbody>\n",
       "</table>\n",
       "</div>"
      ],
      "text/plain": [
       "    movie_id                    primary_title              original_title  \\\n",
       "0  tt0063540                        Sunghursh                   Sunghursh   \n",
       "1  tt0066787  One Day Before the Rainy Season             Ashad Ka Ek Din   \n",
       "2  tt0069049       The Other Side of the Wind  The Other Side of the Wind   \n",
       "3  tt0069204                  Sabse Bada Sukh             Sabse Bada Sukh   \n",
       "4  tt0100275         The Wandering Soap Opera       La Telenovela Errante   \n",
       "\n",
       "   start_year  runtime_minutes                genres  averagerating  numvotes  \n",
       "0        2013            175.0    Action,Crime,Drama            7.0      77.0  \n",
       "1        2019            114.0       Biography,Drama            7.2      43.0  \n",
       "2        2018            122.0                 Drama            6.9    4517.0  \n",
       "3        2018             87.0          Comedy,Drama            6.1      13.0  \n",
       "4        2017             80.0  Comedy,Drama,Fantasy            6.5     119.0  "
      ]
     },
     "execution_count": 505,
     "metadata": {},
     "output_type": "execute_result"
    }
   ],
   "source": [
    "# Join movie_basics table and movie_ratings table on the movie_id column\n",
    "# This is to analyze movie ratings and other attributes of the movies\n",
    "movie_basics_ratings = movie_basics.merge(movie_ratings, how='left', on='movie_id')\n",
    "movie_basics_ratings.head()"
   ]
  },
  {
   "cell_type": "code",
   "execution_count": 506,
   "metadata": {},
   "outputs": [
    {
     "data": {
      "text/html": [
       "<div>\n",
       "<style scoped>\n",
       "    .dataframe tbody tr th:only-of-type {\n",
       "        vertical-align: middle;\n",
       "    }\n",
       "\n",
       "    .dataframe tbody tr th {\n",
       "        vertical-align: top;\n",
       "    }\n",
       "\n",
       "    .dataframe thead th {\n",
       "        text-align: right;\n",
       "    }\n",
       "</style>\n",
       "<table border=\"1\" class=\"dataframe\">\n",
       "  <thead>\n",
       "    <tr style=\"text-align: right;\">\n",
       "      <th></th>\n",
       "      <th>movie_id</th>\n",
       "      <th>primary_title</th>\n",
       "      <th>original_title</th>\n",
       "      <th>start_year</th>\n",
       "      <th>runtime_minutes</th>\n",
       "      <th>genres</th>\n",
       "      <th>ordering</th>\n",
       "      <th>person_id</th>\n",
       "      <th>category</th>\n",
       "      <th>job</th>\n",
       "      <th>characters</th>\n",
       "    </tr>\n",
       "  </thead>\n",
       "  <tbody>\n",
       "    <tr>\n",
       "      <th>0</th>\n",
       "      <td>tt0063540</td>\n",
       "      <td>Sunghursh</td>\n",
       "      <td>Sunghursh</td>\n",
       "      <td>2013</td>\n",
       "      <td>175.0</td>\n",
       "      <td>Action,Crime,Drama</td>\n",
       "      <td>10.0</td>\n",
       "      <td>nm0006210</td>\n",
       "      <td>composer</td>\n",
       "      <td>Unknown</td>\n",
       "      <td>Unknown</td>\n",
       "    </tr>\n",
       "    <tr>\n",
       "      <th>1</th>\n",
       "      <td>tt0063540</td>\n",
       "      <td>Sunghursh</td>\n",
       "      <td>Sunghursh</td>\n",
       "      <td>2013</td>\n",
       "      <td>175.0</td>\n",
       "      <td>Action,Crime,Drama</td>\n",
       "      <td>1.0</td>\n",
       "      <td>nm0474801</td>\n",
       "      <td>actor</td>\n",
       "      <td>Unknown</td>\n",
       "      <td>[\"Kundan S. Prasad\",\"Bajrangi\"]</td>\n",
       "    </tr>\n",
       "    <tr>\n",
       "      <th>2</th>\n",
       "      <td>tt0063540</td>\n",
       "      <td>Sunghursh</td>\n",
       "      <td>Sunghursh</td>\n",
       "      <td>2013</td>\n",
       "      <td>175.0</td>\n",
       "      <td>Action,Crime,Drama</td>\n",
       "      <td>2.0</td>\n",
       "      <td>nm0904537</td>\n",
       "      <td>actress</td>\n",
       "      <td>Unknown</td>\n",
       "      <td>[\"Munni\",\"Laila-E-Aasmaan\"]</td>\n",
       "    </tr>\n",
       "    <tr>\n",
       "      <th>3</th>\n",
       "      <td>tt0063540</td>\n",
       "      <td>Sunghursh</td>\n",
       "      <td>Sunghursh</td>\n",
       "      <td>2013</td>\n",
       "      <td>175.0</td>\n",
       "      <td>Action,Crime,Drama</td>\n",
       "      <td>3.0</td>\n",
       "      <td>nm0756379</td>\n",
       "      <td>actor</td>\n",
       "      <td>Unknown</td>\n",
       "      <td>[\"Ganeshi N. Prasad\"]</td>\n",
       "    </tr>\n",
       "    <tr>\n",
       "      <th>4</th>\n",
       "      <td>tt0063540</td>\n",
       "      <td>Sunghursh</td>\n",
       "      <td>Sunghursh</td>\n",
       "      <td>2013</td>\n",
       "      <td>175.0</td>\n",
       "      <td>Action,Crime,Drama</td>\n",
       "      <td>4.0</td>\n",
       "      <td>nm0474876</td>\n",
       "      <td>actor</td>\n",
       "      <td>Unknown</td>\n",
       "      <td>[\"Dwarka N. Prasad\"]</td>\n",
       "    </tr>\n",
       "  </tbody>\n",
       "</table>\n",
       "</div>"
      ],
      "text/plain": [
       "    movie_id primary_title original_title  start_year  runtime_minutes  \\\n",
       "0  tt0063540     Sunghursh      Sunghursh        2013            175.0   \n",
       "1  tt0063540     Sunghursh      Sunghursh        2013            175.0   \n",
       "2  tt0063540     Sunghursh      Sunghursh        2013            175.0   \n",
       "3  tt0063540     Sunghursh      Sunghursh        2013            175.0   \n",
       "4  tt0063540     Sunghursh      Sunghursh        2013            175.0   \n",
       "\n",
       "               genres  ordering  person_id  category      job  \\\n",
       "0  Action,Crime,Drama      10.0  nm0006210  composer  Unknown   \n",
       "1  Action,Crime,Drama       1.0  nm0474801     actor  Unknown   \n",
       "2  Action,Crime,Drama       2.0  nm0904537   actress  Unknown   \n",
       "3  Action,Crime,Drama       3.0  nm0756379     actor  Unknown   \n",
       "4  Action,Crime,Drama       4.0  nm0474876     actor  Unknown   \n",
       "\n",
       "                        characters  \n",
       "0                          Unknown  \n",
       "1  [\"Kundan S. Prasad\",\"Bajrangi\"]  \n",
       "2      [\"Munni\",\"Laila-E-Aasmaan\"]  \n",
       "3            [\"Ganeshi N. Prasad\"]  \n",
       "4             [\"Dwarka N. Prasad\"]  "
      ]
     },
     "execution_count": 506,
     "metadata": {},
     "output_type": "execute_result"
    }
   ],
   "source": [
    "# Join movies_basics_ratings table and principals table on the movie_id column\n",
    "# To analyze involvement of persons in the movies\n",
    "movie_basics_principals = movie_basics.merge(principals, how='left', on='movie_id')\n",
    "movie_basics_principals.head()"
   ]
  },
  {
   "cell_type": "code",
   "execution_count": 507,
   "metadata": {},
   "outputs": [
    {
     "data": {
      "text/html": [
       "<div>\n",
       "<style scoped>\n",
       "    .dataframe tbody tr th:only-of-type {\n",
       "        vertical-align: middle;\n",
       "    }\n",
       "\n",
       "    .dataframe tbody tr th {\n",
       "        vertical-align: top;\n",
       "    }\n",
       "\n",
       "    .dataframe thead th {\n",
       "        text-align: right;\n",
       "    }\n",
       "</style>\n",
       "<table border=\"1\" class=\"dataframe\">\n",
       "  <thead>\n",
       "    <tr style=\"text-align: right;\">\n",
       "      <th></th>\n",
       "      <th>movie_id</th>\n",
       "      <th>primary_title</th>\n",
       "      <th>original_title</th>\n",
       "      <th>start_year</th>\n",
       "      <th>runtime_minutes</th>\n",
       "      <th>genres</th>\n",
       "      <th>person_id</th>\n",
       "    </tr>\n",
       "  </thead>\n",
       "  <tbody>\n",
       "    <tr>\n",
       "      <th>0</th>\n",
       "      <td>tt0063540</td>\n",
       "      <td>Sunghursh</td>\n",
       "      <td>Sunghursh</td>\n",
       "      <td>2013</td>\n",
       "      <td>175.0</td>\n",
       "      <td>Action,Crime,Drama</td>\n",
       "      <td>nm0712540</td>\n",
       "    </tr>\n",
       "    <tr>\n",
       "      <th>1</th>\n",
       "      <td>tt0063540</td>\n",
       "      <td>Sunghursh</td>\n",
       "      <td>Sunghursh</td>\n",
       "      <td>2013</td>\n",
       "      <td>175.0</td>\n",
       "      <td>Action,Crime,Drama</td>\n",
       "      <td>nm0712540</td>\n",
       "    </tr>\n",
       "    <tr>\n",
       "      <th>2</th>\n",
       "      <td>tt0063540</td>\n",
       "      <td>Sunghursh</td>\n",
       "      <td>Sunghursh</td>\n",
       "      <td>2013</td>\n",
       "      <td>175.0</td>\n",
       "      <td>Action,Crime,Drama</td>\n",
       "      <td>nm0712540</td>\n",
       "    </tr>\n",
       "    <tr>\n",
       "      <th>3</th>\n",
       "      <td>tt0063540</td>\n",
       "      <td>Sunghursh</td>\n",
       "      <td>Sunghursh</td>\n",
       "      <td>2013</td>\n",
       "      <td>175.0</td>\n",
       "      <td>Action,Crime,Drama</td>\n",
       "      <td>nm0712540</td>\n",
       "    </tr>\n",
       "    <tr>\n",
       "      <th>4</th>\n",
       "      <td>tt0066787</td>\n",
       "      <td>One Day Before the Rainy Season</td>\n",
       "      <td>Ashad Ka Ek Din</td>\n",
       "      <td>2019</td>\n",
       "      <td>114.0</td>\n",
       "      <td>Biography,Drama</td>\n",
       "      <td>nm0002411</td>\n",
       "    </tr>\n",
       "  </tbody>\n",
       "</table>\n",
       "</div>"
      ],
      "text/plain": [
       "    movie_id                    primary_title   original_title  start_year  \\\n",
       "0  tt0063540                        Sunghursh        Sunghursh        2013   \n",
       "1  tt0063540                        Sunghursh        Sunghursh        2013   \n",
       "2  tt0063540                        Sunghursh        Sunghursh        2013   \n",
       "3  tt0063540                        Sunghursh        Sunghursh        2013   \n",
       "4  tt0066787  One Day Before the Rainy Season  Ashad Ka Ek Din        2019   \n",
       "\n",
       "   runtime_minutes              genres  person_id  \n",
       "0            175.0  Action,Crime,Drama  nm0712540  \n",
       "1            175.0  Action,Crime,Drama  nm0712540  \n",
       "2            175.0  Action,Crime,Drama  nm0712540  \n",
       "3            175.0  Action,Crime,Drama  nm0712540  \n",
       "4            114.0     Biography,Drama  nm0002411  "
      ]
     },
     "execution_count": 507,
     "metadata": {},
     "output_type": "execute_result"
    }
   ],
   "source": [
    "# Join movie_basics table and directors table on the movie_id column\n",
    "# To identify movies directed by specific dirctors\n",
    "movie_basics_directors = movie_basics.merge(directors, how='left', on='movie_id')\n",
    "movie_basics_directors.head()"
   ]
  },
  {
   "cell_type": "code",
   "execution_count": 508,
   "metadata": {},
   "outputs": [
    {
     "data": {
      "text/html": [
       "<div>\n",
       "<style scoped>\n",
       "    .dataframe tbody tr th:only-of-type {\n",
       "        vertical-align: middle;\n",
       "    }\n",
       "\n",
       "    .dataframe tbody tr th {\n",
       "        vertical-align: top;\n",
       "    }\n",
       "\n",
       "    .dataframe thead th {\n",
       "        text-align: right;\n",
       "    }\n",
       "</style>\n",
       "<table border=\"1\" class=\"dataframe\">\n",
       "  <thead>\n",
       "    <tr style=\"text-align: right;\">\n",
       "      <th></th>\n",
       "      <th>movie_id</th>\n",
       "      <th>primary_title</th>\n",
       "      <th>original_title</th>\n",
       "      <th>start_year</th>\n",
       "      <th>runtime_minutes</th>\n",
       "      <th>genres</th>\n",
       "      <th>person_id</th>\n",
       "    </tr>\n",
       "  </thead>\n",
       "  <tbody>\n",
       "    <tr>\n",
       "      <th>0</th>\n",
       "      <td>tt0063540</td>\n",
       "      <td>Sunghursh</td>\n",
       "      <td>Sunghursh</td>\n",
       "      <td>2013</td>\n",
       "      <td>175.0</td>\n",
       "      <td>Action,Crime,Drama</td>\n",
       "      <td>nm0023551</td>\n",
       "    </tr>\n",
       "    <tr>\n",
       "      <th>1</th>\n",
       "      <td>tt0063540</td>\n",
       "      <td>Sunghursh</td>\n",
       "      <td>Sunghursh</td>\n",
       "      <td>2013</td>\n",
       "      <td>175.0</td>\n",
       "      <td>Action,Crime,Drama</td>\n",
       "      <td>nm1194313</td>\n",
       "    </tr>\n",
       "    <tr>\n",
       "      <th>2</th>\n",
       "      <td>tt0063540</td>\n",
       "      <td>Sunghursh</td>\n",
       "      <td>Sunghursh</td>\n",
       "      <td>2013</td>\n",
       "      <td>175.0</td>\n",
       "      <td>Action,Crime,Drama</td>\n",
       "      <td>nm0347899</td>\n",
       "    </tr>\n",
       "    <tr>\n",
       "      <th>3</th>\n",
       "      <td>tt0063540</td>\n",
       "      <td>Sunghursh</td>\n",
       "      <td>Sunghursh</td>\n",
       "      <td>2013</td>\n",
       "      <td>175.0</td>\n",
       "      <td>Action,Crime,Drama</td>\n",
       "      <td>nm1391276</td>\n",
       "    </tr>\n",
       "    <tr>\n",
       "      <th>4</th>\n",
       "      <td>tt0066787</td>\n",
       "      <td>One Day Before the Rainy Season</td>\n",
       "      <td>Ashad Ka Ek Din</td>\n",
       "      <td>2019</td>\n",
       "      <td>114.0</td>\n",
       "      <td>Biography,Drama</td>\n",
       "      <td>NaN</td>\n",
       "    </tr>\n",
       "  </tbody>\n",
       "</table>\n",
       "</div>"
      ],
      "text/plain": [
       "    movie_id                    primary_title   original_title  start_year  \\\n",
       "0  tt0063540                        Sunghursh        Sunghursh        2013   \n",
       "1  tt0063540                        Sunghursh        Sunghursh        2013   \n",
       "2  tt0063540                        Sunghursh        Sunghursh        2013   \n",
       "3  tt0063540                        Sunghursh        Sunghursh        2013   \n",
       "4  tt0066787  One Day Before the Rainy Season  Ashad Ka Ek Din        2019   \n",
       "\n",
       "   runtime_minutes              genres  person_id  \n",
       "0            175.0  Action,Crime,Drama  nm0023551  \n",
       "1            175.0  Action,Crime,Drama  nm1194313  \n",
       "2            175.0  Action,Crime,Drama  nm0347899  \n",
       "3            175.0  Action,Crime,Drama  nm1391276  \n",
       "4            114.0     Biography,Drama        NaN  "
      ]
     },
     "execution_count": 508,
     "metadata": {},
     "output_type": "execute_result"
    }
   ],
   "source": [
    "#Join movie_basics table and writers table on the movie_id column\n",
    "#To identify movies written by specific writers\n",
    "movie_basics_writers = movie_basics.merge(writers, how='left', on='movie_id')\n",
    "movie_basics_writers.head()"
   ]
  },
  {
   "cell_type": "code",
   "execution_count": 509,
   "metadata": {},
   "outputs": [
    {
     "data": {
      "text/html": [
       "<div>\n",
       "<style scoped>\n",
       "    .dataframe tbody tr th:only-of-type {\n",
       "        vertical-align: middle;\n",
       "    }\n",
       "\n",
       "    .dataframe tbody tr th {\n",
       "        vertical-align: top;\n",
       "    }\n",
       "\n",
       "    .dataframe thead th {\n",
       "        text-align: right;\n",
       "    }\n",
       "</style>\n",
       "<table border=\"1\" class=\"dataframe\">\n",
       "  <thead>\n",
       "    <tr style=\"text-align: right;\">\n",
       "      <th></th>\n",
       "      <th>person_id</th>\n",
       "      <th>primary_name</th>\n",
       "      <th>primary_profession</th>\n",
       "      <th>movie_id</th>\n",
       "    </tr>\n",
       "  </thead>\n",
       "  <tbody>\n",
       "    <tr>\n",
       "      <th>0</th>\n",
       "      <td>nm0061671</td>\n",
       "      <td>Mary Ellen Bauder</td>\n",
       "      <td>miscellaneous,production_manager,producer</td>\n",
       "      <td>tt0837562</td>\n",
       "    </tr>\n",
       "    <tr>\n",
       "      <th>1</th>\n",
       "      <td>nm0061671</td>\n",
       "      <td>Mary Ellen Bauder</td>\n",
       "      <td>miscellaneous,production_manager,producer</td>\n",
       "      <td>tt2398241</td>\n",
       "    </tr>\n",
       "    <tr>\n",
       "      <th>2</th>\n",
       "      <td>nm0061671</td>\n",
       "      <td>Mary Ellen Bauder</td>\n",
       "      <td>miscellaneous,production_manager,producer</td>\n",
       "      <td>tt0844471</td>\n",
       "    </tr>\n",
       "    <tr>\n",
       "      <th>3</th>\n",
       "      <td>nm0061671</td>\n",
       "      <td>Mary Ellen Bauder</td>\n",
       "      <td>miscellaneous,production_manager,producer</td>\n",
       "      <td>tt0118553</td>\n",
       "    </tr>\n",
       "    <tr>\n",
       "      <th>4</th>\n",
       "      <td>nm0061865</td>\n",
       "      <td>Joseph Bauer</td>\n",
       "      <td>composer,music_department,sound_department</td>\n",
       "      <td>tt0896534</td>\n",
       "    </tr>\n",
       "  </tbody>\n",
       "</table>\n",
       "</div>"
      ],
      "text/plain": [
       "   person_id       primary_name                          primary_profession  \\\n",
       "0  nm0061671  Mary Ellen Bauder   miscellaneous,production_manager,producer   \n",
       "1  nm0061671  Mary Ellen Bauder   miscellaneous,production_manager,producer   \n",
       "2  nm0061671  Mary Ellen Bauder   miscellaneous,production_manager,producer   \n",
       "3  nm0061671  Mary Ellen Bauder   miscellaneous,production_manager,producer   \n",
       "4  nm0061865       Joseph Bauer  composer,music_department,sound_department   \n",
       "\n",
       "    movie_id  \n",
       "0  tt0837562  \n",
       "1  tt2398241  \n",
       "2  tt0844471  \n",
       "3  tt0118553  \n",
       "4  tt0896534  "
      ]
     },
     "execution_count": 509,
     "metadata": {},
     "output_type": "execute_result"
    }
   ],
   "source": [
    "#Join persons table and known_for table on the person_id column\n",
    "#to associate individuals with their known movies, providing insights into their contributions and successes.\n",
    "persons_known_for = persons.merge(known_for, how='left', on='person_id')\n",
    "persons_known_for.head()"
   ]
  },
  {
   "cell_type": "markdown",
   "metadata": {},
   "source": [
    "## c. The Numbers"
   ]
  },
  {
   "cell_type": "code",
   "execution_count": 510,
   "metadata": {},
   "outputs": [],
   "source": [
    "# Turn the production_budget, domestic_gross and worldwide_gross columns to float\n",
    "# This is because the columns contain numerical values\n",
    "# Remove the commas and dollar signs from the columns\n",
    "the_number['production_budget'] = the_number['production_budget'].str.replace(',', '').str.replace('$', '').astype(float)\n",
    "the_number['domestic_gross'] = the_number['domestic_gross'].str.replace(',', '').str.replace('$', '').astype(float)\n",
    "the_number['worldwide_gross'] = the_number['worldwide_gross'].str.replace(',', '').str.replace('$', '').astype(float)\n"
   ]
  },
  {
   "cell_type": "code",
   "execution_count": 511,
   "metadata": {},
   "outputs": [],
   "source": [
    "# Turn the release_date column to datetime\n",
    "the_number['release_date'] = pd.to_datetime(the_number['release_date'])"
   ]
  },
  {
   "cell_type": "code",
   "execution_count": 512,
   "metadata": {},
   "outputs": [
    {
     "name": "stdout",
     "output_type": "stream",
     "text": [
      "<class 'pandas.core.frame.DataFrame'>\n",
      "RangeIndex: 5782 entries, 0 to 5781\n",
      "Data columns (total 6 columns):\n",
      " #   Column             Non-Null Count  Dtype         \n",
      "---  ------             --------------  -----         \n",
      " 0   id                 5782 non-null   int64         \n",
      " 1   release_date       5782 non-null   datetime64[ns]\n",
      " 2   movie              5782 non-null   object        \n",
      " 3   production_budget  5782 non-null   float64       \n",
      " 4   domestic_gross     5782 non-null   float64       \n",
      " 5   worldwide_gross    5782 non-null   float64       \n",
      "dtypes: datetime64[ns](1), float64(3), int64(1), object(1)\n",
      "memory usage: 271.2+ KB\n"
     ]
    }
   ],
   "source": [
    "the_number.info()  "
   ]
  },
  {
   "cell_type": "code",
   "execution_count": 513,
   "metadata": {},
   "outputs": [
    {
     "data": {
      "text/html": [
       "<div>\n",
       "<style scoped>\n",
       "    .dataframe tbody tr th:only-of-type {\n",
       "        vertical-align: middle;\n",
       "    }\n",
       "\n",
       "    .dataframe tbody tr th {\n",
       "        vertical-align: top;\n",
       "    }\n",
       "\n",
       "    .dataframe thead th {\n",
       "        text-align: right;\n",
       "    }\n",
       "</style>\n",
       "<table border=\"1\" class=\"dataframe\">\n",
       "  <thead>\n",
       "    <tr style=\"text-align: right;\">\n",
       "      <th></th>\n",
       "      <th>id</th>\n",
       "      <th>release_date</th>\n",
       "      <th>movie</th>\n",
       "      <th>production_budget</th>\n",
       "      <th>domestic_gross</th>\n",
       "      <th>worldwide_gross</th>\n",
       "      <th>total_gross</th>\n",
       "    </tr>\n",
       "  </thead>\n",
       "  <tbody>\n",
       "    <tr>\n",
       "      <th>0</th>\n",
       "      <td>1</td>\n",
       "      <td>2009-12-18</td>\n",
       "      <td>Avatar</td>\n",
       "      <td>425000000.0</td>\n",
       "      <td>760507625.0</td>\n",
       "      <td>2.776345e+09</td>\n",
       "      <td>3.536853e+09</td>\n",
       "    </tr>\n",
       "    <tr>\n",
       "      <th>1</th>\n",
       "      <td>2</td>\n",
       "      <td>2011-05-20</td>\n",
       "      <td>Pirates of the Caribbean: On Stranger Tides</td>\n",
       "      <td>410600000.0</td>\n",
       "      <td>241063875.0</td>\n",
       "      <td>1.045664e+09</td>\n",
       "      <td>1.286728e+09</td>\n",
       "    </tr>\n",
       "    <tr>\n",
       "      <th>2</th>\n",
       "      <td>3</td>\n",
       "      <td>2019-06-07</td>\n",
       "      <td>Dark Phoenix</td>\n",
       "      <td>350000000.0</td>\n",
       "      <td>42762350.0</td>\n",
       "      <td>1.497624e+08</td>\n",
       "      <td>1.925247e+08</td>\n",
       "    </tr>\n",
       "    <tr>\n",
       "      <th>3</th>\n",
       "      <td>4</td>\n",
       "      <td>2015-05-01</td>\n",
       "      <td>Avengers: Age of Ultron</td>\n",
       "      <td>330600000.0</td>\n",
       "      <td>459005868.0</td>\n",
       "      <td>1.403014e+09</td>\n",
       "      <td>1.862020e+09</td>\n",
       "    </tr>\n",
       "    <tr>\n",
       "      <th>4</th>\n",
       "      <td>5</td>\n",
       "      <td>2017-12-15</td>\n",
       "      <td>Star Wars Ep. VIII: The Last Jedi</td>\n",
       "      <td>317000000.0</td>\n",
       "      <td>620181382.0</td>\n",
       "      <td>1.316722e+09</td>\n",
       "      <td>1.936903e+09</td>\n",
       "    </tr>\n",
       "  </tbody>\n",
       "</table>\n",
       "</div>"
      ],
      "text/plain": [
       "   id release_date                                        movie  \\\n",
       "0   1   2009-12-18                                       Avatar   \n",
       "1   2   2011-05-20  Pirates of the Caribbean: On Stranger Tides   \n",
       "2   3   2019-06-07                                 Dark Phoenix   \n",
       "3   4   2015-05-01                      Avengers: Age of Ultron   \n",
       "4   5   2017-12-15            Star Wars Ep. VIII: The Last Jedi   \n",
       "\n",
       "   production_budget  domestic_gross  worldwide_gross   total_gross  \n",
       "0        425000000.0     760507625.0     2.776345e+09  3.536853e+09  \n",
       "1        410600000.0     241063875.0     1.045664e+09  1.286728e+09  \n",
       "2        350000000.0      42762350.0     1.497624e+08  1.925247e+08  \n",
       "3        330600000.0     459005868.0     1.403014e+09  1.862020e+09  \n",
       "4        317000000.0     620181382.0     1.316722e+09  1.936903e+09  "
      ]
     },
     "execution_count": 513,
     "metadata": {},
     "output_type": "execute_result"
    }
   ],
   "source": [
    "# Feature engineering to create a new column called total_gross\n",
    "# This column will contain the sum of the domestic_gross and worldwide_gross columns\n",
    "# representing the total gross of the movie\n",
    "the_number['total_gross'] = the_number['domestic_gross'] + the_number['worldwide_gross']\n",
    "the_number.head()"
   ]
  },
  {
   "cell_type": "code",
   "execution_count": 514,
   "metadata": {},
   "outputs": [
    {
     "data": {
      "text/html": [
       "<div>\n",
       "<style scoped>\n",
       "    .dataframe tbody tr th:only-of-type {\n",
       "        vertical-align: middle;\n",
       "    }\n",
       "\n",
       "    .dataframe tbody tr th {\n",
       "        vertical-align: top;\n",
       "    }\n",
       "\n",
       "    .dataframe thead th {\n",
       "        text-align: right;\n",
       "    }\n",
       "</style>\n",
       "<table border=\"1\" class=\"dataframe\">\n",
       "  <thead>\n",
       "    <tr style=\"text-align: right;\">\n",
       "      <th></th>\n",
       "      <th>id</th>\n",
       "      <th>release_date</th>\n",
       "      <th>movie</th>\n",
       "      <th>production_budget</th>\n",
       "      <th>domestic_gross</th>\n",
       "      <th>worldwide_gross</th>\n",
       "      <th>total_gross</th>\n",
       "      <th>profit</th>\n",
       "    </tr>\n",
       "  </thead>\n",
       "  <tbody>\n",
       "    <tr>\n",
       "      <th>5777</th>\n",
       "      <td>78</td>\n",
       "      <td>2018-12-31</td>\n",
       "      <td>Red 11</td>\n",
       "      <td>7000.0</td>\n",
       "      <td>0.0</td>\n",
       "      <td>0.0</td>\n",
       "      <td>0.0</td>\n",
       "      <td>-7000.0</td>\n",
       "    </tr>\n",
       "    <tr>\n",
       "      <th>5778</th>\n",
       "      <td>79</td>\n",
       "      <td>1999-04-02</td>\n",
       "      <td>Following</td>\n",
       "      <td>6000.0</td>\n",
       "      <td>48482.0</td>\n",
       "      <td>240495.0</td>\n",
       "      <td>288977.0</td>\n",
       "      <td>282977.0</td>\n",
       "    </tr>\n",
       "    <tr>\n",
       "      <th>5779</th>\n",
       "      <td>80</td>\n",
       "      <td>2005-07-13</td>\n",
       "      <td>Return to the Land of Wonders</td>\n",
       "      <td>5000.0</td>\n",
       "      <td>1338.0</td>\n",
       "      <td>1338.0</td>\n",
       "      <td>2676.0</td>\n",
       "      <td>-2324.0</td>\n",
       "    </tr>\n",
       "    <tr>\n",
       "      <th>5780</th>\n",
       "      <td>81</td>\n",
       "      <td>2015-09-29</td>\n",
       "      <td>A Plague So Pleasant</td>\n",
       "      <td>1400.0</td>\n",
       "      <td>0.0</td>\n",
       "      <td>0.0</td>\n",
       "      <td>0.0</td>\n",
       "      <td>-1400.0</td>\n",
       "    </tr>\n",
       "    <tr>\n",
       "      <th>5781</th>\n",
       "      <td>82</td>\n",
       "      <td>2005-08-05</td>\n",
       "      <td>My Date With Drew</td>\n",
       "      <td>1100.0</td>\n",
       "      <td>181041.0</td>\n",
       "      <td>181041.0</td>\n",
       "      <td>362082.0</td>\n",
       "      <td>360982.0</td>\n",
       "    </tr>\n",
       "  </tbody>\n",
       "</table>\n",
       "</div>"
      ],
      "text/plain": [
       "      id release_date                          movie  production_budget  \\\n",
       "5777  78   2018-12-31                         Red 11             7000.0   \n",
       "5778  79   1999-04-02                      Following             6000.0   \n",
       "5779  80   2005-07-13  Return to the Land of Wonders             5000.0   \n",
       "5780  81   2015-09-29           A Plague So Pleasant             1400.0   \n",
       "5781  82   2005-08-05              My Date With Drew             1100.0   \n",
       "\n",
       "      domestic_gross  worldwide_gross  total_gross    profit  \n",
       "5777             0.0              0.0          0.0   -7000.0  \n",
       "5778         48482.0         240495.0     288977.0  282977.0  \n",
       "5779          1338.0           1338.0       2676.0   -2324.0  \n",
       "5780             0.0              0.0          0.0   -1400.0  \n",
       "5781        181041.0         181041.0     362082.0  360982.0  "
      ]
     },
     "execution_count": 514,
     "metadata": {},
     "output_type": "execute_result"
    }
   ],
   "source": [
    "#Feature engineering to create a new column called profit\n",
    "#This column will contain the difference between the total_gross and the production_budget columns\n",
    "#representing the profit made from the movie\n",
    "the_number['profit'] = the_number['total_gross'] - the_number['production_budget']\n",
    "the_number.tail()"
   ]
  },
  {
   "cell_type": "markdown",
   "metadata": {},
   "source": [
    "## d. Rotten Tomatoes"
   ]
  },
  {
   "cell_type": "code",
   "execution_count": 515,
   "metadata": {},
   "outputs": [
    {
     "name": "stdout",
     "output_type": "stream",
     "text": [
      "<class 'pandas.core.frame.DataFrame'>\n",
      "RangeIndex: 1560 entries, 0 to 1559\n",
      "Data columns (total 12 columns):\n",
      " #   Column        Non-Null Count  Dtype \n",
      "---  ------        --------------  ----- \n",
      " 0   id            1560 non-null   int64 \n",
      " 1   synopsis      1560 non-null   object\n",
      " 2   rating        1560 non-null   object\n",
      " 3   genre         1560 non-null   object\n",
      " 4   director      1560 non-null   object\n",
      " 5   writer        1560 non-null   object\n",
      " 6   theater_date  1560 non-null   object\n",
      " 7   dvd_date      1560 non-null   object\n",
      " 8   currency      1560 non-null   object\n",
      " 9   box_office    1560 non-null   object\n",
      " 10  runtime       1560 non-null   object\n",
      " 11  studio        1560 non-null   object\n",
      "dtypes: int64(1), object(11)\n",
      "memory usage: 146.4+ KB\n"
     ]
    }
   ],
   "source": [
    "# Addressing missing values in the rotten_tomatoes_movie dataset\n",
    "# Replace the null values in the synopsis column with 'Unknown' since the column contains categorical values\n",
    "rotten_tomatoes_movie['synopsis'] = rotten_tomatoes_movie['synopsis'].fillna('Unknown')\n",
    "\n",
    "# Replace the null values in the rating column with 'Unknown' since the column contains categorical values\n",
    "rotten_tomatoes_movie['rating'] = rotten_tomatoes_movie['rating'].fillna('Unknown')\n",
    "\n",
    "# Replace the null values in the genre column with 'Unknown' since the column contains categorical values\n",
    "rotten_tomatoes_movie['genre'] = rotten_tomatoes_movie['genre'].fillna('Unknown')\n",
    "\n",
    "# Replace the null values in the director column with 'Unknown' since the column contains categorical values\n",
    "rotten_tomatoes_movie['director'] = rotten_tomatoes_movie['director'].fillna('Unknown')\n",
    "\n",
    "# Replace the null values in the writer column with 'Unknown' since the column contains categorical values\n",
    "rotten_tomatoes_movie['writer'] = rotten_tomatoes_movie['writer'].fillna('Unknown')\n",
    "\n",
    "# Replace the null values in the theater_date column with 'Unknown' since the column contains categorical values\n",
    "rotten_tomatoes_movie['theater_date'] = rotten_tomatoes_movie['theater_date'].fillna('Unknown')\n",
    "\n",
    "# Replace the null values in the dvd_date column with 'Unknown' since the column contains categorical values\n",
    "rotten_tomatoes_movie['dvd_date'] = rotten_tomatoes_movie['dvd_date'].fillna('Unknown')\n",
    "\n",
    "# Replace the null values in the currency column with 'Unknown' since the column contains categorical values\n",
    "rotten_tomatoes_movie['currency'] = rotten_tomatoes_movie['currency'].fillna('Unknown')\n",
    "\n",
    "# Replace the null values in the box_office column with 'Unknown' since the column contains categorical values\n",
    "rotten_tomatoes_movie['box_office'] = rotten_tomatoes_movie['box_office'].fillna('Unknown')\n",
    "\n",
    "# Replace the null values in the runtime column with the median value since the column contains numerical values and the median is not affected by outliers\n",
    "rotten_tomatoes_movie['runtime'] = rotten_tomatoes_movie['runtime'].fillna('Unknown')\n",
    "\n",
    "# Replace the null values in the studio column with 'Unknown' since the column contains categorical values\n",
    "rotten_tomatoes_movie['studio'] = rotten_tomatoes_movie['studio'].fillna('Unknown')\n",
    "\n",
    "rotten_tomatoes_movie.info()"
   ]
  },
  {
   "cell_type": "markdown",
   "metadata": {},
   "source": [
    "## i. Rotten Tomatoes reviews"
   ]
  },
  {
   "cell_type": "code",
   "execution_count": 516,
   "metadata": {},
   "outputs": [
    {
     "data": {
      "text/html": [
       "<div>\n",
       "<style scoped>\n",
       "    .dataframe tbody tr th:only-of-type {\n",
       "        vertical-align: middle;\n",
       "    }\n",
       "\n",
       "    .dataframe tbody tr th {\n",
       "        vertical-align: top;\n",
       "    }\n",
       "\n",
       "    .dataframe thead th {\n",
       "        text-align: right;\n",
       "    }\n",
       "</style>\n",
       "<table border=\"1\" class=\"dataframe\">\n",
       "  <thead>\n",
       "    <tr style=\"text-align: right;\">\n",
       "      <th></th>\n",
       "      <th>id</th>\n",
       "      <th>review</th>\n",
       "      <th>rating</th>\n",
       "      <th>fresh</th>\n",
       "      <th>critic</th>\n",
       "      <th>top_critic</th>\n",
       "      <th>publisher</th>\n",
       "      <th>date</th>\n",
       "    </tr>\n",
       "  </thead>\n",
       "  <tbody>\n",
       "    <tr>\n",
       "      <th>0</th>\n",
       "      <td>3</td>\n",
       "      <td>A distinctly gallows take on contemporary fina...</td>\n",
       "      <td>3/5</td>\n",
       "      <td>fresh</td>\n",
       "      <td>PJ Nabarro</td>\n",
       "      <td>0</td>\n",
       "      <td>Patrick Nabarro</td>\n",
       "      <td>November 10, 2018</td>\n",
       "    </tr>\n",
       "    <tr>\n",
       "      <th>1</th>\n",
       "      <td>3</td>\n",
       "      <td>It's an allegory in search of a meaning that n...</td>\n",
       "      <td>NaN</td>\n",
       "      <td>rotten</td>\n",
       "      <td>Annalee Newitz</td>\n",
       "      <td>0</td>\n",
       "      <td>io9.com</td>\n",
       "      <td>May 23, 2018</td>\n",
       "    </tr>\n",
       "    <tr>\n",
       "      <th>2</th>\n",
       "      <td>3</td>\n",
       "      <td>... life lived in a bubble in financial dealin...</td>\n",
       "      <td>NaN</td>\n",
       "      <td>fresh</td>\n",
       "      <td>Sean Axmaker</td>\n",
       "      <td>0</td>\n",
       "      <td>Stream on Demand</td>\n",
       "      <td>January 4, 2018</td>\n",
       "    </tr>\n",
       "    <tr>\n",
       "      <th>3</th>\n",
       "      <td>3</td>\n",
       "      <td>Continuing along a line introduced in last yea...</td>\n",
       "      <td>NaN</td>\n",
       "      <td>fresh</td>\n",
       "      <td>Daniel Kasman</td>\n",
       "      <td>0</td>\n",
       "      <td>MUBI</td>\n",
       "      <td>November 16, 2017</td>\n",
       "    </tr>\n",
       "    <tr>\n",
       "      <th>4</th>\n",
       "      <td>3</td>\n",
       "      <td>... a perverse twist on neorealism...</td>\n",
       "      <td>NaN</td>\n",
       "      <td>fresh</td>\n",
       "      <td>NaN</td>\n",
       "      <td>0</td>\n",
       "      <td>Cinema Scope</td>\n",
       "      <td>October 12, 2017</td>\n",
       "    </tr>\n",
       "  </tbody>\n",
       "</table>\n",
       "</div>"
      ],
      "text/plain": [
       "   id                                             review rating   fresh  \\\n",
       "0   3  A distinctly gallows take on contemporary fina...    3/5   fresh   \n",
       "1   3  It's an allegory in search of a meaning that n...    NaN  rotten   \n",
       "2   3  ... life lived in a bubble in financial dealin...    NaN   fresh   \n",
       "3   3  Continuing along a line introduced in last yea...    NaN   fresh   \n",
       "4   3             ... a perverse twist on neorealism...     NaN   fresh   \n",
       "\n",
       "           critic  top_critic         publisher               date  \n",
       "0      PJ Nabarro           0   Patrick Nabarro  November 10, 2018  \n",
       "1  Annalee Newitz           0           io9.com       May 23, 2018  \n",
       "2    Sean Axmaker           0  Stream on Demand    January 4, 2018  \n",
       "3   Daniel Kasman           0              MUBI  November 16, 2017  \n",
       "4             NaN           0      Cinema Scope   October 12, 2017  "
      ]
     },
     "execution_count": 516,
     "metadata": {},
     "output_type": "execute_result"
    }
   ],
   "source": [
    "rotten_tomatoes_review.head()\n",
    "\n",
    "# id                0\n",
    "# review         5563\n",
    "# rating        13517\n",
    "# fresh             0\n",
    "# critic         2722\n",
    "# top_critic        0\n",
    "# publisher       309\n",
    "# date              0"
   ]
  },
  {
   "cell_type": "code",
   "execution_count": 517,
   "metadata": {},
   "outputs": [
    {
     "name": "stdout",
     "output_type": "stream",
     "text": [
      "<class 'pandas.core.frame.DataFrame'>\n",
      "RangeIndex: 54432 entries, 0 to 54431\n",
      "Data columns (total 8 columns):\n",
      " #   Column      Non-Null Count  Dtype \n",
      "---  ------      --------------  ----- \n",
      " 0   id          54432 non-null  int64 \n",
      " 1   review      54432 non-null  object\n",
      " 2   rating      54432 non-null  object\n",
      " 3   fresh       54432 non-null  object\n",
      " 4   critic      54432 non-null  object\n",
      " 5   top_critic  54432 non-null  int64 \n",
      " 6   publisher   54432 non-null  object\n",
      " 7   date        54432 non-null  object\n",
      "dtypes: int64(2), object(6)\n",
      "memory usage: 3.3+ MB\n"
     ]
    }
   ],
   "source": [
    "#Address missing values in the rotten_tomatoes_review dataset\n",
    "#Replace the null values in the review column with 'Unknown' since the column contains categorical values\n",
    "rotten_tomatoes_review['review'] = rotten_tomatoes_review['review'].fillna('Unknown')\n",
    "\n",
    "#Replace the null values in the rating column with 'Unknown' since the column contains categorical values\n",
    "rotten_tomatoes_review['rating'] = rotten_tomatoes_review['rating'].fillna('Unknown')\n",
    "\n",
    "#Replace the null values in the critic column with 'Unknown' since the column contains categorical values\n",
    "rotten_tomatoes_review['critic'] = rotten_tomatoes_review['critic'].fillna('Unknown')\n",
    "\n",
    "#Replace the null values in the publisher column with 'Unknown' since the column contains categorical values\n",
    "rotten_tomatoes_review['publisher'] = rotten_tomatoes_review['publisher'].fillna('Unknown')\n",
    "\n",
    "rotten_tomatoes_review.info()"
   ]
  },
  {
   "cell_type": "markdown",
   "metadata": {},
   "source": [
    "### Merge Rotten Tomatoes dataset with Rotten Tomatoes Reviews dataset\n"
   ]
  },
  {
   "cell_type": "code",
   "execution_count": 518,
   "metadata": {},
   "outputs": [
    {
     "data": {
      "text/html": [
       "<div>\n",
       "<style scoped>\n",
       "    .dataframe tbody tr th:only-of-type {\n",
       "        vertical-align: middle;\n",
       "    }\n",
       "\n",
       "    .dataframe tbody tr th {\n",
       "        vertical-align: top;\n",
       "    }\n",
       "\n",
       "    .dataframe thead th {\n",
       "        text-align: right;\n",
       "    }\n",
       "</style>\n",
       "<table border=\"1\" class=\"dataframe\">\n",
       "  <thead>\n",
       "    <tr style=\"text-align: right;\">\n",
       "      <th></th>\n",
       "      <th>id</th>\n",
       "      <th>synopsis</th>\n",
       "      <th>rating_x</th>\n",
       "      <th>genre</th>\n",
       "      <th>director</th>\n",
       "      <th>writer</th>\n",
       "      <th>theater_date</th>\n",
       "      <th>dvd_date</th>\n",
       "      <th>currency</th>\n",
       "      <th>box_office</th>\n",
       "      <th>runtime</th>\n",
       "      <th>studio</th>\n",
       "      <th>review</th>\n",
       "      <th>rating_y</th>\n",
       "      <th>fresh</th>\n",
       "      <th>critic</th>\n",
       "      <th>top_critic</th>\n",
       "      <th>publisher</th>\n",
       "      <th>date</th>\n",
       "    </tr>\n",
       "  </thead>\n",
       "  <tbody>\n",
       "    <tr>\n",
       "      <th>0</th>\n",
       "      <td>1</td>\n",
       "      <td>This gritty, fast-paced, and innovative police...</td>\n",
       "      <td>R</td>\n",
       "      <td>Action and Adventure|Classics|Drama</td>\n",
       "      <td>William Friedkin</td>\n",
       "      <td>Ernest Tidyman</td>\n",
       "      <td>Oct 9, 1971</td>\n",
       "      <td>Sep 25, 2001</td>\n",
       "      <td>Unknown</td>\n",
       "      <td>Unknown</td>\n",
       "      <td>104 minutes</td>\n",
       "      <td>Unknown</td>\n",
       "      <td>NaN</td>\n",
       "      <td>NaN</td>\n",
       "      <td>NaN</td>\n",
       "      <td>NaN</td>\n",
       "      <td>NaN</td>\n",
       "      <td>NaN</td>\n",
       "      <td>NaN</td>\n",
       "    </tr>\n",
       "    <tr>\n",
       "      <th>1</th>\n",
       "      <td>3</td>\n",
       "      <td>New York City, not-too-distant-future: Eric Pa...</td>\n",
       "      <td>R</td>\n",
       "      <td>Drama|Science Fiction and Fantasy</td>\n",
       "      <td>David Cronenberg</td>\n",
       "      <td>David Cronenberg|Don DeLillo</td>\n",
       "      <td>Aug 17, 2012</td>\n",
       "      <td>Jan 1, 2013</td>\n",
       "      <td>$</td>\n",
       "      <td>600,000</td>\n",
       "      <td>108 minutes</td>\n",
       "      <td>Entertainment One</td>\n",
       "      <td>A distinctly gallows take on contemporary fina...</td>\n",
       "      <td>3/5</td>\n",
       "      <td>fresh</td>\n",
       "      <td>PJ Nabarro</td>\n",
       "      <td>0.0</td>\n",
       "      <td>Patrick Nabarro</td>\n",
       "      <td>November 10, 2018</td>\n",
       "    </tr>\n",
       "    <tr>\n",
       "      <th>2</th>\n",
       "      <td>3</td>\n",
       "      <td>New York City, not-too-distant-future: Eric Pa...</td>\n",
       "      <td>R</td>\n",
       "      <td>Drama|Science Fiction and Fantasy</td>\n",
       "      <td>David Cronenberg</td>\n",
       "      <td>David Cronenberg|Don DeLillo</td>\n",
       "      <td>Aug 17, 2012</td>\n",
       "      <td>Jan 1, 2013</td>\n",
       "      <td>$</td>\n",
       "      <td>600,000</td>\n",
       "      <td>108 minutes</td>\n",
       "      <td>Entertainment One</td>\n",
       "      <td>It's an allegory in search of a meaning that n...</td>\n",
       "      <td>Unknown</td>\n",
       "      <td>rotten</td>\n",
       "      <td>Annalee Newitz</td>\n",
       "      <td>0.0</td>\n",
       "      <td>io9.com</td>\n",
       "      <td>May 23, 2018</td>\n",
       "    </tr>\n",
       "    <tr>\n",
       "      <th>3</th>\n",
       "      <td>3</td>\n",
       "      <td>New York City, not-too-distant-future: Eric Pa...</td>\n",
       "      <td>R</td>\n",
       "      <td>Drama|Science Fiction and Fantasy</td>\n",
       "      <td>David Cronenberg</td>\n",
       "      <td>David Cronenberg|Don DeLillo</td>\n",
       "      <td>Aug 17, 2012</td>\n",
       "      <td>Jan 1, 2013</td>\n",
       "      <td>$</td>\n",
       "      <td>600,000</td>\n",
       "      <td>108 minutes</td>\n",
       "      <td>Entertainment One</td>\n",
       "      <td>... life lived in a bubble in financial dealin...</td>\n",
       "      <td>Unknown</td>\n",
       "      <td>fresh</td>\n",
       "      <td>Sean Axmaker</td>\n",
       "      <td>0.0</td>\n",
       "      <td>Stream on Demand</td>\n",
       "      <td>January 4, 2018</td>\n",
       "    </tr>\n",
       "    <tr>\n",
       "      <th>4</th>\n",
       "      <td>3</td>\n",
       "      <td>New York City, not-too-distant-future: Eric Pa...</td>\n",
       "      <td>R</td>\n",
       "      <td>Drama|Science Fiction and Fantasy</td>\n",
       "      <td>David Cronenberg</td>\n",
       "      <td>David Cronenberg|Don DeLillo</td>\n",
       "      <td>Aug 17, 2012</td>\n",
       "      <td>Jan 1, 2013</td>\n",
       "      <td>$</td>\n",
       "      <td>600,000</td>\n",
       "      <td>108 minutes</td>\n",
       "      <td>Entertainment One</td>\n",
       "      <td>Continuing along a line introduced in last yea...</td>\n",
       "      <td>Unknown</td>\n",
       "      <td>fresh</td>\n",
       "      <td>Daniel Kasman</td>\n",
       "      <td>0.0</td>\n",
       "      <td>MUBI</td>\n",
       "      <td>November 16, 2017</td>\n",
       "    </tr>\n",
       "  </tbody>\n",
       "</table>\n",
       "</div>"
      ],
      "text/plain": [
       "   id                                           synopsis rating_x  \\\n",
       "0   1  This gritty, fast-paced, and innovative police...        R   \n",
       "1   3  New York City, not-too-distant-future: Eric Pa...        R   \n",
       "2   3  New York City, not-too-distant-future: Eric Pa...        R   \n",
       "3   3  New York City, not-too-distant-future: Eric Pa...        R   \n",
       "4   3  New York City, not-too-distant-future: Eric Pa...        R   \n",
       "\n",
       "                                 genre          director  \\\n",
       "0  Action and Adventure|Classics|Drama  William Friedkin   \n",
       "1    Drama|Science Fiction and Fantasy  David Cronenberg   \n",
       "2    Drama|Science Fiction and Fantasy  David Cronenberg   \n",
       "3    Drama|Science Fiction and Fantasy  David Cronenberg   \n",
       "4    Drama|Science Fiction and Fantasy  David Cronenberg   \n",
       "\n",
       "                         writer  theater_date      dvd_date currency  \\\n",
       "0                Ernest Tidyman   Oct 9, 1971  Sep 25, 2001  Unknown   \n",
       "1  David Cronenberg|Don DeLillo  Aug 17, 2012   Jan 1, 2013        $   \n",
       "2  David Cronenberg|Don DeLillo  Aug 17, 2012   Jan 1, 2013        $   \n",
       "3  David Cronenberg|Don DeLillo  Aug 17, 2012   Jan 1, 2013        $   \n",
       "4  David Cronenberg|Don DeLillo  Aug 17, 2012   Jan 1, 2013        $   \n",
       "\n",
       "  box_office      runtime             studio  \\\n",
       "0    Unknown  104 minutes            Unknown   \n",
       "1    600,000  108 minutes  Entertainment One   \n",
       "2    600,000  108 minutes  Entertainment One   \n",
       "3    600,000  108 minutes  Entertainment One   \n",
       "4    600,000  108 minutes  Entertainment One   \n",
       "\n",
       "                                              review rating_y   fresh  \\\n",
       "0                                                NaN      NaN     NaN   \n",
       "1  A distinctly gallows take on contemporary fina...      3/5   fresh   \n",
       "2  It's an allegory in search of a meaning that n...  Unknown  rotten   \n",
       "3  ... life lived in a bubble in financial dealin...  Unknown   fresh   \n",
       "4  Continuing along a line introduced in last yea...  Unknown   fresh   \n",
       "\n",
       "           critic  top_critic         publisher               date  \n",
       "0             NaN         NaN               NaN                NaN  \n",
       "1      PJ Nabarro         0.0   Patrick Nabarro  November 10, 2018  \n",
       "2  Annalee Newitz         0.0           io9.com       May 23, 2018  \n",
       "3    Sean Axmaker         0.0  Stream on Demand    January 4, 2018  \n",
       "4   Daniel Kasman         0.0              MUBI  November 16, 2017  "
      ]
     },
     "execution_count": 518,
     "metadata": {},
     "output_type": "execute_result"
    }
   ],
   "source": [
    "# Merging the datasets to create a master dataset for analysis\n",
    "# Merge rotten_tomatoes_movie and rotten_tomatoes_review on the id column\n",
    "rotten_tomatoes_master = rotten_tomatoes_movie.merge(rotten_tomatoes_review, how='left', on='id')\n",
    "rotten_tomatoes_master.head()"
   ]
  },
  {
   "cell_type": "code",
   "execution_count": 519,
   "metadata": {},
   "outputs": [
    {
     "name": "stdout",
     "output_type": "stream",
     "text": [
      "<class 'pandas.core.frame.DataFrame'>\n",
      "RangeIndex: 54857 entries, 0 to 54856\n",
      "Data columns (total 19 columns):\n",
      " #   Column        Non-Null Count  Dtype  \n",
      "---  ------        --------------  -----  \n",
      " 0   id            54857 non-null  int64  \n",
      " 1   synopsis      54857 non-null  object \n",
      " 2   rating_x      54857 non-null  object \n",
      " 3   genre         54857 non-null  object \n",
      " 4   director      54857 non-null  object \n",
      " 5   writer        54857 non-null  object \n",
      " 6   theater_date  54857 non-null  object \n",
      " 7   dvd_date      54857 non-null  object \n",
      " 8   currency      54857 non-null  object \n",
      " 9   box_office    54857 non-null  object \n",
      " 10  runtime       54857 non-null  object \n",
      " 11  studio        54857 non-null  object \n",
      " 12  review        54432 non-null  object \n",
      " 13  rating_y      54432 non-null  object \n",
      " 14  fresh         54432 non-null  object \n",
      " 15  critic        54432 non-null  object \n",
      " 16  top_critic    54432 non-null  float64\n",
      " 17  publisher     54432 non-null  object \n",
      " 18  date          54432 non-null  object \n",
      "dtypes: float64(1), int64(1), object(17)\n",
      "memory usage: 8.0+ MB\n"
     ]
    }
   ],
   "source": [
    "rotten_tomatoes_master.info()"
   ]
  },
  {
   "cell_type": "code",
   "execution_count": 520,
   "metadata": {},
   "outputs": [
    {
     "name": "stdout",
     "output_type": "stream",
     "text": [
      "id                0\n",
      "synopsis          0\n",
      "rating_x          0\n",
      "genre             0\n",
      "director          0\n",
      "writer            0\n",
      "theater_date      0\n",
      "dvd_date          0\n",
      "currency          0\n",
      "box_office        0\n",
      "runtime           0\n",
      "studio            0\n",
      "review          425\n",
      "rating_y        425\n",
      "fresh           425\n",
      "critic          425\n",
      "top_critic      425\n",
      "publisher       425\n",
      "date            425\n",
      "dtype: int64\n"
     ]
    }
   ],
   "source": [
    "# Identify the null values in the master dataset\n",
    "null_values = rotten_tomatoes_master.isnull()\n",
    "print(null_values.sum())\n"
   ]
  },
  {
   "cell_type": "code",
   "execution_count": 521,
   "metadata": {},
   "outputs": [
    {
     "name": "stdout",
     "output_type": "stream",
     "text": [
      "id              0\n",
      "synopsis        0\n",
      "rating_x        0\n",
      "genre           0\n",
      "director        0\n",
      "writer          0\n",
      "theater_date    0\n",
      "dvd_date        0\n",
      "currency        0\n",
      "box_office      0\n",
      "runtime         0\n",
      "studio          0\n",
      "review          0\n",
      "rating_y        0\n",
      "fresh           0\n",
      "critic          0\n",
      "top_critic      0\n",
      "publisher       0\n",
      "date            0\n",
      "dtype: int64\n"
     ]
    }
   ],
   "source": [
    "# Addressing missing values in the rotten_tomatoes_master dataset\n",
    "# Drop the null values in the review column since the number of missing values is not too many\n",
    "rotten_tomatoes_master.dropna(subset=['review'], inplace=True)\n",
    "\n",
    "# Drop the null values in the rating_y column since the number of missing values is not too many\n",
    "rotten_tomatoes_master.dropna(subset=['rating_y'], inplace=True)\n",
    "\n",
    "# Drop the null values in the fresh column since the number of missing values is not too many\n",
    "rotten_tomatoes_master.dropna(subset=['fresh'], inplace=True)\n",
    "\n",
    "# Drop the null values in the critic column since the number of missing values is not too many\n",
    "rotten_tomatoes_master.dropna(subset=['critic'], inplace=True)\n",
    "\n",
    "# Drop the null values in the top_critic column since the number of missing values is not too many\n",
    "rotten_tomatoes_master.dropna(subset=['top_critic'], inplace=True)\n",
    "\n",
    "# Drop the null values in the publisher column since the number of missing values is not too many\n",
    "rotten_tomatoes_master.dropna(subset=['publisher'], inplace=True)\n",
    "\n",
    "# Drop the null values in the date column since the number of missing values is not too many\n",
    "rotten_tomatoes_master.dropna(subset=['date'], inplace=True)\n",
    "\n",
    "# Check if there are any missing values remaining\n",
    "null_values = rotten_tomatoes_master.isnull()\n",
    "print(null_values.sum())"
   ]
  },
  {
   "cell_type": "code",
   "execution_count": 522,
   "metadata": {},
   "outputs": [
    {
     "data": {
      "text/html": [
       "<div>\n",
       "<style scoped>\n",
       "    .dataframe tbody tr th:only-of-type {\n",
       "        vertical-align: middle;\n",
       "    }\n",
       "\n",
       "    .dataframe tbody tr th {\n",
       "        vertical-align: top;\n",
       "    }\n",
       "\n",
       "    .dataframe thead th {\n",
       "        text-align: right;\n",
       "    }\n",
       "</style>\n",
       "<table border=\"1\" class=\"dataframe\">\n",
       "  <thead>\n",
       "    <tr style=\"text-align: right;\">\n",
       "      <th></th>\n",
       "      <th>id</th>\n",
       "      <th>synopsis</th>\n",
       "      <th>rating_x</th>\n",
       "      <th>genre</th>\n",
       "      <th>director</th>\n",
       "      <th>writer</th>\n",
       "      <th>theater_date</th>\n",
       "      <th>dvd_date</th>\n",
       "      <th>currency</th>\n",
       "      <th>box_office</th>\n",
       "      <th>runtime</th>\n",
       "      <th>studio</th>\n",
       "      <th>review</th>\n",
       "      <th>rating_y</th>\n",
       "      <th>fresh</th>\n",
       "      <th>critic</th>\n",
       "      <th>top_critic</th>\n",
       "      <th>publisher</th>\n",
       "      <th>date</th>\n",
       "    </tr>\n",
       "  </thead>\n",
       "  <tbody>\n",
       "    <tr>\n",
       "      <th>1</th>\n",
       "      <td>3</td>\n",
       "      <td>New York City, not-too-distant-future: Eric Pa...</td>\n",
       "      <td>R</td>\n",
       "      <td>Drama|Science Fiction and Fantasy</td>\n",
       "      <td>David Cronenberg</td>\n",
       "      <td>David Cronenberg|Don DeLillo</td>\n",
       "      <td>Aug 17, 2012</td>\n",
       "      <td>Jan 1, 2013</td>\n",
       "      <td>$</td>\n",
       "      <td>600,000</td>\n",
       "      <td>108 minutes</td>\n",
       "      <td>Entertainment One</td>\n",
       "      <td>A distinctly gallows take on contemporary fina...</td>\n",
       "      <td>3/5</td>\n",
       "      <td>fresh</td>\n",
       "      <td>PJ Nabarro</td>\n",
       "      <td>0.0</td>\n",
       "      <td>Patrick Nabarro</td>\n",
       "      <td>November 10, 2018</td>\n",
       "    </tr>\n",
       "    <tr>\n",
       "      <th>2</th>\n",
       "      <td>3</td>\n",
       "      <td>New York City, not-too-distant-future: Eric Pa...</td>\n",
       "      <td>R</td>\n",
       "      <td>Drama|Science Fiction and Fantasy</td>\n",
       "      <td>David Cronenberg</td>\n",
       "      <td>David Cronenberg|Don DeLillo</td>\n",
       "      <td>Aug 17, 2012</td>\n",
       "      <td>Jan 1, 2013</td>\n",
       "      <td>$</td>\n",
       "      <td>600,000</td>\n",
       "      <td>108 minutes</td>\n",
       "      <td>Entertainment One</td>\n",
       "      <td>It's an allegory in search of a meaning that n...</td>\n",
       "      <td>Unknown</td>\n",
       "      <td>rotten</td>\n",
       "      <td>Annalee Newitz</td>\n",
       "      <td>0.0</td>\n",
       "      <td>io9.com</td>\n",
       "      <td>May 23, 2018</td>\n",
       "    </tr>\n",
       "    <tr>\n",
       "      <th>3</th>\n",
       "      <td>3</td>\n",
       "      <td>New York City, not-too-distant-future: Eric Pa...</td>\n",
       "      <td>R</td>\n",
       "      <td>Drama|Science Fiction and Fantasy</td>\n",
       "      <td>David Cronenberg</td>\n",
       "      <td>David Cronenberg|Don DeLillo</td>\n",
       "      <td>Aug 17, 2012</td>\n",
       "      <td>Jan 1, 2013</td>\n",
       "      <td>$</td>\n",
       "      <td>600,000</td>\n",
       "      <td>108 minutes</td>\n",
       "      <td>Entertainment One</td>\n",
       "      <td>... life lived in a bubble in financial dealin...</td>\n",
       "      <td>Unknown</td>\n",
       "      <td>fresh</td>\n",
       "      <td>Sean Axmaker</td>\n",
       "      <td>0.0</td>\n",
       "      <td>Stream on Demand</td>\n",
       "      <td>January 4, 2018</td>\n",
       "    </tr>\n",
       "    <tr>\n",
       "      <th>4</th>\n",
       "      <td>3</td>\n",
       "      <td>New York City, not-too-distant-future: Eric Pa...</td>\n",
       "      <td>R</td>\n",
       "      <td>Drama|Science Fiction and Fantasy</td>\n",
       "      <td>David Cronenberg</td>\n",
       "      <td>David Cronenberg|Don DeLillo</td>\n",
       "      <td>Aug 17, 2012</td>\n",
       "      <td>Jan 1, 2013</td>\n",
       "      <td>$</td>\n",
       "      <td>600,000</td>\n",
       "      <td>108 minutes</td>\n",
       "      <td>Entertainment One</td>\n",
       "      <td>Continuing along a line introduced in last yea...</td>\n",
       "      <td>Unknown</td>\n",
       "      <td>fresh</td>\n",
       "      <td>Daniel Kasman</td>\n",
       "      <td>0.0</td>\n",
       "      <td>MUBI</td>\n",
       "      <td>November 16, 2017</td>\n",
       "    </tr>\n",
       "    <tr>\n",
       "      <th>5</th>\n",
       "      <td>3</td>\n",
       "      <td>New York City, not-too-distant-future: Eric Pa...</td>\n",
       "      <td>R</td>\n",
       "      <td>Drama|Science Fiction and Fantasy</td>\n",
       "      <td>David Cronenberg</td>\n",
       "      <td>David Cronenberg|Don DeLillo</td>\n",
       "      <td>Aug 17, 2012</td>\n",
       "      <td>Jan 1, 2013</td>\n",
       "      <td>$</td>\n",
       "      <td>600,000</td>\n",
       "      <td>108 minutes</td>\n",
       "      <td>Entertainment One</td>\n",
       "      <td>... a perverse twist on neorealism...</td>\n",
       "      <td>Unknown</td>\n",
       "      <td>fresh</td>\n",
       "      <td>Unknown</td>\n",
       "      <td>0.0</td>\n",
       "      <td>Cinema Scope</td>\n",
       "      <td>October 12, 2017</td>\n",
       "    </tr>\n",
       "  </tbody>\n",
       "</table>\n",
       "</div>"
      ],
      "text/plain": [
       "   id                                           synopsis rating_x  \\\n",
       "1   3  New York City, not-too-distant-future: Eric Pa...        R   \n",
       "2   3  New York City, not-too-distant-future: Eric Pa...        R   \n",
       "3   3  New York City, not-too-distant-future: Eric Pa...        R   \n",
       "4   3  New York City, not-too-distant-future: Eric Pa...        R   \n",
       "5   3  New York City, not-too-distant-future: Eric Pa...        R   \n",
       "\n",
       "                               genre          director  \\\n",
       "1  Drama|Science Fiction and Fantasy  David Cronenberg   \n",
       "2  Drama|Science Fiction and Fantasy  David Cronenberg   \n",
       "3  Drama|Science Fiction and Fantasy  David Cronenberg   \n",
       "4  Drama|Science Fiction and Fantasy  David Cronenberg   \n",
       "5  Drama|Science Fiction and Fantasy  David Cronenberg   \n",
       "\n",
       "                         writer  theater_date     dvd_date currency  \\\n",
       "1  David Cronenberg|Don DeLillo  Aug 17, 2012  Jan 1, 2013        $   \n",
       "2  David Cronenberg|Don DeLillo  Aug 17, 2012  Jan 1, 2013        $   \n",
       "3  David Cronenberg|Don DeLillo  Aug 17, 2012  Jan 1, 2013        $   \n",
       "4  David Cronenberg|Don DeLillo  Aug 17, 2012  Jan 1, 2013        $   \n",
       "5  David Cronenberg|Don DeLillo  Aug 17, 2012  Jan 1, 2013        $   \n",
       "\n",
       "  box_office      runtime             studio  \\\n",
       "1    600,000  108 minutes  Entertainment One   \n",
       "2    600,000  108 minutes  Entertainment One   \n",
       "3    600,000  108 minutes  Entertainment One   \n",
       "4    600,000  108 minutes  Entertainment One   \n",
       "5    600,000  108 minutes  Entertainment One   \n",
       "\n",
       "                                              review rating_y   fresh  \\\n",
       "1  A distinctly gallows take on contemporary fina...      3/5   fresh   \n",
       "2  It's an allegory in search of a meaning that n...  Unknown  rotten   \n",
       "3  ... life lived in a bubble in financial dealin...  Unknown   fresh   \n",
       "4  Continuing along a line introduced in last yea...  Unknown   fresh   \n",
       "5             ... a perverse twist on neorealism...   Unknown   fresh   \n",
       "\n",
       "           critic  top_critic         publisher               date  \n",
       "1      PJ Nabarro         0.0   Patrick Nabarro  November 10, 2018  \n",
       "2  Annalee Newitz         0.0           io9.com       May 23, 2018  \n",
       "3    Sean Axmaker         0.0  Stream on Demand    January 4, 2018  \n",
       "4   Daniel Kasman         0.0              MUBI  November 16, 2017  \n",
       "5         Unknown         0.0      Cinema Scope   October 12, 2017  "
      ]
     },
     "execution_count": 522,
     "metadata": {},
     "output_type": "execute_result"
    }
   ],
   "source": [
    "rotten_tomatoes_master.head()"
   ]
  },
  {
   "cell_type": "markdown",
   "metadata": {},
   "source": [
    "# 4. Data Analysis\n",
    "In this section the following will be carried out:\n",
    "- Conduct exploratory data analysis (EDA) to identify patterns, trends, and correlations within the data.\n",
    "- Visualize key relationships between variables using plots such as scatter plots, histograms, box plots, and heatmaps.\n",
    "- Calculate summary statistics and descriptive measures to gain a deeper understanding of the data distribution and central tendencies."
   ]
  },
  {
   "cell_type": "markdown",
   "metadata": {},
   "source": [
    "## a. Box Office Performance Analysis\n",
    "In this analysis we will carry out the following:\n",
    "- Analyze the distribution of domestic and gross revenue.\n",
    "- Identify the top-performing movies based on total revenue.\n",
    "- Investigate trends in box office performance over the years."
   ]
  },
  {
   "cell_type": "code",
   "execution_count": 523,
   "metadata": {},
   "outputs": [
    {
     "data": {
      "text/html": [
       "<div>\n",
       "<style scoped>\n",
       "    .dataframe tbody tr th:only-of-type {\n",
       "        vertical-align: middle;\n",
       "    }\n",
       "\n",
       "    .dataframe tbody tr th {\n",
       "        vertical-align: top;\n",
       "    }\n",
       "\n",
       "    .dataframe thead th {\n",
       "        text-align: right;\n",
       "    }\n",
       "</style>\n",
       "<table border=\"1\" class=\"dataframe\">\n",
       "  <thead>\n",
       "    <tr style=\"text-align: right;\">\n",
       "      <th></th>\n",
       "      <th>id</th>\n",
       "      <th>release_date</th>\n",
       "      <th>movie</th>\n",
       "      <th>production_budget</th>\n",
       "      <th>domestic_gross</th>\n",
       "      <th>worldwide_gross</th>\n",
       "      <th>total_gross</th>\n",
       "      <th>profit</th>\n",
       "    </tr>\n",
       "  </thead>\n",
       "  <tbody>\n",
       "    <tr>\n",
       "      <th>0</th>\n",
       "      <td>1</td>\n",
       "      <td>2009-12-18</td>\n",
       "      <td>Avatar</td>\n",
       "      <td>425000000.0</td>\n",
       "      <td>760507625.0</td>\n",
       "      <td>2.776345e+09</td>\n",
       "      <td>3.536853e+09</td>\n",
       "      <td>3.111853e+09</td>\n",
       "    </tr>\n",
       "    <tr>\n",
       "      <th>1</th>\n",
       "      <td>2</td>\n",
       "      <td>2011-05-20</td>\n",
       "      <td>Pirates of the Caribbean: On Stranger Tides</td>\n",
       "      <td>410600000.0</td>\n",
       "      <td>241063875.0</td>\n",
       "      <td>1.045664e+09</td>\n",
       "      <td>1.286728e+09</td>\n",
       "      <td>8.761278e+08</td>\n",
       "    </tr>\n",
       "    <tr>\n",
       "      <th>2</th>\n",
       "      <td>3</td>\n",
       "      <td>2019-06-07</td>\n",
       "      <td>Dark Phoenix</td>\n",
       "      <td>350000000.0</td>\n",
       "      <td>42762350.0</td>\n",
       "      <td>1.497624e+08</td>\n",
       "      <td>1.925247e+08</td>\n",
       "      <td>-1.574753e+08</td>\n",
       "    </tr>\n",
       "    <tr>\n",
       "      <th>3</th>\n",
       "      <td>4</td>\n",
       "      <td>2015-05-01</td>\n",
       "      <td>Avengers: Age of Ultron</td>\n",
       "      <td>330600000.0</td>\n",
       "      <td>459005868.0</td>\n",
       "      <td>1.403014e+09</td>\n",
       "      <td>1.862020e+09</td>\n",
       "      <td>1.531420e+09</td>\n",
       "    </tr>\n",
       "    <tr>\n",
       "      <th>4</th>\n",
       "      <td>5</td>\n",
       "      <td>2017-12-15</td>\n",
       "      <td>Star Wars Ep. VIII: The Last Jedi</td>\n",
       "      <td>317000000.0</td>\n",
       "      <td>620181382.0</td>\n",
       "      <td>1.316722e+09</td>\n",
       "      <td>1.936903e+09</td>\n",
       "      <td>1.619903e+09</td>\n",
       "    </tr>\n",
       "  </tbody>\n",
       "</table>\n",
       "</div>"
      ],
      "text/plain": [
       "   id release_date                                        movie  \\\n",
       "0   1   2009-12-18                                       Avatar   \n",
       "1   2   2011-05-20  Pirates of the Caribbean: On Stranger Tides   \n",
       "2   3   2019-06-07                                 Dark Phoenix   \n",
       "3   4   2015-05-01                      Avengers: Age of Ultron   \n",
       "4   5   2017-12-15            Star Wars Ep. VIII: The Last Jedi   \n",
       "\n",
       "   production_budget  domestic_gross  worldwide_gross   total_gross  \\\n",
       "0        425000000.0     760507625.0     2.776345e+09  3.536853e+09   \n",
       "1        410600000.0     241063875.0     1.045664e+09  1.286728e+09   \n",
       "2        350000000.0      42762350.0     1.497624e+08  1.925247e+08   \n",
       "3        330600000.0     459005868.0     1.403014e+09  1.862020e+09   \n",
       "4        317000000.0     620181382.0     1.316722e+09  1.936903e+09   \n",
       "\n",
       "         profit  \n",
       "0  3.111853e+09  \n",
       "1  8.761278e+08  \n",
       "2 -1.574753e+08  \n",
       "3  1.531420e+09  \n",
       "4  1.619903e+09  "
      ]
     },
     "execution_count": 523,
     "metadata": {},
     "output_type": "execute_result"
    }
   ],
   "source": [
    "the_number.head()"
   ]
  },
  {
   "cell_type": "code",
   "execution_count": 524,
   "metadata": {},
   "outputs": [
    {
     "name": "stdout",
     "output_type": "stream",
     "text": [
      "The mean of domestic gross is 41873326.87.\n",
      "The median of domestic gross is 17225945.0.\n",
      "The standard deviation of domestic gross is 68240597.35690318.\n",
      "The IQR of domestic gross is 50919127.0\n"
     ]
    }
   ],
   "source": [
    "\n",
    "#Get the mean, mode, median and standard deviation of the domestic_gross column, worldwide_gross column, total_gross column \n",
    "#and profit column\n",
    "#Domestic Gross\n",
    "#Mean\n",
    "the_number_mean= the_number['domestic_gross'].mean().round(2)\n",
    "\n",
    "#Median\n",
    "the_number_median = the_number['domestic_gross'].median()\n",
    "\n",
    "#Standard Deviation\n",
    "the_number_std = the_number['domestic_gross'].std()\n",
    "\n",
    "#IQR(Inter-quartile Range)\n",
    "Q1 = the_number['domestic_gross'].quantile(0.25)\n",
    "Q3 = the_number['domestic_gross'].quantile(0.75)\n",
    "the_number_iqr = Q3 - Q1\n",
    "\n",
    "print(f'''The mean of domestic gross is {the_number_mean}.\n",
    "The median of domestic gross is {the_number_median}.\n",
    "The standard deviation of domestic gross is {the_number_std}.\n",
    "The IQR of domestic gross is {the_number_iqr}''')\n"
   ]
  },
  {
   "cell_type": "code",
   "execution_count": 525,
   "metadata": {},
   "outputs": [
    {
     "data": {
      "text/plain": [
       "\"'\\nThe mean of domestic gross is $41,873,326.87\\nThe median of domestic gross is $17,225,945.0\\nThe standard deviation of domestic gross is 68240597.36\\nThe IQR of domestic gross is $50,919,127.0\\n\\nBased on the mean and median values, the domestic gross is right-skewed since the mean is greater than the median.\\nThe standard deviation is high which indicates that the data is spread out. This indicates that the data is not normally distributed.\\nIQR indicates that 50% of the data is between $50,919,127.0 and $101,838,254.0\\n\\nOverall, the domestic gross is not normally distributed and has a high standard deviation. \\nThe presence of outliers is affecting the mean value and the median data indicating that the data has a right-skewed distribution.\\n\\n\""
      ]
     },
     "execution_count": 525,
     "metadata": {},
     "output_type": "execute_result"
    }
   ],
   "source": [
    "''''\n",
    "The mean of domestic gross is $41,873,326.87\n",
    "The median of domestic gross is $17,225,945.0\n",
    "The standard deviation of domestic gross is 68240597.36\n",
    "The IQR of domestic gross is $50,919,127.0\n",
    "\n",
    "Based on the mean and median values, the domestic gross is right-skewed since the mean is greater than the median.\n",
    "The standard deviation is high which indicates that the data is spread out. This indicates that the data is not normally distributed.\n",
    "IQR indicates that 50% of the data is between $50,919,127.0 and $101,838,254.0\n",
    "\n",
    "Overall, the domestic gross is not normally distributed and has a high standard deviation. \n",
    "The presence of outliers is affecting the mean value and the median data indicating that the data has a right-skewed distribution.\n",
    "\n",
    "'''"
   ]
  },
  {
   "cell_type": "code",
   "execution_count": 526,
   "metadata": {},
   "outputs": [
    {
     "name": "stdout",
     "output_type": "stream",
     "text": [
      "The mean of worldwide gross is 91487460.91.\n",
      "The median of worldwide gross is 27984448.5.\n",
      "The standard deviation of worldwide gross is 174719968.77890623.\n",
      "The IQR of worldwide gross is 93520421.75\n"
     ]
    }
   ],
   "source": [
    "# Foreign Gross\n",
    "#Mean\n",
    "the_number_worldwide_mean = the_number['worldwide_gross'].mean().round(2)\n",
    "#Median\n",
    "the_number_worldwide_median = the_number['worldwide_gross'].median()\n",
    "#Standard Deviation\n",
    "the_number_worldwide_std = the_number['worldwide_gross'].std()\n",
    "#IQR(Inter-quartile Range)\n",
    "Q1 = the_number['worldwide_gross'].quantile(0.25)\n",
    "Q3 = the_number['worldwide_gross'].quantile(0.75)\n",
    "the_number_worldwide_IQR = Q3 - Q1\n",
    "\n",
    "print(f'''The mean of worldwide gross is {the_number_worldwide_mean}.\n",
    "The median of worldwide gross is {the_number_worldwide_median}.\n",
    "The standard deviation of worldwide gross is {the_number_worldwide_std}.\n",
    "The IQR of worldwide gross is {the_number_worldwide_IQR}''')"
   ]
  },
  {
   "cell_type": "code",
   "execution_count": 527,
   "metadata": {},
   "outputs": [
    {
     "data": {
      "text/plain": [
       "'\\nThe mean of worldwide gross is $91,487,460.91\\nThe median of worldwide gross is $27,984,448.50\\nThe standard deviation of worldwide gross is 174719968.78\\nThe IQR of worldwide gross is $93,520,421.75\\n\\nBased on the mean and mean values, the worldwide gross is right-skewed since the mean is greater than the median.\\nThe standard deviation is high which indicates that the data is spread out. This indicates that the data is not normally distributed.\\nIQR indicates that 50% of the data is between $93,520,421.75 and $187,040,843.5\\n\\n\\nOverall the worldwide gross is not normally distributed and has a high standard deviation. The presence of outliers is \\naffecting the mean value and the median data indicating that the data has a right-skewed distribution.\\n'"
      ]
     },
     "execution_count": 527,
     "metadata": {},
     "output_type": "execute_result"
    }
   ],
   "source": [
    "'''\n",
    "The mean of worldwide gross is $91,487,460.91\n",
    "The median of worldwide gross is $27,984,448.50\n",
    "The standard deviation of worldwide gross is 174719968.78\n",
    "The IQR of worldwide gross is $93,520,421.75\n",
    "\n",
    "Based on the mean and mean values, the worldwide gross is right-skewed since the mean is greater than the median.\n",
    "The standard deviation is high which indicates that the data is spread out. This indicates that the data is not normally distributed.\n",
    "IQR indicates that 50% of the data is between $93,520,421.75 and $187,040,843.5\n",
    "\n",
    "\n",
    "Overall the worldwide gross is not normally distributed and has a high standard deviation. The presence of outliers is \n",
    "affecting the mean value and the median data indicating that the data has a right-skewed distribution.\n",
    "'''"
   ]
  },
  {
   "cell_type": "code",
   "execution_count": 528,
   "metadata": {},
   "outputs": [
    {
     "name": "stdout",
     "output_type": "stream",
     "text": [
      "The mean of total gross is 133360787.77.\n",
      "The median of total gross is 46058546.0.\n",
      "The standard deviation of total gross is 239941100.1763611.\n",
      "The IQR of total gross is 144244812.75\n"
     ]
    }
   ],
   "source": [
    "#Total Gross\n",
    "#Mean\n",
    "the_number_total_mean = the_number['total_gross'].mean().round(2)\n",
    "#Median\n",
    "the_number_total_median = the_number['total_gross'].median()\n",
    "#Standard Deviation\n",
    "the_number_total_std = the_number['total_gross'].std()\n",
    "#IQR(Inter-quartile Range)\n",
    "Q1 = the_number['total_gross'].quantile(0.25)\n",
    "Q3 = the_number['total_gross'].quantile(0.75)\n",
    "the_number_total_IQR = Q3 - Q1\n",
    "\n",
    "print(f'''The mean of total gross is {the_number_total_mean}.\n",
    "The median of total gross is {the_number_total_median}.\n",
    "The standard deviation of total gross is {the_number_total_std}.\n",
    "The IQR of total gross is {the_number_total_IQR}''')\n",
    "\n",
    "\n",
    "\n"
   ]
  },
  {
   "cell_type": "code",
   "execution_count": 529,
   "metadata": {},
   "outputs": [
    {
     "data": {
      "text/plain": [
       "'\\nThe mean of total gross is $133,360,787.78\\nThe median of total gross is $46,058,546.0\\nThe standard deviation of total gross is 239941100.18\\nThe IQR of total gross is $144,244,812.75\\n\\nBased on the mean and median values, the total gross is right-skewed since the mean is greater than the median.\\nThe standard deviation is high which indicates that the data is spread out. This indicates that the data is not normally distributed.\\nIQR indicates that 50% of the data is between $144,244,812.75 and $288,489,625.5\\n\\nOverall, the total gross is not normally distributed and has a high standard deviation. \\nThe presence of outliers is affecting the mean value and the median data indicating that the data has a right-skewed distribution.\\n\\n'"
      ]
     },
     "execution_count": 529,
     "metadata": {},
     "output_type": "execute_result"
    }
   ],
   "source": [
    "'''\n",
    "The mean of total gross is $133,360,787.78\n",
    "The median of total gross is $46,058,546.0\n",
    "The standard deviation of total gross is 239941100.18\n",
    "The IQR of total gross is $144,244,812.75\n",
    "\n",
    "Based on the mean and median values, the total gross is right-skewed since the mean is greater than the median.\n",
    "The standard deviation is high which indicates that the data is spread out. This indicates that the data is not normally distributed.\n",
    "IQR indicates that 50% of the data is between $144,244,812.75 and $288,489,625.5\n",
    "\n",
    "Overall, the total gross is not normally distributed and has a high standard deviation. \n",
    "The presence of outliers is affecting the mean value and the median data indicating that the data has a right-skewed distribution.\n",
    "\n",
    "'''"
   ]
  },
  {
   "cell_type": "code",
   "execution_count": 530,
   "metadata": {},
   "outputs": [
    {
     "name": "stdout",
     "output_type": "stream",
     "text": [
      "The mean of profit is 101773030.68.\n",
      "The median of profit is 24995377.5.\n",
      "The standard deviation of profit is 210887977.78135055.\n",
      "The IQR of profit is 111474609.75\n"
     ]
    }
   ],
   "source": [
    "#Profit\n",
    "#Mean\n",
    "the_number_profit_mean = the_number['profit'].mean().round(2)\n",
    "#Median\n",
    "the_number_profit_median = the_number['profit'].median()\n",
    "#Standard Deviation\n",
    "the_number_profit_std = the_number['profit'].std()\n",
    "#IQR(Inter-quartile Range)\n",
    "Q1 = the_number['profit'].quantile(0.25)\n",
    "Q3 = the_number['profit'].quantile(0.75)\n",
    "the_number_profit_IQR = Q3 - Q1\n",
    "\n",
    "print(f'''The mean of profit is {the_number_profit_mean}.\n",
    "The median of profit is {the_number_profit_median}.\n",
    "The standard deviation of profit is {the_number_profit_std}.\n",
    "The IQR of profit is {the_number_profit_IQR}''')\n"
   ]
  },
  {
   "cell_type": "code",
   "execution_count": 531,
   "metadata": {},
   "outputs": [
    {
     "data": {
      "text/plain": [
       "'\\nThe mean of profit is $91,487,460.91\\nThe median of profit is $24,995,377.50\\nThe standard deviation of profit is 210887977.78\\nThe IQR of profit is $111,474,609.75\\n\\nBased on the mean and median values, the profit is right-skewed since the mean is greater than the median.\\nThe standard deviation is high which indicates that the data is spread out. This indicates that the data is not normally distributed.\\nIQR indicates that 50% of the data is between $111,474,609.75 and $222,949,219.5\\n\\nOverall, the profit is not normally distributed and has a high standard deviation.\\nThe presence of outliers is affecting the mean value and the median data indicating that the data has a right-skewed distribution.\\n'"
      ]
     },
     "execution_count": 531,
     "metadata": {},
     "output_type": "execute_result"
    }
   ],
   "source": [
    "'''\n",
    "The mean of profit is $91,487,460.91\n",
    "The median of profit is $24,995,377.50\n",
    "The standard deviation of profit is 210887977.78\n",
    "The IQR of profit is $111,474,609.75\n",
    "\n",
    "Based on the mean and median values, the profit is right-skewed since the mean is greater than the median.\n",
    "The standard deviation is high which indicates that the data is spread out. This indicates that the data is not normally distributed.\n",
    "IQR indicates that 50% of the data is between $111,474,609.75 and $222,949,219.5\n",
    "\n",
    "Overall, the profit is not normally distributed and has a high standard deviation.\n",
    "The presence of outliers is affecting the mean value and the median data indicating that the data has a right-skewed distribution.\n",
    "'''"
   ]
  },
  {
   "cell_type": "code",
   "execution_count": 532,
   "metadata": {},
   "outputs": [
    {
     "data": {
      "image/png": "[encoded data removed]",
      "text/plain": [
       "<Figure size 1000x600 with 1 Axes>"
      ]
     },
     "metadata": {},
     "output_type": "display_data"
    }
   ],
   "source": [
    "# Create visualizations to show the distribution of the domestic_gross, worldwide_gross, total_gross and profit columns\n",
    "#import the necessary libraries\n",
    "import matplotlib.pyplot as plt\n",
    "import seaborn as sns\n",
    "\n",
    "#Create a boxplot to show the distribution of the domestic_gross column\n",
    "plt.figure(figsize=(10, 6))\n",
    "sns.boxplot(the_number['domestic_gross'])\n",
    "plt.title('Distribution of Domestic Gross')\n",
    "plt.xlabel('Domestic Gross')\n",
    "plt.show()"
   ]
  },
  {
   "cell_type": "code",
   "execution_count": 533,
   "metadata": {},
   "outputs": [
    {
     "data": {
      "text/plain": [
       "'\\nThe boxplot shows that the domestic gross has a right-skewed distribution. \\nThe presence of outliers is affecting the mean value and the median data indicating that the data has a right-skewed distribution.\\n'"
      ]
     },
     "execution_count": 533,
     "metadata": {},
     "output_type": "execute_result"
    }
   ],
   "source": [
    "'''\n",
    "The boxplot shows that the domestic gross has a right-skewed distribution. \n",
    "The presence of outliers is affecting the mean value and the median data indicating that the data has a right-skewed distribution.\n",
    "'''"
   ]
  },
  {
   "cell_type": "code",
   "execution_count": 534,
   "metadata": {},
   "outputs": [
    {
     "data": {
      "image/png": "[encoded data removed]",
      "text/plain": [
       "<Figure size 1000x600 with 1 Axes>"
      ]
     },
     "metadata": {},
     "output_type": "display_data"
    }
   ],
   "source": [
    "# Create a boxplot to show the distribution of the worldwide_gross column\n",
    "plt.figure(figsize=(10, 6))\n",
    "sns.boxplot(the_number['worldwide_gross'])\n",
    "plt.title('Distribution of Worldwide Gross')\n",
    "plt.xlabel('Worldwide Gross')\n",
    "plt.show()\n"
   ]
  },
  {
   "cell_type": "code",
   "execution_count": 535,
   "metadata": {},
   "outputs": [
    {
     "data": {
      "text/plain": [
       "'\\nThe boxplot shows that the worldwide gross has a right-skewed distribution. \\nThe presence of outliers is affecting the mean value and the median data indicating that the data has a right-skewed distribution.\\n'"
      ]
     },
     "execution_count": 535,
     "metadata": {},
     "output_type": "execute_result"
    }
   ],
   "source": [
    "'''\n",
    "The boxplot shows that the worldwide gross has a right-skewed distribution. \n",
    "The presence of outliers is affecting the mean value and the median data indicating that the data has a right-skewed distribution.\n",
    "'''"
   ]
  },
  {
   "cell_type": "code",
   "execution_count": 536,
   "metadata": {},
   "outputs": [
    {
     "data": {
      "image/png": "[encoded data removed]",
      "text/plain": [
       "<Figure size 1000x600 with 1 Axes>"
      ]
     },
     "metadata": {},
     "output_type": "display_data"
    }
   ],
   "source": [
    "#Create a boxplot to show the distribution of the total_gross column\n",
    "plt.figure(figsize=(10, 6))\n",
    "sns.boxplot(the_number['total_gross'])\n",
    "plt.title('Distribution of Total Gross')\n",
    "plt.xlabel('Total Gross')\n",
    "plt.show()\n"
   ]
  },
  {
   "cell_type": "code",
   "execution_count": 537,
   "metadata": {},
   "outputs": [
    {
     "data": {
      "text/plain": [
       "'\\nThe boxplot shows that the total gross has a right-skewed distribution.\\nThe presence of outliers is affecting the mean value and the median data indicating that the data has a right-skewed distribution.\\n'"
      ]
     },
     "execution_count": 537,
     "metadata": {},
     "output_type": "execute_result"
    }
   ],
   "source": [
    "'''\n",
    "The boxplot shows that the total gross has a right-skewed distribution.\n",
    "The presence of outliers is affecting the mean value and the median data indicating that the data has a right-skewed distribution.\n",
    "'''"
   ]
  },
  {
   "cell_type": "code",
   "execution_count": 538,
   "metadata": {},
   "outputs": [
    {
     "data": {
      "image/png": "[encoded data removed]",
      "text/plain": [
       "<Figure size 1000x600 with 1 Axes>"
      ]
     },
     "metadata": {},
     "output_type": "display_data"
    }
   ],
   "source": [
    "#Create a boxplot to show the distribution of the profit column\n",
    "plt.figure(figsize=(10, 6))\n",
    "sns.boxplot(the_number['profit'])\n",
    "plt.title('Distribution of Profit')\n",
    "plt.xlabel('Profit')\n",
    "plt.show()\n"
   ]
  },
  {
   "cell_type": "code",
   "execution_count": 539,
   "metadata": {},
   "outputs": [
    {
     "data": {
      "text/plain": [
       "'\\nThe boxplot shows that the profit has a right-skewed distribution.\\nThe presence of outliers is affecting the mean value and the median data indicating that the data has a right-skewed distribution.\\n'"
      ]
     },
     "execution_count": 539,
     "metadata": {},
     "output_type": "execute_result"
    }
   ],
   "source": [
    "'''\n",
    "The boxplot shows that the profit has a right-skewed distribution.\n",
    "The presence of outliers is affecting the mean value and the median data indicating that the data has a right-skewed distribution.\n",
    "'''"
   ]
  },
  {
   "cell_type": "code",
   "execution_count": 540,
   "metadata": {},
   "outputs": [
    {
     "data": {
      "image/png": "[encoded data removed]",
      "text/plain": [
       "<Figure size 1000x600 with 1 Axes>"
      ]
     },
     "metadata": {},
     "output_type": "display_data"
    }
   ],
   "source": [
    "#Explore trends in box office performance over time by plotting revenue against release dates or years.\n",
    "#Plotting trends in the domestic_gross, worldwide_gross, total_gross and profit columns over the years\n",
    "#Group the data by year and calculate the mean of the domestic_gross, worldwide_gross, total_gross and profit columns\n",
    "#Plot the trends in the columns over the years\n",
    "\n",
    "\n",
    "#Domestic Gross\n",
    "\n",
    "domestic_gross_year = the_number.groupby('release_date')['domestic_gross'].mean()\n",
    "plt.figure(figsize=(10, 6))\n",
    "domestic_gross_year.plot()\n",
    "plt.title('Trends in Domestic Gross Over the Years')\n",
    "plt.xlabel('Year')\n",
    "plt.ylabel('Domestic Gross')\n",
    "plt.show()"
   ]
  },
  {
   "cell_type": "code",
   "execution_count": 541,
   "metadata": {},
   "outputs": [
    {
     "data": {
      "text/plain": [
       "'\\nThe trend in the domestic gross over the years shows that the domestic gross has been increasing over the years.\\nThe domestic gross has been increasing steadily from 2010 to 2018.\\nThe domestic gross peaked in 2018 and has been decreasing since then.\\n'"
      ]
     },
     "execution_count": 541,
     "metadata": {},
     "output_type": "execute_result"
    }
   ],
   "source": [
    "'''\n",
    "The trend in the domestic gross over the years shows that the domestic gross has been increasing over the years.\n",
    "The domestic gross has been increasing steadily from 2010 to 2018.\n",
    "The domestic gross peaked in 2018 and has been decreasing since then.\n",
    "'''"
   ]
  },
  {
   "cell_type": "code",
   "execution_count": 542,
   "metadata": {},
   "outputs": [
    {
     "data": {
      "image/png": "[encoded data removed]",
      "text/plain": [
       "<Figure size 1000x600 with 1 Axes>"
      ]
     },
     "metadata": {},
     "output_type": "display_data"
    }
   ],
   "source": [
    "# Worldwide Gross\n",
    "worldwide_gross_year = the_number.groupby('release_date')['worldwide_gross'].mean()\n",
    "plt.figure(figsize=(10, 6))\n",
    "worldwide_gross_year.plot()\n",
    "plt.title('Trends in Worldwide Gross Over the Years')\n",
    "plt.xlabel('Year')\n",
    "plt.ylabel('Worldwide Gross')\n",
    "plt.show()\n"
   ]
  },
  {
   "cell_type": "code",
   "execution_count": 543,
   "metadata": {},
   "outputs": [
    {
     "data": {
      "text/plain": [
       "'\\nThe trend in the worldwide gross over the years shows that the worldwide gross has been increasing over the years.\\nThe worldwide gross has been increasing steadily from 2010 to 2018.\\nThe worldwide gross peaked in 2018 and has been decreasing since then.\\n'"
      ]
     },
     "execution_count": 543,
     "metadata": {},
     "output_type": "execute_result"
    }
   ],
   "source": [
    "'''\n",
    "The trend in the worldwide gross over the years shows that the worldwide gross has been increasing over the years.\n",
    "The worldwide gross has been increasing steadily from 2010 to 2018.\n",
    "The worldwide gross peaked in 2018 and has been decreasing since then.\n",
    "'''"
   ]
  },
  {
   "cell_type": "code",
   "execution_count": 544,
   "metadata": {},
   "outputs": [
    {
     "data": {
      "image/png": "[encoded data removed]",
      "text/plain": [
       "<Figure size 1000x600 with 1 Axes>"
      ]
     },
     "metadata": {},
     "output_type": "display_data"
    }
   ],
   "source": [
    "# Profit\n",
    "profit_year = the_number.groupby('release_date')['profit'].mean()\n",
    "plt.figure(figsize=(10, 6))\n",
    "profit_year.plot()\n",
    "plt.title('Trends in Profit Over the Years')\n",
    "plt.xlabel('Year')\n",
    "plt.ylabel('Profit')\n",
    "plt.show()\n",
    "\n"
   ]
  },
  {
   "cell_type": "code",
   "execution_count": 545,
   "metadata": {},
   "outputs": [
    {
     "data": {
      "text/plain": [
       "'\\nThe trend in the profit over the years shows that the profit has been increasing over the years.\\nThe profit has been increasing steadily from 2010 to 2018.\\nThe profit peaked in 2018 and has been decreasing since then.\\n'"
      ]
     },
     "execution_count": 545,
     "metadata": {},
     "output_type": "execute_result"
    }
   ],
   "source": [
    "'''\n",
    "The trend in the profit over the years shows that the profit has been increasing over the years.\n",
    "The profit has been increasing steadily from 2010 to 2018.\n",
    "The profit peaked in 2018 and has been decreasing since then.\n",
    "'''"
   ]
  },
  {
   "cell_type": "code",
   "execution_count": 546,
   "metadata": {},
   "outputs": [
    {
     "data": {
      "text/html": [
       "<div>\n",
       "<style scoped>\n",
       "    .dataframe tbody tr th:only-of-type {\n",
       "        vertical-align: middle;\n",
       "    }\n",
       "\n",
       "    .dataframe tbody tr th {\n",
       "        vertical-align: top;\n",
       "    }\n",
       "\n",
       "    .dataframe thead th {\n",
       "        text-align: right;\n",
       "    }\n",
       "</style>\n",
       "<table border=\"1\" class=\"dataframe\">\n",
       "  <thead>\n",
       "    <tr style=\"text-align: right;\">\n",
       "      <th></th>\n",
       "      <th>id</th>\n",
       "      <th>release_date</th>\n",
       "      <th>movie</th>\n",
       "      <th>production_budget</th>\n",
       "      <th>domestic_gross</th>\n",
       "      <th>worldwide_gross</th>\n",
       "      <th>total_gross</th>\n",
       "      <th>profit</th>\n",
       "    </tr>\n",
       "  </thead>\n",
       "  <tbody>\n",
       "    <tr>\n",
       "      <th>0</th>\n",
       "      <td>1</td>\n",
       "      <td>2009-12-18</td>\n",
       "      <td>Avatar</td>\n",
       "      <td>425000000.0</td>\n",
       "      <td>760507625.0</td>\n",
       "      <td>2.776345e+09</td>\n",
       "      <td>3.536853e+09</td>\n",
       "      <td>3.111853e+09</td>\n",
       "    </tr>\n",
       "    <tr>\n",
       "      <th>5</th>\n",
       "      <td>6</td>\n",
       "      <td>2015-12-18</td>\n",
       "      <td>Star Wars Ep. VII: The Force Awakens</td>\n",
       "      <td>306000000.0</td>\n",
       "      <td>936662225.0</td>\n",
       "      <td>2.053311e+09</td>\n",
       "      <td>2.989973e+09</td>\n",
       "      <td>2.683973e+09</td>\n",
       "    </tr>\n",
       "    <tr>\n",
       "      <th>42</th>\n",
       "      <td>43</td>\n",
       "      <td>1997-12-19</td>\n",
       "      <td>Titanic</td>\n",
       "      <td>200000000.0</td>\n",
       "      <td>659363944.0</td>\n",
       "      <td>2.208208e+09</td>\n",
       "      <td>2.867572e+09</td>\n",
       "      <td>2.667572e+09</td>\n",
       "    </tr>\n",
       "    <tr>\n",
       "      <th>6</th>\n",
       "      <td>7</td>\n",
       "      <td>2018-04-27</td>\n",
       "      <td>Avengers: Infinity War</td>\n",
       "      <td>300000000.0</td>\n",
       "      <td>678815482.0</td>\n",
       "      <td>2.048134e+09</td>\n",
       "      <td>2.726950e+09</td>\n",
       "      <td>2.426950e+09</td>\n",
       "    </tr>\n",
       "    <tr>\n",
       "      <th>33</th>\n",
       "      <td>34</td>\n",
       "      <td>2015-06-12</td>\n",
       "      <td>Jurassic World</td>\n",
       "      <td>215000000.0</td>\n",
       "      <td>652270625.0</td>\n",
       "      <td>1.648855e+09</td>\n",
       "      <td>2.301125e+09</td>\n",
       "      <td>2.086125e+09</td>\n",
       "    </tr>\n",
       "    <tr>\n",
       "      <th>26</th>\n",
       "      <td>27</td>\n",
       "      <td>2012-05-04</td>\n",
       "      <td>The Avengers</td>\n",
       "      <td>225000000.0</td>\n",
       "      <td>623279547.0</td>\n",
       "      <td>1.517936e+09</td>\n",
       "      <td>2.141215e+09</td>\n",
       "      <td>1.916215e+09</td>\n",
       "    </tr>\n",
       "    <tr>\n",
       "      <th>41</th>\n",
       "      <td>42</td>\n",
       "      <td>2018-02-16</td>\n",
       "      <td>Black Panther</td>\n",
       "      <td>200000000.0</td>\n",
       "      <td>700059566.0</td>\n",
       "      <td>1.348258e+09</td>\n",
       "      <td>2.048318e+09</td>\n",
       "      <td>1.848318e+09</td>\n",
       "    </tr>\n",
       "    <tr>\n",
       "      <th>66</th>\n",
       "      <td>67</td>\n",
       "      <td>2015-04-03</td>\n",
       "      <td>Furious 7</td>\n",
       "      <td>190000000.0</td>\n",
       "      <td>353007020.0</td>\n",
       "      <td>1.518723e+09</td>\n",
       "      <td>1.871730e+09</td>\n",
       "      <td>1.681730e+09</td>\n",
       "    </tr>\n",
       "    <tr>\n",
       "      <th>43</th>\n",
       "      <td>44</td>\n",
       "      <td>2018-06-15</td>\n",
       "      <td>Incredibles 2</td>\n",
       "      <td>200000000.0</td>\n",
       "      <td>608581744.0</td>\n",
       "      <td>1.242521e+09</td>\n",
       "      <td>1.851102e+09</td>\n",
       "      <td>1.651102e+09</td>\n",
       "    </tr>\n",
       "    <tr>\n",
       "      <th>4</th>\n",
       "      <td>5</td>\n",
       "      <td>2017-12-15</td>\n",
       "      <td>Star Wars Ep. VIII: The Last Jedi</td>\n",
       "      <td>317000000.0</td>\n",
       "      <td>620181382.0</td>\n",
       "      <td>1.316722e+09</td>\n",
       "      <td>1.936903e+09</td>\n",
       "      <td>1.619903e+09</td>\n",
       "    </tr>\n",
       "  </tbody>\n",
       "</table>\n",
       "</div>"
      ],
      "text/plain": [
       "    id release_date                                 movie  production_budget  \\\n",
       "0    1   2009-12-18                                Avatar        425000000.0   \n",
       "5    6   2015-12-18  Star Wars Ep. VII: The Force Awakens        306000000.0   \n",
       "42  43   1997-12-19                               Titanic        200000000.0   \n",
       "6    7   2018-04-27                Avengers: Infinity War        300000000.0   \n",
       "33  34   2015-06-12                        Jurassic World        215000000.0   \n",
       "26  27   2012-05-04                          The Avengers        225000000.0   \n",
       "41  42   2018-02-16                         Black Panther        200000000.0   \n",
       "66  67   2015-04-03                             Furious 7        190000000.0   \n",
       "43  44   2018-06-15                         Incredibles 2        200000000.0   \n",
       "4    5   2017-12-15     Star Wars Ep. VIII: The Last Jedi        317000000.0   \n",
       "\n",
       "    domestic_gross  worldwide_gross   total_gross        profit  \n",
       "0      760507625.0     2.776345e+09  3.536853e+09  3.111853e+09  \n",
       "5      936662225.0     2.053311e+09  2.989973e+09  2.683973e+09  \n",
       "42     659363944.0     2.208208e+09  2.867572e+09  2.667572e+09  \n",
       "6      678815482.0     2.048134e+09  2.726950e+09  2.426950e+09  \n",
       "33     652270625.0     1.648855e+09  2.301125e+09  2.086125e+09  \n",
       "26     623279547.0     1.517936e+09  2.141215e+09  1.916215e+09  \n",
       "41     700059566.0     1.348258e+09  2.048318e+09  1.848318e+09  \n",
       "66     353007020.0     1.518723e+09  1.871730e+09  1.681730e+09  \n",
       "43     608581744.0     1.242521e+09  1.851102e+09  1.651102e+09  \n",
       "4      620181382.0     1.316722e+09  1.936903e+09  1.619903e+09  "
      ]
     },
     "execution_count": 546,
     "metadata": {},
     "output_type": "execute_result"
    }
   ],
   "source": [
    "#Identify the top 10 movies with the highest profit\n",
    "#Sort the data by the profit column in descending order\n",
    "#Get the top 10 movies with the highest profit\n",
    "top_10_profit = the_number.sort_values(by='profit', ascending=False).head(10)\n",
    "top_10_profit"
   ]
  },
  {
   "cell_type": "code",
   "execution_count": 547,
   "metadata": {},
   "outputs": [
    {
     "data": {
      "text/html": [
       "<div>\n",
       "<style scoped>\n",
       "    .dataframe tbody tr th:only-of-type {\n",
       "        vertical-align: middle;\n",
       "    }\n",
       "\n",
       "    .dataframe tbody tr th {\n",
       "        vertical-align: top;\n",
       "    }\n",
       "\n",
       "    .dataframe thead th {\n",
       "        text-align: right;\n",
       "    }\n",
       "</style>\n",
       "<table border=\"1\" class=\"dataframe\">\n",
       "  <thead>\n",
       "    <tr style=\"text-align: right;\">\n",
       "      <th></th>\n",
       "      <th>production_budget</th>\n",
       "      <th>domestic_gross</th>\n",
       "      <th>worldwide_gross</th>\n",
       "      <th>profit</th>\n",
       "    </tr>\n",
       "  </thead>\n",
       "  <tbody>\n",
       "    <tr>\n",
       "      <th>production_budget</th>\n",
       "      <td>1.000000</td>\n",
       "      <td>0.685682</td>\n",
       "      <td>0.748306</td>\n",
       "      <td>0.643580</td>\n",
       "    </tr>\n",
       "    <tr>\n",
       "      <th>domestic_gross</th>\n",
       "      <td>0.685682</td>\n",
       "      <td>1.000000</td>\n",
       "      <td>0.938853</td>\n",
       "      <td>0.965476</td>\n",
       "    </tr>\n",
       "    <tr>\n",
       "      <th>worldwide_gross</th>\n",
       "      <td>0.748306</td>\n",
       "      <td>0.938853</td>\n",
       "      <td>1.000000</td>\n",
       "      <td>0.983933</td>\n",
       "    </tr>\n",
       "    <tr>\n",
       "      <th>profit</th>\n",
       "      <td>0.643580</td>\n",
       "      <td>0.965476</td>\n",
       "      <td>0.983933</td>\n",
       "      <td>1.000000</td>\n",
       "    </tr>\n",
       "  </tbody>\n",
       "</table>\n",
       "</div>"
      ],
      "text/plain": [
       "                   production_budget  domestic_gross  worldwide_gross  \\\n",
       "production_budget           1.000000        0.685682         0.748306   \n",
       "domestic_gross              0.685682        1.000000         0.938853   \n",
       "worldwide_gross             0.748306        0.938853         1.000000   \n",
       "profit                      0.643580        0.965476         0.983933   \n",
       "\n",
       "                     profit  \n",
       "production_budget  0.643580  \n",
       "domestic_gross     0.965476  \n",
       "worldwide_gross    0.983933  \n",
       "profit             1.000000  "
      ]
     },
     "execution_count": 547,
     "metadata": {},
     "output_type": "execute_result"
    }
   ],
   "source": [
    "#Correlation Analysis\n",
    "#Investigate correlations between the profit and other columns in the dataset such as production budget, domestic gross, worldwide gross\n",
    "#and total gross\n",
    "#Calculate the correlation between the profit and the other columns\n",
    "#Columns to be used are production_budget, domestic_gross, worldwide_gross and profit\n",
    "subset_df = the_number[['production_budget', 'domestic_gross', 'worldwide_gross', 'profit']]\n",
    "correlation = subset_df.corr()\n",
    "correlation\n"
   ]
  },
  {
   "cell_type": "code",
   "execution_count": 548,
   "metadata": {},
   "outputs": [
    {
     "data": {
      "text/plain": [
       "'\\nThe correlation between the profit and the other columns are as follows:\\n- production_budget: 0.688\\n- domestic_gross: 0.759\\n- worldwide_gross: 0.938\\n- profit: 1.0\\n\\nThe profit has a strong positive correlation with the production_budget, domestic_gross and worldwide_gross columns.\\nThis indicates that as the production_budget, domestic_gross and worldwide_gross increases, the profit also increases.\\n    \\n'"
      ]
     },
     "execution_count": 548,
     "metadata": {},
     "output_type": "execute_result"
    }
   ],
   "source": [
    "'''\n",
    "The correlation between the profit and the other columns are as follows:\n",
    "- production_budget: 0.688\n",
    "- domestic_gross: 0.759\n",
    "- worldwide_gross: 0.938\n",
    "- profit: 1.0\n",
    "\n",
    "The profit has a strong positive correlation with the production_budget, domestic_gross and worldwide_gross columns.\n",
    "This indicates that as the production_budget, domestic_gross and worldwide_gross increases, the profit also increases.\n",
    "    \n",
    "'''"
   ]
  },
  {
   "cell_type": "code",
   "execution_count": 549,
   "metadata": {},
   "outputs": [
    {
     "data": {
      "image/png": "[encoded data removed]",
      "text/plain": [
       "<Figure size 1000x600 with 1 Axes>"
      ]
     },
     "metadata": {},
     "output_type": "display_data"
    }
   ],
   "source": [
    "#Plot a scatter plot for the various columns to visualize the correlation\n",
    "#Production Budget vs Profit\n",
    "plt.figure(figsize=(10, 6))\n",
    "sns.scatterplot(x='production_budget', y='profit', data=subset_df)\n",
    "plt.title('Production Budget vs Profit')\n",
    "plt.xlabel('Production Budget')\n",
    "plt.ylabel('Profit')\n",
    "plt.show()\n"
   ]
  },
  {
   "cell_type": "code",
   "execution_count": 550,
   "metadata": {},
   "outputs": [
    {
     "data": {
      "text/plain": [
       "'\\nThe scatter plot shows that there is a positive correlation between the production budget and the profit.\\nAs the production budget increases, the profit also increases.\\n'"
      ]
     },
     "execution_count": 550,
     "metadata": {},
     "output_type": "execute_result"
    }
   ],
   "source": [
    "'''\n",
    "The scatter plot shows that there is a positive correlation between the production budget and the profit.\n",
    "As the production budget increases, the profit also increases.\n",
    "'''"
   ]
  },
  {
   "cell_type": "code",
   "execution_count": 551,
   "metadata": {},
   "outputs": [
    {
     "data": {
      "image/png": "[encoded data removed]",
      "text/plain": [
       "<Figure size 1000x600 with 1 Axes>"
      ]
     },
     "metadata": {},
     "output_type": "display_data"
    }
   ],
   "source": [
    "#Domestic Gross vs Profit\n",
    "plt.figure(figsize=(10, 6))\n",
    "sns.scatterplot(x='domestic_gross', y='profit', data=subset_df)\n",
    "plt.title('Domestic Gross vs Profit')\n",
    "plt.xlabel('Domestic Gross')\n",
    "plt.ylabel('Profit')\n",
    "plt.show()\n"
   ]
  },
  {
   "cell_type": "code",
   "execution_count": 552,
   "metadata": {},
   "outputs": [
    {
     "data": {
      "text/plain": [
       "'\\nThe scatter plot shows that there is a positive correlation between the domestic gross and the profit.\\nAs the domestic gross increases, the profit also increases.\\n'"
      ]
     },
     "execution_count": 552,
     "metadata": {},
     "output_type": "execute_result"
    }
   ],
   "source": [
    "'''\n",
    "The scatter plot shows that there is a positive correlation between the domestic gross and the profit.\n",
    "As the domestic gross increases, the profit also increases.\n",
    "'''"
   ]
  },
  {
   "cell_type": "code",
   "execution_count": 553,
   "metadata": {},
   "outputs": [
    {
     "data": {
      "image/png": "[encoded data removed]",
      "text/plain": [
       "<Figure size 1000x600 with 1 Axes>"
      ]
     },
     "metadata": {},
     "output_type": "display_data"
    }
   ],
   "source": [
    "#Worldwide Gross vs Profit\n",
    "plt.figure(figsize=(10, 6))\n",
    "sns.scatterplot(x='worldwide_gross', y='profit', data=subset_df)\n",
    "plt.title('Worldwide Gross vs Profit')\n",
    "plt.xlabel('Worldwide Gross')\n",
    "plt.ylabel('Profit')\n",
    "plt.show()\n"
   ]
  },
  {
   "cell_type": "code",
   "execution_count": 554,
   "metadata": {},
   "outputs": [
    {
     "data": {
      "text/plain": [
       "'\\nThe scatter plot shows that there is a positive correlation between the worldwide gross and the profit.\\nAs the worldwide gross increases, the profit also increases.\\n'"
      ]
     },
     "execution_count": 554,
     "metadata": {},
     "output_type": "execute_result"
    }
   ],
   "source": [
    "'''\n",
    "The scatter plot shows that there is a positive correlation between the worldwide gross and the profit.\n",
    "As the worldwide gross increases, the profit also increases.\n",
    "'''"
   ]
  },
  {
   "cell_type": "markdown",
   "metadata": {},
   "source": [
    "## b. Genre Analysis "
   ]
  },
  {
   "cell_type": "code",
   "execution_count": 555,
   "metadata": {},
   "outputs": [],
   "source": [
    "#Distribution of genres based on the rotten_tomatoes_master dataset\n",
    "#Group the data by genre and calculate the count of each genre\n",
    "genre_distribution = rotten_tomatoes_master['genre'].value_counts()\n",
    "\n",
    "# Identify the top 10 genres with the highest count\n",
    "top_10_genres = genre_distribution.head(10)"
   ]
  },
  {
   "cell_type": "code",
   "execution_count": 556,
   "metadata": {},
   "outputs": [
    {
     "data": {
      "image/png": "[encoded data removed]",
      "text/plain": [
       "<Figure size 1000x600 with 1 Axes>"
      ]
     },
     "metadata": {},
     "output_type": "display_data"
    }
   ],
   "source": [
    "# Plot the distribution of the top 10 genres\n",
    "plt.figure(figsize=(10, 6))\n",
    "top_10_genres.plot(kind='bar')\n",
    "plt.title('Distribution of Genres')\n",
    "plt.xlabel('Genre')\n",
    "plt.ylabel('Count')\n",
    "plt.show()\n"
   ]
  },
  {
   "cell_type": "code",
   "execution_count": 557,
   "metadata": {},
   "outputs": [
    {
     "data": {
      "text/plain": [
       "' \\nThe distribution of genres shows that the drama genre has the highest count followed by comedy and action.\\nThe least count is for the documentary genre.\\nThe top 10 genres with the highest count are drama, comedy, action, horror, thriller, adventure, romance, crime, sci-fi and fantasy.\\n'"
      ]
     },
     "execution_count": 557,
     "metadata": {},
     "output_type": "execute_result"
    }
   ],
   "source": [
    "''' \n",
    "The distribution of genres shows that the drama genre has the highest count followed by comedy and action.\n",
    "The least count is for the documentary genre.\n",
    "The top 10 genres with the highest count are drama, comedy, action, horror, thriller, adventure, romance, crime, sci-fi and fantasy.\n",
    "'''\n"
   ]
  },
  {
   "cell_type": "markdown",
   "metadata": {},
   "source": [
    "## c. Release Date Analysis"
   ]
  },
  {
   "cell_type": "code",
   "execution_count": 558,
   "metadata": {},
   "outputs": [
    {
     "data": {
      "image/png": "[encoded data removed]",
      "text/plain": [
       "<Figure size 1000x600 with 1 Axes>"
      ]
     },
     "metadata": {},
     "output_type": "display_data"
    }
   ],
   "source": [
    "#The months with the highest number of movie releases\n",
    "#Extract the month from the release_date column\n",
    "the_number['month'] = the_number['release_date'].dt.month\n",
    "\n",
    "#Group the data by month and calculate the count of movies released in each month\n",
    "month_distribution = the_number['month'].value_counts()\n",
    "\n",
    "#Identify the months with the highest number of movie releases\n",
    "top_months = month_distribution.head(10)\n",
    "\n",
    "#Plot the distribution of the top 10 months\n",
    "plt.figure(figsize=(10, 6))\n",
    "top_months.plot(kind='bar')\n",
    "plt.title('Distribution of Movies by Month')\n",
    "plt.xlabel('Month')\n",
    "plt.ylabel('Count')\n",
    "plt.show()\n",
    "\n"
   ]
  },
  {
   "cell_type": "code",
   "execution_count": 559,
   "metadata": {},
   "outputs": [
    {
     "data": {
      "text/plain": [
       "'\\nBased on the distribution of movies by month the month with the highest number of movie releases is December.\\nThe runner-up Months are October, August and September. \\nThis indicates that the months of December, October, August and September have the highest number of movie releases.\\n'"
      ]
     },
     "execution_count": 559,
     "metadata": {},
     "output_type": "execute_result"
    }
   ],
   "source": [
    "'''\n",
    "Based on the distribution of movies by month the month with the highest number of movie releases is December.\n",
    "The runner-up Months are October, August and September. \n",
    "This indicates that the months of December, October, August and September have the highest number of movie releases.\n",
    "'''"
   ]
  },
  {
   "cell_type": "code",
   "execution_count": 560,
   "metadata": {},
   "outputs": [
    {
     "data": {
      "image/png": "[encoded data removed]",
      "text/plain": [
       "<Figure size 1000x600 with 1 Axes>"
      ]
     },
     "metadata": {},
     "output_type": "display_data"
    }
   ],
   "source": [
    "#How has the frequency of movie releases changed over years\n",
    "#Extract year from the release_date column\n",
    "the_number['year'] = the_number['release_date'].dt.year\n",
    "\n",
    "#Group the data by year and calculate the count of movies released in each year\n",
    "year_distribution = the_number['year'].value_counts()\n",
    "\n",
    "#plot a graph to show the distribution of movies by year\n",
    "plt.figure(figsize=(10, 6))\n",
    "year_distribution.plot()\n",
    "plt.title('Distribution of Movies by Year')\n",
    "plt.xlabel('Year')\n",
    "plt.ylabel('Count')\n",
    "plt.show()"
   ]
  },
  {
   "cell_type": "code",
   "execution_count": 561,
   "metadata": {},
   "outputs": [
    {
     "data": {
      "text/plain": [
       "'\\nBased on the distribution of movies by year, the number of movie releases has been increasing over the years.\\nThe number of movie releases has been increasing steadily from 2010 to 2018.\\n'"
      ]
     },
     "execution_count": 561,
     "metadata": {},
     "output_type": "execute_result"
    }
   ],
   "source": [
    "'''\n",
    "Based on the distribution of movies by year, the number of movie releases has been increasing over the years.\n",
    "The number of movie releases has been increasing steadily from 2010 to 2018.\n",
    "'''"
   ]
  },
  {
   "cell_type": "code",
   "execution_count": 562,
   "metadata": {},
   "outputs": [
    {
     "data": {
      "text/html": [
       "<div>\n",
       "<style scoped>\n",
       "    .dataframe tbody tr th:only-of-type {\n",
       "        vertical-align: middle;\n",
       "    }\n",
       "\n",
       "    .dataframe tbody tr th {\n",
       "        vertical-align: top;\n",
       "    }\n",
       "\n",
       "    .dataframe thead th {\n",
       "        text-align: right;\n",
       "    }\n",
       "</style>\n",
       "<table border=\"1\" class=\"dataframe\">\n",
       "  <thead>\n",
       "    <tr style=\"text-align: right;\">\n",
       "      <th></th>\n",
       "      <th>release_date</th>\n",
       "      <th>profit</th>\n",
       "    </tr>\n",
       "  </thead>\n",
       "  <tbody>\n",
       "    <tr>\n",
       "      <th>release_date</th>\n",
       "      <td>1.000000</td>\n",
       "      <td>0.060909</td>\n",
       "    </tr>\n",
       "    <tr>\n",
       "      <th>profit</th>\n",
       "      <td>0.060909</td>\n",
       "      <td>1.000000</td>\n",
       "    </tr>\n",
       "  </tbody>\n",
       "</table>\n",
       "</div>"
      ],
      "text/plain": [
       "              release_date    profit\n",
       "release_date      1.000000  0.060909\n",
       "profit            0.060909  1.000000"
      ]
     },
     "execution_count": 562,
     "metadata": {},
     "output_type": "execute_result"
    }
   ],
   "source": [
    "#Correlation between release_dates and profit\n",
    "#Calculate the correlation between the release_date and profit columns\n",
    "correlation = the_number[['release_date', 'profit']].corr()\n",
    "correlation"
   ]
  },
  {
   "cell_type": "code",
   "execution_count": 563,
   "metadata": {},
   "outputs": [
    {
     "data": {
      "image/png": "[encoded data removed]",
      "text/plain": [
       "<Figure size 1000x600 with 1 Axes>"
      ]
     },
     "metadata": {},
     "output_type": "display_data"
    }
   ],
   "source": [
    "#Plot a scatter plot \n",
    "plt.figure(figsize=(10, 6))\n",
    "sns.scatterplot(x='release_date', y='profit', data=the_number)\n",
    "plt.title('Release Date vs Profit')\n",
    "plt.xlabel('Release Date')\n",
    "plt.ylabel('Profit')\n",
    "plt.show()"
   ]
  },
  {
   "cell_type": "code",
   "execution_count": 564,
   "metadata": {},
   "outputs": [
    {
     "data": {
      "text/plain": [
       "'\\nThe correlation between the release_date and profit columns is 0.060909 which indicates a weak positive correlation.\\n'"
      ]
     },
     "execution_count": 564,
     "metadata": {},
     "output_type": "execute_result"
    }
   ],
   "source": [
    "'''\n",
    "The correlation between the release_date and profit columns is 0.060909 which indicates a weak positive correlation.\n",
    "'''"
   ]
  },
  {
   "cell_type": "markdown",
   "metadata": {},
   "source": [
    "## d. Studio Analysis"
   ]
  },
  {
   "cell_type": "code",
   "execution_count": 565,
   "metadata": {},
   "outputs": [
    {
     "data": {
      "text/html": [
       "<div>\n",
       "<style scoped>\n",
       "    .dataframe tbody tr th:only-of-type {\n",
       "        vertical-align: middle;\n",
       "    }\n",
       "\n",
       "    .dataframe tbody tr th {\n",
       "        vertical-align: top;\n",
       "    }\n",
       "\n",
       "    .dataframe thead th {\n",
       "        text-align: right;\n",
       "    }\n",
       "</style>\n",
       "<table border=\"1\" class=\"dataframe\">\n",
       "  <thead>\n",
       "    <tr style=\"text-align: right;\">\n",
       "      <th></th>\n",
       "      <th>title</th>\n",
       "      <th>studio</th>\n",
       "      <th>domestic_gross</th>\n",
       "      <th>foreign_gross</th>\n",
       "      <th>year</th>\n",
       "      <th>total_gross</th>\n",
       "      <th>age_of_movie</th>\n",
       "    </tr>\n",
       "  </thead>\n",
       "  <tbody>\n",
       "    <tr>\n",
       "      <th>0</th>\n",
       "      <td>Toy Story 3</td>\n",
       "      <td>BV</td>\n",
       "      <td>415000000.0</td>\n",
       "      <td>652000000.0</td>\n",
       "      <td>2010</td>\n",
       "      <td>1.067000e+09</td>\n",
       "      <td>14</td>\n",
       "    </tr>\n",
       "    <tr>\n",
       "      <th>1</th>\n",
       "      <td>Alice in Wonderland (2010)</td>\n",
       "      <td>BV</td>\n",
       "      <td>334200000.0</td>\n",
       "      <td>691300000.0</td>\n",
       "      <td>2010</td>\n",
       "      <td>1.025500e+09</td>\n",
       "      <td>14</td>\n",
       "    </tr>\n",
       "    <tr>\n",
       "      <th>2</th>\n",
       "      <td>Harry Potter and the Deathly Hallows Part 1</td>\n",
       "      <td>WB</td>\n",
       "      <td>296000000.0</td>\n",
       "      <td>664300000.0</td>\n",
       "      <td>2010</td>\n",
       "      <td>9.603000e+08</td>\n",
       "      <td>14</td>\n",
       "    </tr>\n",
       "    <tr>\n",
       "      <th>3</th>\n",
       "      <td>Inception</td>\n",
       "      <td>WB</td>\n",
       "      <td>292600000.0</td>\n",
       "      <td>535700000.0</td>\n",
       "      <td>2010</td>\n",
       "      <td>8.283000e+08</td>\n",
       "      <td>14</td>\n",
       "    </tr>\n",
       "    <tr>\n",
       "      <th>4</th>\n",
       "      <td>Shrek Forever After</td>\n",
       "      <td>P/DW</td>\n",
       "      <td>238700000.0</td>\n",
       "      <td>513900000.0</td>\n",
       "      <td>2010</td>\n",
       "      <td>7.526000e+08</td>\n",
       "      <td>14</td>\n",
       "    </tr>\n",
       "  </tbody>\n",
       "</table>\n",
       "</div>"
      ],
      "text/plain": [
       "                                         title studio  domestic_gross  \\\n",
       "0                                  Toy Story 3     BV     415000000.0   \n",
       "1                   Alice in Wonderland (2010)     BV     334200000.0   \n",
       "2  Harry Potter and the Deathly Hallows Part 1     WB     296000000.0   \n",
       "3                                    Inception     WB     292600000.0   \n",
       "4                          Shrek Forever After   P/DW     238700000.0   \n",
       "\n",
       "   foreign_gross  year   total_gross  age_of_movie  \n",
       "0    652000000.0  2010  1.067000e+09            14  \n",
       "1    691300000.0  2010  1.025500e+09            14  \n",
       "2    664300000.0  2010  9.603000e+08            14  \n",
       "3    535700000.0  2010  8.283000e+08            14  \n",
       "4    513900000.0  2010  7.526000e+08            14  "
      ]
     },
     "execution_count": 565,
     "metadata": {},
     "output_type": "execute_result"
    }
   ],
   "source": [
    "box_office.head()"
   ]
  },
  {
   "cell_type": "code",
   "execution_count": 566,
   "metadata": {},
   "outputs": [
    {
     "data": {
      "text/html": [
       "<div>\n",
       "<style scoped>\n",
       "    .dataframe tbody tr th:only-of-type {\n",
       "        vertical-align: middle;\n",
       "    }\n",
       "\n",
       "    .dataframe tbody tr th {\n",
       "        vertical-align: top;\n",
       "    }\n",
       "\n",
       "    .dataframe thead th {\n",
       "        text-align: right;\n",
       "    }\n",
       "</style>\n",
       "<table border=\"1\" class=\"dataframe\">\n",
       "  <thead>\n",
       "    <tr style=\"text-align: right;\">\n",
       "      <th></th>\n",
       "      <th>id</th>\n",
       "      <th>release_date</th>\n",
       "      <th>movie</th>\n",
       "      <th>production_budget</th>\n",
       "      <th>domestic_gross</th>\n",
       "      <th>worldwide_gross</th>\n",
       "      <th>total_gross</th>\n",
       "      <th>profit</th>\n",
       "      <th>month</th>\n",
       "      <th>year</th>\n",
       "    </tr>\n",
       "  </thead>\n",
       "  <tbody>\n",
       "    <tr>\n",
       "      <th>0</th>\n",
       "      <td>1</td>\n",
       "      <td>2009-12-18</td>\n",
       "      <td>Avatar</td>\n",
       "      <td>425000000.0</td>\n",
       "      <td>760507625.0</td>\n",
       "      <td>2.776345e+09</td>\n",
       "      <td>3.536853e+09</td>\n",
       "      <td>3.111853e+09</td>\n",
       "      <td>12</td>\n",
       "      <td>2009</td>\n",
       "    </tr>\n",
       "    <tr>\n",
       "      <th>1</th>\n",
       "      <td>2</td>\n",
       "      <td>2011-05-20</td>\n",
       "      <td>Pirates of the Caribbean: On Stranger Tides</td>\n",
       "      <td>410600000.0</td>\n",
       "      <td>241063875.0</td>\n",
       "      <td>1.045664e+09</td>\n",
       "      <td>1.286728e+09</td>\n",
       "      <td>8.761278e+08</td>\n",
       "      <td>5</td>\n",
       "      <td>2011</td>\n",
       "    </tr>\n",
       "    <tr>\n",
       "      <th>2</th>\n",
       "      <td>3</td>\n",
       "      <td>2019-06-07</td>\n",
       "      <td>Dark Phoenix</td>\n",
       "      <td>350000000.0</td>\n",
       "      <td>42762350.0</td>\n",
       "      <td>1.497624e+08</td>\n",
       "      <td>1.925247e+08</td>\n",
       "      <td>-1.574753e+08</td>\n",
       "      <td>6</td>\n",
       "      <td>2019</td>\n",
       "    </tr>\n",
       "    <tr>\n",
       "      <th>3</th>\n",
       "      <td>4</td>\n",
       "      <td>2015-05-01</td>\n",
       "      <td>Avengers: Age of Ultron</td>\n",
       "      <td>330600000.0</td>\n",
       "      <td>459005868.0</td>\n",
       "      <td>1.403014e+09</td>\n",
       "      <td>1.862020e+09</td>\n",
       "      <td>1.531420e+09</td>\n",
       "      <td>5</td>\n",
       "      <td>2015</td>\n",
       "    </tr>\n",
       "    <tr>\n",
       "      <th>4</th>\n",
       "      <td>5</td>\n",
       "      <td>2017-12-15</td>\n",
       "      <td>Star Wars Ep. VIII: The Last Jedi</td>\n",
       "      <td>317000000.0</td>\n",
       "      <td>620181382.0</td>\n",
       "      <td>1.316722e+09</td>\n",
       "      <td>1.936903e+09</td>\n",
       "      <td>1.619903e+09</td>\n",
       "      <td>12</td>\n",
       "      <td>2017</td>\n",
       "    </tr>\n",
       "  </tbody>\n",
       "</table>\n",
       "</div>"
      ],
      "text/plain": [
       "   id release_date                                        movie  \\\n",
       "0   1   2009-12-18                                       Avatar   \n",
       "1   2   2011-05-20  Pirates of the Caribbean: On Stranger Tides   \n",
       "2   3   2019-06-07                                 Dark Phoenix   \n",
       "3   4   2015-05-01                      Avengers: Age of Ultron   \n",
       "4   5   2017-12-15            Star Wars Ep. VIII: The Last Jedi   \n",
       "\n",
       "   production_budget  domestic_gross  worldwide_gross   total_gross  \\\n",
       "0        425000000.0     760507625.0     2.776345e+09  3.536853e+09   \n",
       "1        410600000.0     241063875.0     1.045664e+09  1.286728e+09   \n",
       "2        350000000.0      42762350.0     1.497624e+08  1.925247e+08   \n",
       "3        330600000.0     459005868.0     1.403014e+09  1.862020e+09   \n",
       "4        317000000.0     620181382.0     1.316722e+09  1.936903e+09   \n",
       "\n",
       "         profit  month  year  \n",
       "0  3.111853e+09     12  2009  \n",
       "1  8.761278e+08      5  2011  \n",
       "2 -1.574753e+08      6  2019  \n",
       "3  1.531420e+09      5  2015  \n",
       "4  1.619903e+09     12  2017  "
      ]
     },
     "execution_count": 566,
     "metadata": {},
     "output_type": "execute_result"
    }
   ],
   "source": [
    "the_number.head()"
   ]
  },
  {
   "cell_type": "code",
   "execution_count": 567,
   "metadata": {},
   "outputs": [
    {
     "data": {
      "text/html": [
       "<div>\n",
       "<style scoped>\n",
       "    .dataframe tbody tr th:only-of-type {\n",
       "        vertical-align: middle;\n",
       "    }\n",
       "\n",
       "    .dataframe tbody tr th {\n",
       "        vertical-align: top;\n",
       "    }\n",
       "\n",
       "    .dataframe thead th {\n",
       "        text-align: right;\n",
       "    }\n",
       "</style>\n",
       "<table border=\"1\" class=\"dataframe\">\n",
       "  <thead>\n",
       "    <tr style=\"text-align: right;\">\n",
       "      <th></th>\n",
       "      <th>movie</th>\n",
       "      <th>studio</th>\n",
       "      <th>domestic_gross_x</th>\n",
       "      <th>foreign_gross</th>\n",
       "      <th>year_x</th>\n",
       "      <th>total_gross_x</th>\n",
       "      <th>age_of_movie</th>\n",
       "      <th>id</th>\n",
       "      <th>release_date</th>\n",
       "      <th>production_budget</th>\n",
       "      <th>domestic_gross_y</th>\n",
       "      <th>worldwide_gross</th>\n",
       "      <th>total_gross_y</th>\n",
       "      <th>profit</th>\n",
       "      <th>month</th>\n",
       "      <th>year_y</th>\n",
       "    </tr>\n",
       "  </thead>\n",
       "  <tbody>\n",
       "    <tr>\n",
       "      <th>0</th>\n",
       "      <td>Toy Story 3</td>\n",
       "      <td>BV</td>\n",
       "      <td>415000000.0</td>\n",
       "      <td>652000000.0</td>\n",
       "      <td>2010</td>\n",
       "      <td>1.067000e+09</td>\n",
       "      <td>14</td>\n",
       "      <td>47.0</td>\n",
       "      <td>2010-06-18</td>\n",
       "      <td>200000000.0</td>\n",
       "      <td>415004880.0</td>\n",
       "      <td>1.068880e+09</td>\n",
       "      <td>1.483884e+09</td>\n",
       "      <td>1.283884e+09</td>\n",
       "      <td>6.0</td>\n",
       "      <td>2010.0</td>\n",
       "    </tr>\n",
       "    <tr>\n",
       "      <th>1</th>\n",
       "      <td>Alice in Wonderland (2010)</td>\n",
       "      <td>BV</td>\n",
       "      <td>334200000.0</td>\n",
       "      <td>691300000.0</td>\n",
       "      <td>2010</td>\n",
       "      <td>1.025500e+09</td>\n",
       "      <td>14</td>\n",
       "      <td>NaN</td>\n",
       "      <td>NaT</td>\n",
       "      <td>NaN</td>\n",
       "      <td>NaN</td>\n",
       "      <td>NaN</td>\n",
       "      <td>NaN</td>\n",
       "      <td>NaN</td>\n",
       "      <td>NaN</td>\n",
       "      <td>NaN</td>\n",
       "    </tr>\n",
       "    <tr>\n",
       "      <th>2</th>\n",
       "      <td>Harry Potter and the Deathly Hallows Part 1</td>\n",
       "      <td>WB</td>\n",
       "      <td>296000000.0</td>\n",
       "      <td>664300000.0</td>\n",
       "      <td>2010</td>\n",
       "      <td>9.603000e+08</td>\n",
       "      <td>14</td>\n",
       "      <td>NaN</td>\n",
       "      <td>NaT</td>\n",
       "      <td>NaN</td>\n",
       "      <td>NaN</td>\n",
       "      <td>NaN</td>\n",
       "      <td>NaN</td>\n",
       "      <td>NaN</td>\n",
       "      <td>NaN</td>\n",
       "      <td>NaN</td>\n",
       "    </tr>\n",
       "    <tr>\n",
       "      <th>3</th>\n",
       "      <td>Inception</td>\n",
       "      <td>WB</td>\n",
       "      <td>292600000.0</td>\n",
       "      <td>535700000.0</td>\n",
       "      <td>2010</td>\n",
       "      <td>8.283000e+08</td>\n",
       "      <td>14</td>\n",
       "      <td>38.0</td>\n",
       "      <td>2010-07-16</td>\n",
       "      <td>160000000.0</td>\n",
       "      <td>292576195.0</td>\n",
       "      <td>8.355246e+08</td>\n",
       "      <td>1.128101e+09</td>\n",
       "      <td>9.681008e+08</td>\n",
       "      <td>7.0</td>\n",
       "      <td>2010.0</td>\n",
       "    </tr>\n",
       "    <tr>\n",
       "      <th>4</th>\n",
       "      <td>Shrek Forever After</td>\n",
       "      <td>P/DW</td>\n",
       "      <td>238700000.0</td>\n",
       "      <td>513900000.0</td>\n",
       "      <td>2010</td>\n",
       "      <td>7.526000e+08</td>\n",
       "      <td>14</td>\n",
       "      <td>27.0</td>\n",
       "      <td>2010-05-21</td>\n",
       "      <td>165000000.0</td>\n",
       "      <td>238736787.0</td>\n",
       "      <td>7.562447e+08</td>\n",
       "      <td>9.949815e+08</td>\n",
       "      <td>8.299815e+08</td>\n",
       "      <td>5.0</td>\n",
       "      <td>2010.0</td>\n",
       "    </tr>\n",
       "  </tbody>\n",
       "</table>\n",
       "</div>"
      ],
      "text/plain": [
       "                                         movie studio  domestic_gross_x  \\\n",
       "0                                  Toy Story 3     BV       415000000.0   \n",
       "1                   Alice in Wonderland (2010)     BV       334200000.0   \n",
       "2  Harry Potter and the Deathly Hallows Part 1     WB       296000000.0   \n",
       "3                                    Inception     WB       292600000.0   \n",
       "4                          Shrek Forever After   P/DW       238700000.0   \n",
       "\n",
       "   foreign_gross  year_x  total_gross_x  age_of_movie    id release_date  \\\n",
       "0    652000000.0    2010   1.067000e+09            14  47.0   2010-06-18   \n",
       "1    691300000.0    2010   1.025500e+09            14   NaN          NaT   \n",
       "2    664300000.0    2010   9.603000e+08            14   NaN          NaT   \n",
       "3    535700000.0    2010   8.283000e+08            14  38.0   2010-07-16   \n",
       "4    513900000.0    2010   7.526000e+08            14  27.0   2010-05-21   \n",
       "\n",
       "   production_budget  domestic_gross_y  worldwide_gross  total_gross_y  \\\n",
       "0        200000000.0       415004880.0     1.068880e+09   1.483884e+09   \n",
       "1                NaN               NaN              NaN            NaN   \n",
       "2                NaN               NaN              NaN            NaN   \n",
       "3        160000000.0       292576195.0     8.355246e+08   1.128101e+09   \n",
       "4        165000000.0       238736787.0     7.562447e+08   9.949815e+08   \n",
       "\n",
       "         profit  month  year_y  \n",
       "0  1.283884e+09    6.0  2010.0  \n",
       "1           NaN    NaN     NaN  \n",
       "2           NaN    NaN     NaN  \n",
       "3  9.681008e+08    7.0  2010.0  \n",
       "4  8.299815e+08    5.0  2010.0  "
      ]
     },
     "execution_count": 567,
     "metadata": {},
     "output_type": "execute_result"
    }
   ],
   "source": [
    "# Merge the box_office and the_number datasets on the movie column\n",
    "# This is to analyze the performance of studios based on profit of the movies\n",
    "#Rename the title column in box_office dataset to movie to facilitate merging\n",
    "box_office.rename(columns={'title': 'movie'}, inplace=True)\n",
    "studio_profit = box_office.merge(the_number, how='left', on='movie')\n",
    "studio_profit.head()"
   ]
  },
  {
   "cell_type": "code",
   "execution_count": 568,
   "metadata": {},
   "outputs": [
    {
     "name": "stdout",
     "output_type": "stream",
     "text": [
      "movie                  0\n",
      "studio                 0\n",
      "domestic_gross_x       0\n",
      "foreign_gross          0\n",
      "year_x                 0\n",
      "total_gross_x          0\n",
      "age_of_movie           0\n",
      "id                   931\n",
      "release_date         931\n",
      "production_budget    931\n",
      "domestic_gross_y     931\n",
      "worldwide_gross      931\n",
      "total_gross_y        931\n",
      "profit               931\n",
      "month                931\n",
      "year_y               931\n",
      "dtype: int64\n",
      "<class 'pandas.core.frame.DataFrame'>\n",
      "RangeIndex: 2014 entries, 0 to 2013\n",
      "Data columns (total 16 columns):\n",
      " #   Column             Non-Null Count  Dtype         \n",
      "---  ------             --------------  -----         \n",
      " 0   movie              2014 non-null   object        \n",
      " 1   studio             2014 non-null   object        \n",
      " 2   domestic_gross_x   2014 non-null   float64       \n",
      " 3   foreign_gross      2014 non-null   float64       \n",
      " 4   year_x             2014 non-null   int64         \n",
      " 5   total_gross_x      2014 non-null   float64       \n",
      " 6   age_of_movie       2014 non-null   int64         \n",
      " 7   id                 1083 non-null   float64       \n",
      " 8   release_date       1083 non-null   datetime64[ns]\n",
      " 9   production_budget  1083 non-null   float64       \n",
      " 10  domestic_gross_y   1083 non-null   float64       \n",
      " 11  worldwide_gross    1083 non-null   float64       \n",
      " 12  total_gross_y      1083 non-null   float64       \n",
      " 13  profit             1083 non-null   float64       \n",
      " 14  month              1083 non-null   float64       \n",
      " 15  year_y             1083 non-null   float64       \n",
      "dtypes: datetime64[ns](1), float64(11), int64(2), object(2)\n",
      "memory usage: 251.9+ KB\n"
     ]
    }
   ],
   "source": [
    "#Check for the null values after merging\n",
    "null_values = studio_profit.isnull()\n",
    "print(null_values.sum())\n",
    "\n",
    "studio_profit.info()\n"
   ]
  },
  {
   "cell_type": "code",
   "execution_count": 570,
   "metadata": {},
   "outputs": [
    {
     "name": "stdout",
     "output_type": "stream",
     "text": [
      "movie                0\n",
      "studio               0\n",
      "domestic_gross_x     0\n",
      "foreign_gross        0\n",
      "year_x               0\n",
      "total_gross_x        0\n",
      "age_of_movie         0\n",
      "id                   0\n",
      "release_date         0\n",
      "production_budget    0\n",
      "domestic_gross_y     0\n",
      "worldwide_gross      0\n",
      "total_gross_y        0\n",
      "profit               0\n",
      "month                0\n",
      "year_y               0\n",
      "dtype: int64\n"
     ]
    }
   ],
   "source": [
    "#Addressing missing values in the studio_profit dataset\n",
    "#Drop missing values for id column since the number of missing values is not too many\n",
    "studio_profit.dropna(subset=['id'], inplace=True)\n",
    "\n",
    "#Drop missing values for release date column since the number of missing values is not too many\n",
    "studio_profit.dropna(subset= ['release_date'], inplace=True)    \n",
    "\n",
    "#Drop missing values of the production_budget column since the number of missing values is not too many\n",
    "studio_profit.dropna(subset= ['production_budget'], inplace=True)\n",
    "\n",
    "#Drop missing values of the domestic_gross_y column since the number of missing values is not too many\n",
    "studio_profit.dropna(subset= ['domestic_gross_y'], inplace=True)\n",
    "\n",
    "#Drop missing values of the worldwide_gross_y column since the number of missing values is not too many\n",
    "studio_profit.dropna(subset= ['worldwide_gross'], inplace=True)\n",
    "\n",
    "#Drop missing values of the total_gross_y column since the number of missing values is not too many\n",
    "studio_profit.dropna(subset= ['total_gross_y'], inplace=True)\n",
    "\n",
    "#Drop missing values of the profit column since the number of missing values is not too many\n",
    "studio_profit.dropna(subset= ['profit'], inplace=True)\n",
    "\n",
    "#Drop missing values of the month column since the number of missing values is not too many\n",
    "studio_profit.dropna(subset= ['month'], inplace=True)\n",
    "\n",
    "#Drop missing values of the year_y column since the number of missing values is not too many\n",
    "studio_profit.dropna(subset= ['year_y'], inplace=True)\n",
    "\n",
    "\n",
    "\n",
    "#Check if there any more missing values\n",
    "null_values = studio_profit.isnull()\n",
    "print(null_values.sum())\n",
    "\n"
   ]
  },
  {
   "cell_type": "code",
   "execution_count": 571,
   "metadata": {},
   "outputs": [
    {
     "name": "stdout",
     "output_type": "stream",
     "text": [
      "<class 'pandas.core.frame.DataFrame'>\n",
      "Index: 1083 entries, 0 to 2008\n",
      "Data columns (total 16 columns):\n",
      " #   Column             Non-Null Count  Dtype         \n",
      "---  ------             --------------  -----         \n",
      " 0   movie              1083 non-null   object        \n",
      " 1   studio             1083 non-null   object        \n",
      " 2   domestic_gross_x   1083 non-null   float64       \n",
      " 3   foreign_gross      1083 non-null   float64       \n",
      " 4   year_x             1083 non-null   int64         \n",
      " 5   total_gross_x      1083 non-null   float64       \n",
      " 6   age_of_movie       1083 non-null   int64         \n",
      " 7   id                 1083 non-null   float64       \n",
      " 8   release_date       1083 non-null   datetime64[ns]\n",
      " 9   production_budget  1083 non-null   float64       \n",
      " 10  domestic_gross_y   1083 non-null   float64       \n",
      " 11  worldwide_gross    1083 non-null   float64       \n",
      " 12  total_gross_y      1083 non-null   float64       \n",
      " 13  profit             1083 non-null   float64       \n",
      " 14  month              1083 non-null   float64       \n",
      " 15  year_y             1083 non-null   float64       \n",
      "dtypes: datetime64[ns](1), float64(11), int64(2), object(2)\n",
      "memory usage: 143.8+ KB\n"
     ]
    }
   ],
   "source": [
    "studio_profit.info()"
   ]
  },
  {
   "cell_type": "code",
   "execution_count": 572,
   "metadata": {},
   "outputs": [
    {
     "data": {
      "text/plain": [
       "studio\n",
       "P/DW        5.426942e+08\n",
       "BV          5.248488e+08\n",
       "UTV         2.975464e+08\n",
       "WB (NL)     2.717671e+08\n",
       "Uni.        2.687045e+08\n",
       "Sony        2.650172e+08\n",
       "Fox         2.633269e+08\n",
       "GrtIndia    2.524887e+08\n",
       "MBox        2.518898e+08\n",
       "WB          2.315751e+08\n",
       "Name: profit, dtype: float64"
      ]
     },
     "execution_count": 572,
     "metadata": {},
     "output_type": "execute_result"
    }
   ],
   "source": [
    "# Identify the top 10 studios with movies with the highest profit\n",
    "# Group the data by studio and calculate the mean of the profit column\n",
    "top_10_studios = studio_profit.groupby('studio')['profit'].mean().sort_values(ascending=False).head(10)\n",
    "top_10_studios"
   ]
  },
  {
   "cell_type": "code",
   "execution_count": 576,
   "metadata": {},
   "outputs": [
    {
     "data": {
      "image/png": "[encoded data removed]",
      "text/plain": [
       "<Figure size 1000x600 with 1 Axes>"
      ]
     },
     "metadata": {},
     "output_type": "display_data"
    }
   ],
   "source": [
    "#Plot the distribution of the top 10 studios\n",
    "plt.figure(figsize=(10, 6))\n",
    "top_10_studios.plot(kind='bar')\n",
    "plt.title('Top 10 Movie Studios Raking in the Highest Profits')\n",
    "plt.xlabel('Studio')\n",
    "plt.ylabel('Profit')\n",
    "plt.show()"
   ]
  },
  {
   "cell_type": "code",
   "execution_count": 574,
   "metadata": {},
   "outputs": [
    {
     "data": {
      "text/plain": [
       "'\\nThe bar chart shows how the top 10 studios have performed based on the profit of the movies.\\nThe studio with the highest profit is P/DW studio followed by BV and UTV.\\nThis indicates that the movies produced by P/DW studio have the highest profit.\\n'"
      ]
     },
     "execution_count": 574,
     "metadata": {},
     "output_type": "execute_result"
    }
   ],
   "source": [
    "'''\n",
    "The bar chart shows how the top 10 studios have performed based on the profit of the movies.\n",
    "The studio with the highest profit is P/DW studio followed by BV and UTV.\n",
    "This indicates that the movies produced by P/DW studio have the highest profit.\n",
    "'''"
   ]
  },
  {
   "cell_type": "markdown",
   "metadata": {},
   "source": [
    "# Conclusion and Recommendations"
   ]
  },
  {
   "cell_type": "markdown",
   "metadata": {},
   "source": [
    "## Conclusion\n",
    "The analysis conducted on various aspects of the movie in the industry provided valuable insights into box office performance, genre trends release patterns, and studio performance. The key findings from the analysis are as follows:\n",
    "\n",
    "1. Box Office Performance:\n",
    "- The distribution of domestic and worldwide gross revenue is right-skewed, with a few movies generating high revenue.\n",
    "- Despite fluctuations, there is an overall increasing trend in domestic and worldwide gross revenues from 2010 to 2018, with a peak observed in 2018.\n",
    "- Profitability also follows a similar trend, with steady growth observed until 2018, followed by a slight decline.\n",
    "\n",
    "2. Genre Analysis:\n",
    "- Drama, comedy and action genres are the most prevelant, while documentary has the least representation.\n",
    "- Adventure, animation, and sci-fi genres are the most profitable, with the highest median gross revenue.\n",
    "- Horror, thriller, and documentary genres have the lowest median gross revenue.\n",
    "- The distribution of genres suggests prefences among audiences, which can inform Microsoft's decision on the types of movies to produce.\n",
    "\n",
    "3. Release Date Analysis:\n",
    "- December emerges as the month with the highest number of movie releases, followed by October, August and September\n",
    "- There is a consistent increase in the number of movie releases over the years, indicating growth and competitiveness in the industry.\n",
    "\n",
    "4. Studio Analysis:\n",
    "- Certain studios have consistently produced high-grossing movies, such as Buena Vista, P/DW studio and UTV studios."
   ]
  },
  {
   "cell_type": "markdown",
   "metadata": {},
   "source": [
    "## Recommendations\n",
    "Based on the findings from the analysis, the following recommendations are proposed for Microsoft's movie studio venture:\n",
    "1. Content Strategy:\n",
    "- Focus on producing movies in drama, comedy, action, adventure, animation, and sci-fi genres, as they have shown to be the most profitable.\n",
    "- Consider the preferences of the target audience when selecting genres, as this can influence the success of the movie.\n",
    "- Consider diversifying content to include genres with lower representation, such as documentary, to cater to niche audiences.\n",
    "\n",
    "2. Release Strategy:\n",
    "- Strategically plan movie releases to capitalize on peak months such as December, October, August and September when audience is high.\n",
    "- Avoid releasing movies during low-performing months to maximize box office revenue.\n",
    "- Analyze historical release patterns and audience preferences to optimize release dates for maximum exposure and box office success.\n",
    "\n",
    "3. Partnerships and Investments:\n",
    "- Explore partnerships or collaborations with successful studios like P/DW studio, BV and UTV to leverage their expertise and resources in movie production.\n",
    "- Invest in content creation and talent acquisition strategies aligned with identified genre preferences and audience trends.\n",
    "\n",
    "4. Data-Driven Decision Making\n",
    "- Continuously monitor industry trends, box office performance metrics and audience preferences using data analytics to inform strategic decision making\n",
    "- Adapt and iterate content strategies based on ongoing analysis and feedback to stay competitive and responsive to market dynamics\n",
    "\n",
    "By implementing these recommendations, Microsoft's movie studio can enhance its chances of success in the competitve industry landscape and establish itselt as a prominent player in content creation and entertainment.\n"
   ]
  }
 ],
 "metadata": {
  "kernelspec": {
   "display_name": "Python 3",
   "language": "python",
   "name": "python3"
  },
  "language_info": {
   "codemirror_mode": {
    "name": "ipython",
    "version": 3
   },
   "file_extension": ".py",
   "mimetype": "text/x-python",
   "name": "python",
   "nbconvert_exporter": "python",
   "pygments_lexer": "ipython3",
   "version": "3.11.5"
  }
 },
 "nbformat": 4,
 "nbformat_minor": 2
}
