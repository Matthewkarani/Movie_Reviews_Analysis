{
 "cells": [
  {
   "cell_type": "markdown",
   "source": [
    "\n",
    "![awesome](https://encrypted-tbn0.gstatic.com/images?q=tbn:ANd9GcRAxcWdFnxoJ-fbtMa4vBBr7ziFr0g7uWYshA&s)\n",
    "\n",
    "\n",
    "# HOW, WHERE, WHEN SHOULD MICROSOFT INVEST INTO THE MOVIE INDUSTRY \n",
    "\n",
    "---\n",
    "\n",
    "\n",
    "**Author** : [Matthew Karani](mailto:mkmkarani@gmail.com)\n",
    "\n",
    "\n",
    "\n",
    "## Project Overview\n",
    "\n",
    "---\n",
    "\n",
    "###### For this project, you will use exploratory data analysis to generate insights for a business stakeholder.\n",
    "This project aims to explore the possibility of the well-known tech giant, Microsoft , trying it's stake in the lucrative  \n",
    "movie industry. This project will use datasets from movie industry giants such as box office to analyse the trends in \n",
    "movie industry so as to determine the best course of action that Microsoft \n",
    "should persue in order to make a big entry into the movie industry as is fitting\n",
    "for a company of its stature.\n",
    "\n",
    "\n",
    "### Business Problem\n",
    "\n",
    "---\n",
    "\n",
    "Microsoft sees all the big companies creating original video content and they want to get in on the fun. They have decided to create a new movie studio, but they don’t know anything about creating movies. You are charged with exploring what types of films are currently doing the best at the box office. You must then translate those findings into actionable insights that the head of Microsoft's new movie studio can use to help decide what type of films to create.\n",
    "\n",
    "\n",
    " \n",
    "\n",
    "\n",
    "\n",
    "### Data\n",
    "\n",
    "---\n",
    "\n",
    "#### *Data Sources*\n",
    "\n",
    "In the folder `zippedData` are movie datasets from:\n",
    "\n",
    "* [Box Office Mojo](https://www.boxofficemojo.com/)\n",
    "* [IMDB](https://www.imdb.com/)\n",
    "\n",
    "#### *Data Description*\n",
    "\n",
    "The above datasets have the following features: \n",
    "\n",
    "* Box Office Dataset\n",
    "    * a                         \n",
    "    * b\n",
    "    * c\n",
    "    * d\n",
    "    * e\n",
    "    * f\n",
    "* IMDB Dataset\n",
    "    * a\n",
    "    * b\n",
    "    * c\n",
    "    * d\n",
    "    * e\n",
    "    * f\n",
    "\n",
    "\n"
   ],
   "metadata": {
    "collapsed": false
   },
   "id": "a228362bb1b8ea25"
  },
  {
   "cell_type": "code",
   "outputs": [],
   "source": [],
   "metadata": {
    "collapsed": true
   },
   "id": "initial_id",
   "execution_count": 0
  },
  {
   "cell_type": "markdown",
   "source": [
    "## Data Summary \n",
    "This section includes : \n",
    "   * Statistical summaries such as mean, mode, range, variance and standard deviation \n",
    "   * Summary Tables\n",
    "   * Data type identification: identifying whether variables are numerical, categorical or ordinal. \n",
    "\n",
    "\n"
   ],
   "metadata": {
    "collapsed": false
   },
   "id": "74824f037a4f86d2"
  },
  {
   "cell_type": "code",
   "outputs": [],
   "source": [],
   "metadata": {
    "collapsed": false
   },
   "id": "dac72a3f505177c1"
  },
  {
   "cell_type": "markdown",
   "source": [
    "## Univariate Analysis\n",
    "This is the analysis of individual features in the movies data set and their impact / trend over the past years. "
   ],
   "metadata": {
    "collapsed": false
   },
   "id": "4c1a52dee125e9b"
  }
 ],
 "metadata": {
  "kernelspec": {
   "display_name": "Python 3",
   "language": "python",
   "name": "python3"
  },
  "language_info": {
   "codemirror_mode": {
    "name": "ipython",
    "version": 2
   },
   "file_extension": ".py",
   "mimetype": "text/x-python",
   "name": "python",
   "nbconvert_exporter": "python",
   "pygments_lexer": "ipython2",
   "version": "2.7.6"
  }
 },
 "nbformat": 4,
 "nbformat_minor": 5
}
